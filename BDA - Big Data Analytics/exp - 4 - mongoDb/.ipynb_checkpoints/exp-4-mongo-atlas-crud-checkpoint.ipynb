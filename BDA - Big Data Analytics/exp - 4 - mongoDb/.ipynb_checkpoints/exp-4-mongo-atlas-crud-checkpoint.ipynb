{
 "cells": [
  {
   "cell_type": "markdown",
   "id": "f2c5aa15",
   "metadata": {},
   "source": [
    "# Atharva Pawar - Comps-A [Batch-D]\n",
    "\n",
    "BDA - EXP - 4 : MongoDB CRUD Cmds"
   ]
  },
  {
   "cell_type": "code",
   "execution_count": 10,
   "id": "29b3d0aa",
   "metadata": {},
   "outputs": [],
   "source": [
    "# pip install pymongo\n",
    "import pymongo\n",
    "\n",
    "client = pymongo.MongoClient(\"mongodb://localhost:27017/\")"
   ]
  },
  {
   "cell_type": "code",
   "execution_count": 11,
   "id": "d84dec10",
   "metadata": {},
   "outputs": [],
   "source": [
    "db = client['GTA']\n",
    "collection = db['mySampleCollection']"
   ]
  },
  {
   "cell_type": "markdown",
   "id": "3c469a8e",
   "metadata": {},
   "source": [
    "# Insert"
   ]
  },
  {
   "cell_type": "code",
   "execution_count": 12,
   "id": "27f7b9d6",
   "metadata": {
    "scrolled": true
   },
   "outputs": [
    {
     "data": {
      "text/plain": [
       "<pymongo.results.InsertOneResult at 0x2574ac0e050>"
      ]
     },
     "execution_count": 12,
     "metadata": {},
     "output_type": "execute_result"
    }
   ],
   "source": [
    "new_student = {'_id':1, 'name':'Omkar','location':'mumbai', 'Marks': 90, 'Pass':'No'}\n",
    "collection.insert_one(new_student)"
   ]
  },
  {
   "cell_type": "markdown",
   "id": "e7777480",
   "metadata": {},
   "source": [
    "# find()"
   ]
  },
  {
   "cell_type": "code",
   "execution_count": 9,
   "id": "a4416e62",
   "metadata": {},
   "outputs": [
    {
     "name": "stdout",
     "output_type": "stream",
     "text": [
      "{'_id': 5, 'name': 'Gtapawar', 'location': 'pune', 'Marks': 34}\n",
      "{'_id': 1, 'name': 'Omkar', 'location': 'mumbai', 'Marks': 46}\n"
     ]
    }
   ],
   "source": [
    "all_students = collection.find()\n",
    "for item in all_students:\n",
    "    print(item)"
   ]
  },
  {
   "cell_type": "code",
   "execution_count": 7,
   "id": "34ff92de",
   "metadata": {},
   "outputs": [
    {
     "name": "stdout",
     "output_type": "stream",
     "text": [
      "{'_id': 1, 'name': 'Omkar', 'location': 'mumbai', 'Marks': 90}\n"
     ]
    }
   ],
   "source": [
    "specific_student = collection.find_one({'name': 'Omkar'})\n",
    "print(specific_student)"
   ]
  },
  {
   "cell_type": "markdown",
   "id": "ca02991f",
   "metadata": {},
   "source": [
    "# update_one() or update_many()"
   ]
  },
  {
   "cell_type": "code",
   "execution_count": 8,
   "id": "f02f020d",
   "metadata": {},
   "outputs": [
    {
     "data": {
      "text/plain": [
       "<pymongo.results.UpdateResult at 0x2574ac0df90>"
      ]
     },
     "execution_count": 8,
     "metadata": {},
     "output_type": "execute_result"
    }
   ],
   "source": [
    "# Update a single document\n",
    "collection.update_one({'name': 'Omkar'}, {'$set': {'Marks': 46}})\n"
   ]
  },
  {
   "cell_type": "code",
   "execution_count": null,
   "id": "68ea9baa",
   "metadata": {},
   "outputs": [],
   "source": [
    "# Update multiple documents\n",
    "collection.update_many({'Marks': {'$lt': 34}}, {'$set': {'status': 'pass'}})"
   ]
  },
  {
   "cell_type": "code",
   "execution_count": 29,
   "id": "6414aba5",
   "metadata": {},
   "outputs": [
    {
     "name": "stdout",
     "output_type": "stream",
     "text": [
      "{'_id': 1, 'name': 'Gtapawar', 'location': 'pune', 'Marks': 341234}\n",
      "{'_id': 2, 'name': 'Gtapawar1', 'location': 'pune1', 'Marks': 342}\n",
      "{'_id': 3, 'name': 'Gtapawar2', 'location': 'pune2', 'Marks': 342}\n"
     ]
    }
   ],
   "source": [
    "all_students = collection.find()\n",
    "for item in all_students:\n",
    "    print(item)"
   ]
  },
  {
   "cell_type": "markdown",
   "id": "68939d65",
   "metadata": {},
   "source": [
    "# Delete"
   ]
  },
  {
   "cell_type": "code",
   "execution_count": 24,
   "id": "ee22169d",
   "metadata": {},
   "outputs": [
    {
     "data": {
      "text/plain": [
       "<pymongo.results.DeleteResult at 0x1afb7e79db0>"
      ]
     },
     "execution_count": 24,
     "metadata": {},
     "output_type": "execute_result"
    }
   ],
   "source": [
    "collection.delete_one({'Marks': 34})"
   ]
  },
  {
   "cell_type": "code",
   "execution_count": 28,
   "id": "97f9dde8",
   "metadata": {},
   "outputs": [
    {
     "data": {
      "text/plain": [
       "<pymongo.results.DeleteResult at 0x1afb7e79d80>"
      ]
     },
     "execution_count": 28,
     "metadata": {},
     "output_type": "execute_result"
    }
   ],
   "source": [
    "collection.delete_many({'Marks': {'$lt': 342}})"
   ]
  },
  {
   "cell_type": "code",
   "execution_count": 31,
   "id": "e44c999b",
   "metadata": {},
   "outputs": [
    {
     "name": "stdout",
     "output_type": "stream",
     "text": [
      "3\n"
     ]
    }
   ],
   "source": [
    "# Count docs\n",
    "print(collection.count_documents({}))"
   ]
  }
 ],
 "metadata": {
  "kernelspec": {
   "display_name": "Python 3 (ipykernel)",
   "language": "python",
   "name": "python3"
  },
  "language_info": {
   "codemirror_mode": {
    "name": "ipython",
    "version": 3
   },
   "file_extension": ".py",
   "mimetype": "text/x-python",
   "name": "python",
   "nbconvert_exporter": "python",
   "pygments_lexer": "ipython3",
   "version": "3.11.3"
  }
 },
 "nbformat": 4,
 "nbformat_minor": 5
}
