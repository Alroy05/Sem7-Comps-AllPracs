{
  "nbformat": 4,
  "nbformat_minor": 0,
  "metadata": {
    "colab": {
      "provenance": []
    },
    "kernelspec": {
      "name": "python3",
      "display_name": "Python 3"
    },
    "language_info": {
      "name": "python"
    }
  },
  "cells": [
    {
      "cell_type": "markdown",
      "source": [
        "## NLP - EXP - 4\n",
        "\n",
        "Atharva Prashant Pawar (9427) - [ Batch - D ]"
      ],
      "metadata": {
        "id": "4e-A-Hkhm5nq"
      }
    },
    {
      "cell_type": "markdown",
      "source": [
        "Test2 : Implement N-gram model for sentiment analysis and analyze the effect of different value of N on the model. prediction"
      ],
      "metadata": {
        "id": "WWGAC_d8nAeM"
      }
    },
    {
      "cell_type": "code",
      "execution_count": 1,
      "metadata": {
        "colab": {
          "base_uri": "https://localhost:8080/",
          "height": 0
        },
        "id": "ZfOq5OQpm3TG",
        "outputId": "901b8abf-4ad9-42c7-a344-9b1ac9a9a927"
      },
      "outputs": [
        {
          "output_type": "stream",
          "name": "stdout",
          "text": [
            "Requirement already satisfied: nltk in /usr/local/lib/python3.10/dist-packages (3.8.1)\n",
            "Requirement already satisfied: click in /usr/local/lib/python3.10/dist-packages (from nltk) (8.1.7)\n",
            "Requirement already satisfied: joblib in /usr/local/lib/python3.10/dist-packages (from nltk) (1.3.2)\n",
            "Requirement already satisfied: regex>=2021.8.3 in /usr/local/lib/python3.10/dist-packages (from nltk) (2023.6.3)\n",
            "Requirement already satisfied: tqdm in /usr/local/lib/python3.10/dist-packages (from nltk) (4.66.1)\n"
          ]
        }
      ],
      "source": [
        "!pip install nltk"
      ]
    },
    {
      "cell_type": "code",
      "source": [
        "import nltk\n",
        "from nltk.corpus import movie_reviews\n",
        "from nltk.tokenize import word_tokenize\n",
        "from nltk.util import ngrams\n",
        "from nltk.probability import FreqDist, ConditionalFreqDist\n",
        "from nltk.classify import NaiveBayesClassifier\n",
        "from nltk.classify.util import accuracy\n",
        "\n",
        "# movie reviews dataset\n",
        "nltk.download('movie_reviews')\n",
        "positive_reviews = [(list(movie_reviews.words(fileid)), 'positive') for fileid in movie_reviews.fileids('pos')]\n",
        "negative_reviews = [(list(movie_reviews.words(fileid)), 'negative') for fileid in movie_reviews.fileids('neg')]\n",
        "all_reviews = positive_reviews + negative_reviews"
      ],
      "metadata": {
        "colab": {
          "base_uri": "https://localhost:8080/",
          "height": 0
        },
        "id": "ydap0C53nH04",
        "outputId": "4437fb8a-91eb-44b0-b2c8-bc2b97a94206"
      },
      "execution_count": 8,
      "outputs": [
        {
          "output_type": "stream",
          "name": "stderr",
          "text": [
            "[nltk_data] Downloading package movie_reviews to /root/nltk_data...\n",
            "[nltk_data]   Package movie_reviews is already up-to-date!\n"
          ]
        }
      ]
    },
    {
      "cell_type": "code",
      "source": [
        "# Define the N for N-grams\n",
        "# N = 2"
      ],
      "metadata": {
        "id": "J8nziGQ-nXkD"
      },
      "execution_count": 4,
      "outputs": []
    },
    {
      "cell_type": "code",
      "source": [
        "def preproccess(N):\n",
        "  all_ngrams = [ngrams(review, N) for review, _ in all_reviews]  # Createing N-grams for all reviews\n",
        "\n",
        "  flat_ngrams = [ng for ngram_list in all_ngrams for ng in ngram_list] # Flatten N-grams\n",
        "\n",
        "  ngram_freq_dist = FreqDist(flat_ngrams)  # Frequency distribution of N-grams\n",
        "\n",
        "  # Conditional frequency distribution of N-grams based on sentiment\n",
        "  cfd = ConditionalFreqDist([(ng, sentiment) for ng, sentiment in zip(flat_ngrams, [sent for _, sent in all_reviews])])\n",
        "\n",
        "  # function to extract features from a review\n",
        "  def extract_features(review):\n",
        "      features = {}\n",
        "      for ng in ngrams(review, N):\n",
        "          features[' '.join(ng)] = True\n",
        "      return features\n",
        "\n",
        "  featuresets = [(extract_features(review), sentiment) for review, sentiment in all_reviews] # Createing feature sets\n",
        "\n",
        "  train_set, test_set = featuresets[:1600], featuresets[1600:] # Split train and test sets\n",
        "\n",
        "  classifier = NaiveBayesClassifier.train(train_set) # Train Naive Bayes classifier\n",
        "\n",
        "  # Test the classifier\n",
        "  accuracy_score = accuracy(classifier, test_set)\n",
        "  print(\"Accuracy:\", accuracy_score)\n",
        "  return { \"N\" : N, \"Accuracy\" : accuracy_score}"
      ],
      "metadata": {
        "id": "W-5PvCklnWOS"
      },
      "execution_count": 10,
      "outputs": []
    },
    {
      "cell_type": "code",
      "source": [
        "Nval = 5\n",
        "result = []\n",
        "for nItem in range(Nval):\n",
        "  outResult = preproccess(nItem)\n",
        "  result.append(outResult)"
      ],
      "metadata": {
        "colab": {
          "base_uri": "https://localhost:8080/",
          "height": 0
        },
        "id": "xCVJB6wMnJye",
        "outputId": "288a8e6d-d3f2-4d8f-d8fb-12e122c8bdf9"
      },
      "execution_count": 22,
      "outputs": [
        {
          "output_type": "stream",
          "name": "stdout",
          "text": [
            "Accuracy: 0.0\n",
            "Accuracy: 0.4525\n",
            "Accuracy: 0.73\n",
            "Accuracy: 0.89\n",
            "Accuracy: 0.915\n"
          ]
        }
      ]
    },
    {
      "cell_type": "code",
      "source": [
        "print(result)"
      ],
      "metadata": {
        "colab": {
          "base_uri": "https://localhost:8080/",
          "height": 0
        },
        "id": "7xGYWdqfnx6L",
        "outputId": "029d295a-4baf-4f33-bf3c-1b0108b85222"
      },
      "execution_count": 23,
      "outputs": [
        {
          "output_type": "stream",
          "name": "stdout",
          "text": [
            "[{'N': 0, 'Accuracy': 0.0}, {'N': 1, 'Accuracy': 0.4525}, {'N': 2, 'Accuracy': 0.73}, {'N': 3, 'Accuracy': 0.89}, {'N': 4, 'Accuracy': 0.915}]\n"
          ]
        }
      ]
    },
    {
      "cell_type": "code",
      "source": [
        "import matplotlib.pyplot as plt\n",
        "\n",
        "# [{'N': 0, 'Accuracy': 0.0}, {'N': 1, 'Accuracy': 0.4525}, {'N': 2, 'Accuracy': 0.73}, {'N': 3, 'Accuracy': 0.89}, {'N': 4, 'Accuracy': 0.915}]\n",
        "\n",
        "# Extract N values and Accuracy values from the result list\n",
        "n_values = [item['N'] for item in result]\n",
        "accuracy_values = [item['Accuracy'] for item in result]\n",
        "\n",
        "plt.figure(figsize=(8, 6))\n",
        "plt.plot(n_values, accuracy_values, marker='o', linestyle='-', color='b')\n",
        "plt.title('Accuracy vs N Value')\n",
        "plt.xlabel('N Value')\n",
        "plt.ylabel('Accuracy')\n",
        "plt.xticks(n_values)  # Set x-axis ticks to match N values\n",
        "plt.grid(True)\n",
        "plt.show()\n"
      ],
      "metadata": {
        "colab": {
          "base_uri": "https://localhost:8080/",
          "height": 564
        },
        "id": "b50IZfDOqwZN",
        "outputId": "a998b809-fc7f-4b3a-a76d-9a1cf22c78a6"
      },
      "execution_count": 26,
      "outputs": [
        {
          "output_type": "display_data",
          "data": {
            "text/plain": [
              "<Figure size 800x600 with 1 Axes>"
            ],
            "image/png": "[encoded data removed]"
          },
          "metadata": {}
        }
      ]
    },
    {
      "cell_type": "code",
      "source": [],
      "metadata": {
        "id": "2uRetUomtXZi"
      },
      "execution_count": null,
      "outputs": []
    }
  ]
}