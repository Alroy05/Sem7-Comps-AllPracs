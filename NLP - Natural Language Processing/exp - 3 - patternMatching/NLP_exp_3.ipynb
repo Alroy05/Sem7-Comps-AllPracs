{
  "nbformat": 4,
  "nbformat_minor": 0,
  "metadata": {
    "colab": {
      "provenance": []
    },
    "kernelspec": {
      "name": "python3",
      "display_name": "Python 3"
    },
    "language_info": {
      "name": "python"
    }
  },
  "cells": [
    {
      "cell_type": "markdown",
      "source": [
        "## NLP - EXP - 3\n",
        "\n",
        "Atharva Prashant Pawar (9427) - [ Batch - D ]"
      ],
      "metadata": {
        "id": "tBP44ussaqCo"
      }
    },
    {
      "cell_type": "markdown",
      "source": [
        "The findall() Function"
      ],
      "metadata": {
        "id": "ilR12Yhga_qy"
      }
    },
    {
      "cell_type": "code",
      "execution_count": 1,
      "metadata": {
        "colab": {
          "base_uri": "https://localhost:8080/",
          "height": 0
        },
        "id": "Pq7_MxooaoTp",
        "outputId": "8bde4aaa-e784-4fea-a70b-488e28738921"
      },
      "outputs": [
        {
          "output_type": "stream",
          "name": "stdout",
          "text": [
            "['ai', 'ai']\n"
          ]
        }
      ],
      "source": [
        "import re\n",
        "txt = \"The rain in Spain\"\n",
        "x = re.findall(\"ai\", txt)\n",
        "print(x)"
      ]
    },
    {
      "cell_type": "markdown",
      "source": [
        "The search() Function"
      ],
      "metadata": {
        "id": "XFi6vN3ZbDIA"
      }
    },
    {
      "cell_type": "code",
      "source": [
        "import re\n",
        "txt = \"The rain in Spain\"\n",
        "x = re.search(\"\\s\", txt)\n",
        "print(\"The first white-space character is located in position:\", x.start())"
      ],
      "metadata": {
        "colab": {
          "base_uri": "https://localhost:8080/",
          "height": 0
        },
        "id": "kL-NGnxOa-62",
        "outputId": "7a5f5540-73e1-4299-97f8-416b71686a0b"
      },
      "execution_count": 2,
      "outputs": [
        {
          "output_type": "stream",
          "name": "stdout",
          "text": [
            "The first white-space character is located in position: 3\n"
          ]
        }
      ]
    },
    {
      "cell_type": "markdown",
      "source": [
        "The split() Function"
      ],
      "metadata": {
        "id": "VvS-xaWhbGpS"
      }
    },
    {
      "cell_type": "code",
      "source": [
        "import re\n",
        "txt = \"The rain in Spain\"\n",
        "x = re.split(\"\\s\", txt)\n",
        "print(x)"
      ],
      "metadata": {
        "colab": {
          "base_uri": "https://localhost:8080/",
          "height": 0
        },
        "id": "RVo5CFzYawJk",
        "outputId": "a94b9ea8-a237-44f1-8529-e39b105916fe"
      },
      "execution_count": 3,
      "outputs": [
        {
          "output_type": "stream",
          "name": "stdout",
          "text": [
            "['The', 'rain', 'in', 'Spain']\n"
          ]
        }
      ]
    },
    {
      "cell_type": "code",
      "source": [
        "import re\n",
        "txt = \"The rain in Spain\"\n",
        "x = re.split(\"\\s\", txt, 1)\n",
        "print(x)"
      ],
      "metadata": {
        "colab": {
          "base_uri": "https://localhost:8080/",
          "height": 0
        },
        "id": "j01T80D9bIZW",
        "outputId": "4b6754db-1d25-4199-eef8-a3b52953c149"
      },
      "execution_count": 4,
      "outputs": [
        {
          "output_type": "stream",
          "name": "stdout",
          "text": [
            "['The', 'rain in Spain']\n"
          ]
        }
      ]
    },
    {
      "cell_type": "markdown",
      "source": [
        "Sub() function"
      ],
      "metadata": {
        "id": "tSVl1mo2bMJi"
      }
    },
    {
      "cell_type": "code",
      "source": [
        "import re\n",
        "txt = \"The rain in Spain\"\n",
        "x = re.sub(\"\\s\", \"9\", txt, 2)\n",
        "print(x)"
      ],
      "metadata": {
        "colab": {
          "base_uri": "https://localhost:8080/",
          "height": 0
        },
        "id": "SAbqMUEusJgk",
        "outputId": "ce79f20f-ab88-4e9b-f1c9-a508e666f841"
      },
      "execution_count": 33,
      "outputs": [
        {
          "output_type": "stream",
          "name": "stdout",
          "text": [
            "The9rain9in Spain\n"
          ]
        }
      ]
    },
    {
      "cell_type": "markdown",
      "source": [
        "# Match Object"
      ],
      "metadata": {
        "id": "rlP72a0LsEsR"
      }
    },
    {
      "cell_type": "code",
      "source": [
        "import re\n",
        "txt = \"The rain in Spain\"\n",
        "x = re.search(\"ai\", txt)\n",
        "print(x) #this will print an object"
      ],
      "metadata": {
        "colab": {
          "base_uri": "https://localhost:8080/",
          "height": 0
        },
        "id": "Srq_-u23sNu6",
        "outputId": "fb200ca0-df71-41f9-9129-96770e709da1"
      },
      "execution_count": 36,
      "outputs": [
        {
          "output_type": "stream",
          "name": "stdout",
          "text": [
            "<re.Match object; span=(5, 7), match='ai'>\n"
          ]
        }
      ]
    },
    {
      "cell_type": "code",
      "source": [
        "mobRead = open(\"mob.txt\",\"r\")\n",
        "print(mobRead)"
      ],
      "metadata": {
        "colab": {
          "base_uri": "https://localhost:8080/",
          "height": 0
        },
        "id": "yNv4COp9bZgY",
        "outputId": "5ac5879f-69b1-4f02-ebcd-712530edf495"
      },
      "execution_count": 31,
      "outputs": [
        {
          "output_type": "stream",
          "name": "stdout",
          "text": [
            "<_io.TextIOWrapper name='mob.txt' mode='r' encoding='UTF-8'>\n"
          ]
        }
      ]
    },
    {
      "cell_type": "code",
      "source": [
        "filedata = mobRead.read()\n",
        "filedata"
      ],
      "metadata": {
        "colab": {
          "base_uri": "https://localhost:8080/",
          "height": 109
        },
        "id": "qyto4xPtb4JO",
        "outputId": "70d7fe20-03b4-4939-9736-bb4c86d19f09"
      },
      "execution_count": 32,
      "outputs": [
        {
          "output_type": "execute_result",
          "data": {
            "text/plain": [
              "'From stephen.marquard@uct.ac.za Sat Jan 5 09:14:16 2008 Return-Path: Received: from murder (mail.umich.edu\\n[141.211.14.90]) by frankenstein.mail.umich.edu (Cyrus v2.3.8) with LMTPA; Sat, 05 Jan 2008 09:14:16 -0500 X-Sieve:\\nCMU Sieve 2.3 Received: from murder ([unix socket]) by mail.umich.edu (Cyrus v2.2.12) with LMTPA; Sat, 05 Jan 2008\\n09:14:16 -0500 Received: from holes.mr.itd.umich.edu (holes.mr.itd.umich.edu [141.211.14.79]) by flawless.mail.umich.edu\\n() with ESMTP id m05EEFR1013674; Sat, 5 Jan 2008 09:14:15 -0500 Received: FROM paploo.uhi.ac.uk\\n(app1.prod.collab.uhi.ac.uk [194.35.219.184]) BY holes.mr.itd.umich.edu ID 477F90B0.2DB2F.12494 ; 5 Jan 2008 09:14:10\\n-0500 Received: from paploo.uhi.ac.uk (localhost [127.0.0.1]) by paploo.uhi.ac.uk (Postfix) with ESMTP id 5F919BC2F2;\\nSat, 5 Jan 2008 14:10:05 +0000 (GMT) Message-ID: <200801051412.m05ECIaH010327@nakamura.uits.iupui.edu> MimeVersion: 1.0 Content-Transfer-Encoding: 7bit Received: from prod.collab.uhi.ac.uk ([194.35.219.182]) by paploo.uhi.ac.uk\\n(JAMES SMTP Server 2.1.3) with SMTP ID 899 for ; Sat, 5 Jan 2008 14:09:50 +0000 (GMT) Received: from\\nnakamura.uits.iupui.edu (nakamura.uits.iupui.edu [134.68.220.122]) by shmi.uhi.ac.uk (Postfix) with ESMTP id A215243002\\nfor ; Sat, 5 Jan 2008 14:13:33 +0000 (GMT) Received: from nakamura.uits.iupui.edu (localhost [127.0.0.1]) by\\nnakamura.uits.iupui.edu (8.12.11.20060308/8.12.11) with ESMTP id m05ECJVp010329 for ; Sat, 5 Jan 2008 09:12:19\\n-0500 Received: (from apache@localhost) by nakamura.uits.iupui.edu (8.12.11.20060308/8.12.11/Submit) id\\nm05ECIaH010327 for source@collab.sakaiproject.org; Sat, 5 Jan 2008 09:12:18 -0500 Date: Sat, 5 Jan 2008 09:12:18\\n-0500 X-Authentication-Warning: nakamura.uits.iupui.edu: apache set sender to stephen.marquard@uct.ac.za using -f To:\\nsource@collab.sakaiproject.org From: stephen.marquard@uct.ac.za Subject: [sakai] svn commit: r39772 -\\ncontent/branches/sakai_2-5-x/content-impl/impl/src/java/org/sakaiproject/content/impl X-Content-Type-Outer-Envelope:\\ntext/plain; charset=UTF-8 X-Content-Type-Message-Body: text/plain; charset=UTF-8 Content-Type: text/plain;\\ncharset=UTF-8 X-DSPAM-Result: Innocent X-DSPAM-Processed: Sat Jan 5 09:14:16 2008 X-DSPAM-Confidence: 0.8475\\nX-DSPAM-Probability: 0.0000 Details: http://source.sakaiproject.org/viewsvn/?view=rev&rev=39772 Author:\\nstephen.marquard@uct.ac.za Date: 2008-01-05 09:12:07 -0500 (Sat, 05 Jan 2008) New Revision: 39772 Modified:\\ncontent/branches/sakai_2-5-x/content-impl/impl/src/java/org/sakaiproject/content/impl/ContentServiceSqlOracle.java\\ncontent/branches/sakai_2-5-x/content-impl/impl/src/java/org/sakaiproject/content/impl/DbContentService.java Log: SAK12501 merge to 2-5-x: r39622, r39624:5, r39632:3 (resolve conflict from differing linebreaks for r39622) ----------------------\\nThis automatic notification message was sent by Sakai Collab (https://collab.sakaiproject.org/portal) from the Source site.\\nYou can modify how you receive notifications at My Workspace > Preferences. From louis@media.berkeley.edu Fri Jan 4\\n18:10:48 2008 Return-Path: Received: from murder (mail.umich.edu [141.211.14.97]) by frankenstein.mail.umich.edu\\n(Cyrus v2.3.8) with LMTPA; Fri, 04 Jan 2008 18:10:48 -0500 X-Sieve: CMU Sieve 2.3 Received: from murder ([unix socket])\\nby mail.umich.edu (Cyrus v2.2.12) with LMTPA; Fri, 04 Jan 2008 18:10:48 -0500 Received: from icestorm.mr.itd.umich.edu\\n(icestorm.mr.itd.umich.edu [141.211.93.149]) by sleepers.mail.umich.edu () with ESMTP id m04NAbGa029441; Fri, 4 Jan\\n2008 18:10:37 -0500 Received: FROM paploo.uhi.ac.uk (app1.prod.collab.uhi.ac.uk [194.35.219.184]) BY\\nicestorm.mr.itd.umich.edu ID 477EBCE3.161BB.4320 ; 4 Jan 2008 18:10:31 -0500 Received: from paploo.uhi.ac.uk\\n(localhost [127.0.0.1]) by paploo.uhi.ac.uk (Postfix) with ESMTP id 07969BB706; Fri, 4 Jan 2008 23:10:33 +0000 (GMT)\\nMessage-ID: <200801042308.m04N8v6O008125@nakamura.uits.iupui.edu> Mime-Version: 1.0 Content-TransferEncoding: 7bit Received: from prod.collab.uhi.ac.uk ([194.35.219.182]) by paploo.uhi.ac.uk (JAMES SMTP Server 2.1.3)\\nwith SMTP ID 710 for ; Fri, 4 Jan 2008 23:10:10 +0000 (GMT) Received: from nakamura.uits.iupui.edu\\n(nakamura.uits.iupui.edu [134.68.220.122]) by shmi.uhi.ac.uk (Postfix) with ESMTP id 4BA2F42F57 for ; Fri, 4 Jan 2008\\n23:10:10 +0000 (GMT) Received: from nakamura.uits.iupui.edu (localhost [127.0.0.1]) by nakamura.uits.iupui.edu\\n(8.12.11.20060308/8.12.11) with ESMTP id m04N8vHG008127 for ; Fri, 4 Jan 2008 18:08:57 -0500 Received: (from\\napache@localhost) by nakamura.uits.iupui.edu (8.12.11.20060308/8.12.11/Submit) id m04N8v6O008125 for\\nsource@collab.sakaiproject.org; Fri, 4 Jan 2008 18:08:57 -0500 Date: Fri, 4 Jan 2008 18:08:57 -0500 X-AuthenticationWarning: nakamura.uits.iupui.edu: apache set sender to louis@media.berkeley.edu using -f To:\\nsource@collab.sakaiproject.org From: louis@media.berkeley.edu Subject: [sakai] svn commit: r39771 - in bspace/sitemanage/sakai_2-4-x/site-manage-tool/tool/src: bundle java/org/sakaiproject/site/tool X-Content-Type-Outer-Envelope:\\ntext/plain; charset=UTF-8 X-Content-Type-Message-Body: text/plain; charset=UTF-8 Content-Type: text/plain;\\ncharset=UTF-8 X-DSPAM-Result: Innocent X-DSPAM-Processed: Fri Jan 4 18:10:48 2008 X-DSPAM-Confidence: 0.6178\\nX-DSPAM-Probability: 0.0000 Details: http://source.sakaiproject.org/viewsvn/?view=rev&rev=39771 Author:\\nlouis@media.berkeley.edu Date: 2008-01-04 18:08:50 -0500 (Fri, 04 Jan 2008) New Revision: 39771 Modified:\\nbspace/site-manage/sakai_2-4-x/site-manage-tool/tool/src/bundle/sitesetupgeneric.properties bspace/site-manage/sakai_2-\\n4-x/site-manage-tool/tool/src/java/org/sakaiproject/site/tool/SiteAction.java Log: BSP-1415 New (Guest) user Notification ---\\n------------------- This automatic notification message was sent by Sakai Collab (https://collab.sakaiproject.org/portal) from the\\nSource site. You can modify how you receive notifications at My Workspace > Preferences. From zqian@umich.edu Fri Jan\\n4 16:10:39 2008 Return-Path: Received: from murder (mail.umich.edu [141.211.14.25]) by frankenstein.mail.umich.edu\\n(Cyrus v2.3.8) with LMTPA; Fri, 04 Jan 2008 16:10:39 -0500 X-Sieve: CMU Sieve 2.3 Received: from murder ([unix socket])\\nby mail.umich.edu (Cyrus v2.2.12) with LMTPA; Fri, 04 Jan 2008 16:10:39 -0500 Received: from\\nghostbusters.mr.itd.umich.edu (ghostbusters.mr.itd.umich.edu [141.211.93.144]) by panther.mail.umich.edu () with ESMTP\\nid m04LAcZw014275; Fri, 4 Jan 2008 16:10:38 -0500 Received: FROM paploo.uhi.ac.uk (app1.prod.collab.uhi.ac.uk\\n[194.35.219.184]) BY ghostbusters.mr.itd.umich.edu ID 477EA0C6.A0214.25480 ; 4 Jan 2008 16:10:33 -0500 Received:\\nfrom paploo.uhi.ac.uk (localhost [127.0.0.1]) by paploo.uhi.ac.uk (Postfix) with ESMTP id C48CDBB490; Fri, 4 Jan 2008\\n21:10:31 +0000 (GMT) Message-ID: <200801042109.m04L92hb007923@nakamura.uits.iupui.edu> Mime-Version: 1.0\\nContent-Transfer-Encoding: 7bit Received: from prod.collab.uhi.ac.uk ([194.35.219.182]) by paploo.uhi.ac.uk (JAMES\\nSMTP Server 2.1.3) with SMTP ID 906 for ; Fri, 4 Jan 2008 21:10:18 +0000 (GMT) Received: from nakamura.uits.iupui.edu\\n(nakamura.uits.iupui.edu [134.68.220.122]) by shmi.uhi.ac.uk (Postfix) with ESMTP id 7D13042F71 for ; Fri, 4 Jan 2008\\n21:10:14 +0000 (GMT) Received: from nakamura.uits.iupui.edu (localhost [127.0.0.1]) by nakamura.uits.iupui.edu\\n(8.12.11.20060308/8.12.11) with ESMTP id m04L927E007925 for ; Fri, 4 Jan 2008 16:09:02 -0500 Received: (from\\napache@localhost) by nakamura.uits.iupui.edu (8.12.11.20060308/8.12.11/Submit) id m04L92hb007923 for\\nsource@collab.sakaiproject.org; Fri, 4 Jan 2008 16:09:02 -0500 Date: Fri, 4 Jan 2008 16:09:02 -0500 X-AuthenticationWarning: nakamura.uits.iupui.edu: apache set sender to zqian@umich.edu using -f To: source@collab.sakaiproject.org\\nFrom: zqian@umich.edu Subject: [sakai] svn commit: r39770 - site-manage/branches/sakai_2-5-x/site-managetool/tool/src/webapp/vm/sitesetup X-Content-Type-Outer-Envelope: text/plain; charset=UTF-8 X-Content-Type-MessageBody: text/plain; charset=UTF-8 Content-Type: text/plain; charset=UTF-8 X-DSPAM-Result: Innocent X-DSPAM-Processed:\\nFri Jan 4 16:10:39 2008 X-DSPAM-Confidence: 0.6961 X-DSPAM-Probability: 0.0000 Details:\\nhttp://source.sakaiproject.org/viewsvn/?view=rev&rev=39770 Author: zqian@umich.edu Date: 2008-01-04 16:09:01 -0500\\n(Fri, 04 Jan 2008) New Revision: 39770 Modified: site-manage/branches/sakai_2-5-x/site-managetool/tool/src/webapp/vm/sitesetup/chef_site-siteInfo-list.vm Log: merge fix to SAK-9996 into 2-5-x branch: svn merge -r\\n39687:39688 https://source.sakaiproject.org/svn/site-manage/trunk/ ---------------------- This automatic notification message\\nwas sent by Sakai Collab (https://collab.sakaiproject.org/portal) from the Source site. You can modify how you receive\\nnotifications at My Workspace > Preferences. From rjlowe@iupui.edu Fri Jan 4 15:46:24 2008 Return-Path: Received: from\\nmurder (mail.umich.edu [141.211.14.25]) by frankenstein.mail.umich.edu (Cyrus v2.3.8) with LMTPA; Fri, 04 Jan 2008\\n15:46:24 -0500 X-Sieve: CMU Sieve 2.3 Received: from murder ([unix socket]) by mail.umich.edu (Cyrus v2.2.12) with\\nLMTPA; Fri, 04 Jan 2008 15:46:24 -0500 Received: from dreamcatcher.mr.itd.umich.edu (dreamcatcher.mr.itd.umich.edu\\n[141.211.14.43]) by panther.mail.umich.edu () with ESMTP id m04KkNbx032077; Fri, 4 Jan 2008 15:46:23 -0500 Received:\\nFROM paploo.uhi.ac.uk (app1.prod.collab.uhi.ac.uk [194.35.219.184]) BY dreamcatcher.mr.itd.umich.edu ID\\n477E9B13.2F3BC.22965 ; 4 Jan 2008 15:46:13 -0500 Received: from paploo.uhi.ac.uk (localhost [127.0.0.1]) by\\npaploo.uhi.ac.uk (Postfix) with ESMTP id 4AE03BB552; Fri, 4 Jan 2008 20:46:13 +0000 (GMT) Message-ID:\\n<200801042044.m04Kiem3007881@nakamura.uits.iupui.edu> Mime-Version: 1.0 Content-Transfer-Encoding: 7bit\\nReceived: from prod.collab.uhi.ac.uk ([194.35.219.182]) by paploo.uhi.ac.uk (JAMES SMTP Server 2.1.3) with SMTP ID 38\\nfor ; Fri, 4 Jan 2008 20:45:56 +0000 (GMT) Received: from nakamura.uits.iupui.edu (nakamura.uits.iupui.edu\\n[134.68.220.122]) by shmi.uhi.ac.uk (Postfix) with ESMTP id A55D242F57 for ; Fri, 4 Jan 2008 20:45:52 +0000 (GMT)\\nReceived: from nakamura.uits.iupui.edu (localhost [127.0.0.1]) by nakamura.uits.iupui.edu (8.12.11.20060308/8.12.11) with\\nESMTP id m04KieqE007883 for ; Fri, 4 Jan 2008 15:44:40 -0500 Received: (from apache@localhost) by\\nnakamura.uits.iupui.edu (8.12.11.20060308/8.12.11/Submit) id m04Kiem3007881 for source@collab.sakaiproject.org; Fri, 4\\nJan 2008 15:44:40 -0500 Date: Fri, 4 Jan 2008 15:44:40 -0500 X-Authentication-Warning: nakamura.uits.iupui.edu: apache\\nset sender to rjlowe@iupui.edu using -f To: source@collab.sakaiproject.org From: rjlowe@iupui.edu Subject: [sakai] svn\\ncommit: r39769 - in gradebook/trunk/app/ui/src: java/org/sakaiproject/tool/gradebook/ui/helpers/beans\\njava/org/sakaiproject/tool/gradebook/ui/helpers/producers webapp/WEB-INF webapp/WEB-INF/bundle X-Content-TypeOuter-Envelope: text/plain; charset=UTF-8 X-Content-Type-Message-Body: text/plain; charset=UTF-8 Content-Type:\\ntext/plain; charset=UTF-8 X-DSPAM-Result: Innocent X-DSPAM-Processed: Fri Jan 4 15:46:24 2008 X-DSPAMConfidence: 0.7565 X-DSPAM-Probability: 0.0000 Details: http://source.sakaiproject.org/viewsvn/?view=rev&rev=39769\\nAuthor: rjlowe@iupui.edu Date: 2008-01-04 15:44:39 -0500 (Fri, 04 Jan 2008) New Revision: 39769 Modified:\\ngradebook/trunk/app/ui/src/java/org/sakaiproject/tool/gradebook/ui/helpers/beans/AssignmentGradeRecordBean.java\\ngradebook/trunk/app/ui/src/java/org/sakaiproject/tool/gradebook/ui/helpers/producers/GradeGradebookItemProducer.java\\ngradebook/trunk/app/ui/src/webapp/WEB-INF/applicationContext.xml gradebook/trunk/app/ui/src/webapp/WEBINF/bundle/messages.properties gradebook/trunk/app/ui/src/webapp/WEB-INF/requestContext.xml Log: SAK-12180 -\\nFixed errors with grading helper ---------------------- This automatic notification message was sent by Sakai Collab\\n(https://collab.sakaiproject.org/portal) from the Source site. You can modify how you receive notifications at My Workspace\\n> Preferences. From zqian@umich.edu Fri Jan 4 15:03:18 2008 Return-Path: Received: from murder (mail.umich.edu\\n[141.211.14.46]) by frankenstein.mail.umich.edu (Cyrus v2.3.8) with LMTPA; Fri, 04 Jan 2008 15:03:18 -0500 X-Sieve:\\nCMU Sieve 2.3 Received: from murder ([unix socket]) by mail.umich.edu (Cyrus v2.2.12) with LMTPA; Fri, 04 Jan 2008\\n15:03:18 -0500 Received: from firestarter.mr.itd.umich.edu (firestarter.mr.itd.umich.edu [141.211.14.83]) by\\nfan.mail.umich.edu () with ESMTP id m04K3HGF006563; Fri, 4 Jan 2008 15:03:17 -0500 Received: FROM\\npaploo.uhi.ac.uk (app1.prod.collab.uhi.ac.uk [194.35.219.184]) BY firestarter.mr.itd.umich.edu ID 477E9100.8F7F4.1590 ; 4\\nJan 2008 15:03:15 -0500 Received: from paploo.uhi.ac.uk (localhost [127.0.0.1]) by paploo.uhi.ac.uk (Postfix) with ESMTP\\nid 57770BB477; Fri, 4 Jan 2008 20:03:09 +0000 (GMT) Message-ID:\\n<200801042001.m04K1cO0007738@nakamura.uits.iupui.edu> Mime-Version: 1.0 Content-Transfer-Encoding: 7bit\\nReceived: from prod.collab.uhi.ac.uk ([194.35.219.182]) by paploo.uhi.ac.uk (JAMES SMTP Server 2.1.3) with SMTP ID\\n622 for ; Fri, 4 Jan 2008 20:02:46 +0000 (GMT) Received: from nakamura.uits.iupui.edu (nakamura.uits.iupui.edu\\n[134.68.220.122]) by shmi.uhi.ac.uk (Postfix) with ESMTP id AB4D042F4D for ; Fri, 4 Jan 2008 20:02:50 +0000 (GMT)\\nReceived: from nakamura.uits.iupui.edu (localhost [127.0.0.1]) by nakamura.uits.iupui.edu (8.12.11.20060308/8.12.11) with\\nESMTP id m04K1cXv007740 for ; Fri, 4 Jan 2008 15:01:38 -0500 Received: (from apache@localhost) by\\nnakamura.uits.iupui.edu (8.12.11.20060308/8.12.11/Submit) id m04K1cO0007738 for source@collab.sakaiproject.org; Fri, 4\\nJan 2008 15:01:38 -0500 Date: Fri, 4 Jan 2008 15:01:38 -0500 X-Authentication-Warning: nakamura.uits.iupui.edu: apache\\nset sender to zqian@umich.edu using -f To: source@collab.sakaiproject.org From: zqian@umich.edu Subject: [sakai] svn\\ncommit: r39766 - site-manage/branches/sakai_2-4-x/site-manage-tool/tool/src/java/org/sakaiproject/site/tool X-ContentType-Outer-Envelope: text/plain; charset=UTF-8 X-Content-Type-Message-Body: text/plain; charset=UTF-8 Content-Type:\\ntext/plain; charset=UTF-8 X-DSPAM-Result: Innocent X-DSPAM-Processed: Fri Jan 4 15:03:18 2008 X-DSPAMConfidence: 0.7626 X-DSPAM-Probability: 0.0000 Details: http://source.sakaiproject.org/viewsvn/?view=rev&rev=39766\\nAuthor: zqian@umich.edu Date: 2008-01-04 15:01:37 -0500 (Fri, 04 Jan 2008) New Revision: 39766 Modified: sitemanage/branches/sakai_2-4-x/site-manage-tool/tool/src/java/org/sakaiproject/site/tool/SiteAction.java Log: merge fix to\\nSAK-10788 into site-manage 2.4.x branch: Sakai Source Repository #38024 Wed Nov 07 14:54:46 MST 2007\\nzqian@umich.edu Fix to SAK-10788: If a provided id in a couse site is fake or doesn\\'t provide any user information, Site\\nInfo appears to be like project site with empty participant list Watch for enrollments object being null and concatenate\\nprovider ids when there are more than one. Files Changed MODIFY /site-manage/trunk/site-managetool/tool/src/java/org/sakaiproject/site/tool/SiteAction.java ---------------------- This automatic notification message was sent by\\nSakai Collab (https://collab.sakaiproject.org/portal) from the Source site. You can modify how you receive notifications at My\\nWorkspace > Preferences. From rjlowe@iupui.edu Fri Jan 4 14:50:18 2008 Return-Path: Received: from murder\\n(mail.umich.edu [141.211.14.93]) by frankenstein.mail.umich.edu (Cyrus v2.3.8) with LMTPA; Fri, 04 Jan 2008 14:50:18\\n-0500 X-Sieve: CMU Sieve 2.3 Received: from murder ([unix socket]) by mail.umich.edu (Cyrus v2.2.12) with LMTPA; Fri,\\n04 Jan 2008 14:50:18 -0500 Received: from eyewitness.mr.itd.umich.edu (eyewitness.mr.itd.umich.edu [141.211.93.142])\\nby mission.mail.umich.edu () with ESMTP id m04JoHJi019755; Fri, 4 Jan 2008 14:50:17 -0500 Received: FROM\\npaploo.uhi.ac.uk (app1.prod.collab.uhi.ac.uk [194.35.219.184]) BY eyewitness.mr.itd.umich.edu ID 477E8DF2.67B91.5278 ;\\n4 Jan 2008 14:50:13 -0500 Received: from paploo.uhi.ac.uk (localhost [127.0.0.1]) by paploo.uhi.ac.uk (Postfix) with\\nESMTP id 2D1B9BB492; Fri, 4 Jan 2008 19:47:10 +0000 (GMT) Message-ID:\\n<200801041948.m04JmdwO007705@nakamura.uits.iupui.edu> Mime-Version: 1.0 Content-Transfer-Encoding: 7bit\\nReceived: from prod.collab.uhi.ac.uk ([194.35.219.182]) by paploo.uhi.ac.uk (JAMES SMTP Server 2.1.3) with SMTP ID\\n960 for ; Fri, 4 Jan 2008 19:46:50 +0000 (GMT) Received: from nakamura.uits.iupui.edu (nakamura.uits.iupui.edu\\n[134.68.220.122]) by shmi.uhi.ac.uk (Postfix) with ESMTP id B3E6742F4A for ; Fri, 4 Jan 2008 19:49:51 +0000 (GMT)\\nReceived: from nakamura.uits.iupui.edu (localhost [127.0.0.1]) by nakamura.uits.iupui.edu (8.12.11.20060308/8.12.11) with\\nESMTP id m04JmeV9007707 for ; Fri, 4 Jan 2008 14:48:40 -0500 Received: (from apache@localhost) by\\nnakamura.uits.iupui.edu (8.12.11.20060308/8.12.11/Submit) id m04JmdwO007705 for source@collab.sakaiproject.org; Fri,\\n4 Jan 2008 14:48:39 -0500 Date: Fri, 4 Jan 2008 14:48:39 -0500 X-Authentication-Warning: nakamura.uits.iupui.edu:\\napache set sender to rjlowe@iupui.edu using -f To: source@collab.sakaiproject.org From: rjlowe@iupui.edu Subject: [sakai]\\nsvn commit: r39765 - in gradebook/trunk/app: business/src/java/org/sakaiproject/tool/gradebook/business\\nbusiness/src/java/org/sakaiproject/tool/gradebook/business/impl ui\\nui/src/java/org/sakaiproject/tool/gradebook/ui/helpers/beans ui/src/java/org/sakaiproject/tool/gradebook/ui/helpers/entity\\nui/src/java/org/sakaiproject/tool/gradebook/ui/helpers/params\\nui/src/java/org/sakaiproject/tool/gradebook/ui/helpers/producers ui/src/webapp/WEB-INF ui/src/webapp/WEB-INF/bundle\\nui/src/webapp/content/templates X-Content-Type-Outer-Envelope: text/plain; charset=UTF-8 X-Content-Type-MessageBody: text/plain; charset=UTF-8 Content-Type: text/plain; charset=UTF-8 X-DSPAM-Result: Innocent X-DSPAM-Processed:\\nFri Jan 4 14:50:18 2008 X-DSPAM-Confidence: 0.7556 X-DSPAM-Probability: 0.0000 Details:\\nhttp://source.sakaiproject.org/viewsvn/?view=rev&rev=39765 Author: rjlowe@iupui.edu Date: 2008-01-04 14:48:37 -0500\\n(Fri, 04 Jan 2008) New Revision: 39765 Added:\\ngradebook/trunk/app/ui/src/java/org/sakaiproject/tool/gradebook/ui/helpers/beans/AssignmentGradeRecordBean.java\\ngradebook/trunk/app/ui/src/java/org/sakaiproject/tool/gradebook/ui/helpers/beans/AssignmentGradeRecordCreator.java\\ngradebook/trunk/app/ui/src/java/org/sakaiproject/tool/gradebook/ui/helpers/entity/GradebookEntryGradeEntityProvider.java\\ngradebook/trunk/app/ui/src/java/org/sakaiproject/tool/gradebook/ui/helpers/params/GradeGradebookItemViewParams.java\\ngradebook/trunk/app/ui/src/java/org/sakaiproject/tool/gradebook/ui/helpers/producers/GradeGradebookItemProducer.java\\ngradebook/trunk/app/ui/src/webapp/content/templates/grade-gradebook-item.html Modified:\\ngradebook/trunk/app/business/src/java/org/sakaiproject/tool/gradebook/business/GradebookManager.java\\ngradebook/trunk/app/business/src/java/org/sakaiproject/tool/gradebook/business/impl/GradebookManagerHibernateImpl.java\\ngradebook/trunk/app/ui/pom.xml\\ngradebook/trunk/app/ui/src/java/org/sakaiproject/tool/gradebook/ui/helpers/beans/GradebookItemBean.java\\ngradebook/trunk/app/ui/src/java/org/sakaiproject/tool/gradebook/ui/helpers/entity/GradebookEntryEntityProvider.java\\ngradebook/trunk/app/ui/src/java/org/sakaiproject/tool/gradebook/ui/helpers/producers/AddGradebookItemProducer.java\\ngradebook/trunk/app/ui/src/webapp/WEB-INF/applicationContext.xml gradebook/trunk/app/ui/src/webapp/WEBINF/bundle/messages.properties gradebook/trunk/app/ui/src/webapp/WEB-INF/requestContext.xml Log: SAK-12180 - New\\nhelper tool to grade an assignment ---------------------- This automatic notification message was sent by Sakai Collab\\n(https://collab.sakaiproject.org/portal) from the Source site. You can modify how you receive notifications at My Workspace\\n> Preferences. From cwen@iupui.edu Fri Jan 4 11:37:30 2008 Return-Path: Received: from murder (mail.umich.edu\\n[141.211.14.46]) by frankenstein.mail.umich.edu (Cyrus v2.3.8) with LMTPA; Fri, 04 Jan 2008 11:37:30 -0500 X-Sieve:\\nCMU Sieve 2.3 Received: from murder ([unix socket]) by mail.umich.edu (Cyrus v2.2.12) with LMTPA; Fri, 04 Jan 2008\\n11:37:30 -0500 Received: from tadpole.mr.itd.umich.edu (tadpole.mr.itd.umich.edu [141.211.14.72]) by fan.mail.umich.edu\\n() with ESMTP id m04GbT9x022078; Fri, 4 Jan 2008 11:37:29 -0500 Received: FROM paploo.uhi.ac.uk\\n(app1.prod.collab.uhi.ac.uk [194.35.219.184]) BY tadpole.mr.itd.umich.edu ID 477E60B2.82756.9904 ; 4 Jan 2008 11:37:09\\n-0500 Received: from paploo.uhi.ac.uk (localhost [127.0.0.1]) by paploo.uhi.ac.uk (Postfix) with ESMTP id 8D13DBB001;\\nFri, 4 Jan 2008 16:37:07 +0000 (GMT) Message-ID: <200801041635.m04GZQGZ007313@nakamura.uits.iupui.edu>\\nMime-Version: 1.0 Content-Transfer-Encoding: 7bit Received: from prod.collab.uhi.ac.uk ([194.35.219.182]) by\\npaploo.uhi.ac.uk (JAMES SMTP Server 2.1.3) with SMTP ID 120 for ; Fri, 4 Jan 2008 16:36:40 +0000 (GMT) Received:\\nfrom nakamura.uits.iupui.edu (nakamura.uits.iupui.edu [134.68.220.122]) by shmi.uhi.ac.uk (Postfix) with ESMTP id\\nD430B42E42 for ; Fri, 4 Jan 2008 16:36:37 +0000 (GMT) Received: from nakamura.uits.iupui.edu (localhost [127.0.0.1]) by\\nnakamura.uits.iupui.edu (8.12.11.20060308/8.12.11) with ESMTP id m04GZQ7W007315 for ; Fri, 4 Jan 2008 11:35:26\\n-0500 Received: (from apache@localhost) by nakamura.uits.iupui.edu (8.12.11.20060308/8.12.11/Submit) id\\nm04GZQGZ007313 for source@collab.sakaiproject.org; Fri, 4 Jan 2008 11:35:26 -0500 Date: Fri, 4 Jan 2008 11:35:26\\n-0500 X-Authentication-Warning: nakamura.uits.iupui.edu: apache set sender to cwen@iupui.edu using -f To:\\nsource@collab.sakaiproject.org From: cwen@iupui.edu Subject: [sakai] svn commit: r39764 - in\\nmsgcntr/trunk/messageforums-app/src/java/org/sakaiproject/tool/messageforums: . ui X-Content-Type-Outer-Envelope:\\ntext/plain; charset=UTF-8 X-Content-Type-Message-Body: text/plain; charset=UTF-8 Content-Type: text/plain;\\ncharset=UTF-8 X-DSPAM-Result: Innocent X-DSPAM-Processed: Fri Jan 4 11:37:30 2008 X-DSPAM-Confidence: 0.7002\\nX-DSPAM-Probability: 0.0000 Details: http://source.sakaiproject.org/viewsvn/?view=rev&rev=39764 Author:\\ncwen@iupui.edu Date: 2008-01-04 11:35:25 -0500 (Fri, 04 Jan 2008) New Revision: 39764 Modified:\\nmsgcntr/trunk/messageforums-app/src/java/org/sakaiproject/tool/messageforums/PrivateMessagesTool.java\\nmsgcntr/trunk/messageforums-app/src/java/org/sakaiproject/tool/messageforums/ui/PrivateMessageDecoratedBean.java\\nLog: unmerge Xingtang\\'s checkin for SAK-12488. svn merge -r39558:39557\\nhttps://source.sakaiproject.org/svn/msgcntr/trunk U messageforumsapp/src/java/org/sakaiproject/tool/messageforums/PrivateMessagesTool.java U messageforumsapp/src/java/org/sakaiproject/tool/messageforums/ui/PrivateMessageDecoratedBean.java svn log -r 39558 ----------------------\\n-------------------------------------------------- r39558 | hu2@iupui.edu | 2007-12-20 15:25:38 -0500 (Thu, 20 Dec 2007) | 3 lines\\nSAK-12488 when send a message to yourself. click reply to all, cc row should be null.\\nhttp://jira.sakaiproject.org/jira/browse/SAK-12488 ------------------------------------------------------------------------ ----------------------\\nThis automatic notification message was sent by Sakai Collab (https://collab.sakaiproject.org/portal) from the Source site.\\nYou can modify how you receive notifications at My Workspace > Preferences. From cwen@iupui.edu Fri Jan 4 11:35:08\\n2008 Return-Path: Received: from murder (mail.umich.edu [141.211.14.46]) by frankenstein.mail.umich.edu (Cyrus v2.3.8)\\nwith LMTPA; Fri, 04 Jan 2008 11:35:08 -0500 X-Sieve: CMU Sieve 2.3 Received: from murder ([unix socket]) by\\nmail.umich.edu (Cyrus v2.2.12) with LMTPA; Fri, 04 Jan 2008 11:35:08 -0500 Received: from it.mr.itd.umich.edu\\n(it.mr.itd.umich.edu [141.211.93.151]) by fan.mail.umich.edu () with ESMTP id m04GZ6lt020480; Fri, 4 Jan 2008 11:35:06\\n-0500 Received: FROM paploo.uhi.ac.uk (app1.prod.collab.uhi.ac.uk [194.35.219.184]) BY it.mr.itd.umich.edu ID\\n477E6033.6469D.21870 ; 4 Jan 2008 11:35:02 -0500 Received: from paploo.uhi.ac.uk (localhost [127.0.0.1]) by\\npaploo.uhi.ac.uk (Postfix) with ESMTP id E40FABAE5B; Fri, 4 Jan 2008 16:34:38 +0000 (GMT) Message-ID:\\n<200801041633.m04GX6eG007292@nakamura.uits.iupui.edu> Mime-Version: 1.0 Content-Transfer-Encoding: 7bit\\nReceived: from prod.collab.uhi.ac.uk ([194.35.219.182]) by paploo.uhi.ac.uk (JAMES SMTP Server 2.1.3) with SMTP ID\\n697 for ; Fri, 4 Jan 2008 16:34:01 +0000 (GMT) Received: from nakamura.uits.iupui.edu (nakamura.uits.iupui.edu\\n[134.68.220.122]) by shmi.uhi.ac.uk (Postfix) with ESMTP id 1CD0C42E42 for ; Fri, 4 Jan 2008 16:34:17 +0000 (GMT)\\nReceived: from nakamura.uits.iupui.edu (localhost [127.0.0.1]) by nakamura.uits.iupui.edu (8.12.11.20060308/8.12.11) with\\nESMTP id m04GX6Y3007294 for ; Fri, 4 Jan 2008 11:33:06 -0500 Received: (from apache@localhost) by\\nnakamura.uits.iupui.edu (8.12.11.20060308/8.12.11/Submit) id m04GX6eG007292 for source@collab.sakaiproject.org; Fri,\\n4 Jan 2008 11:33:06 -0500 Date: Fri, 4 Jan 2008 11:33:06 -0500 X-Authentication-Warning: nakamura.uits.iupui.edu:\\napache set sender to cwen@iupui.edu using -f To: source@collab.sakaiproject.org From: cwen@iupui.edu Subject: [sakai]\\nsvn commit: r39763 - in msgcntr/trunk: messageforums-api/src/bundle/org/sakaiproject/api/app/messagecenter/bundle\\nmessageforums-app/src/java/org/sakaiproject/tool/messageforums X-Content-Type-Outer-Envelope: text/plain;\\ncharset=UTF-8 X-Content-Type-Message-Body: text/plain; charset=UTF-8 Content-Type: text/plain; charset=UTF-8 XDSPAM-Result: Innocent X-DSPAM-Processed: Fri Jan 4 11:35:08 2008 X-DSPAM-Confidence: 0.7615 X-DSPAMProbability: 0.0000 Details: http://source.sakaiproject.org/viewsvn/?view=rev&rev=39763 Author: cwen@iupui.edu Date:\\n2008-01-04 11:33:05 -0500 (Fri, 04 Jan 2008) New Revision: 39763 Modified: msgcntr/trunk/messageforumsapi/src/bundle/org/sakaiproject/api/app/messagecenter/bundle/Messages.properties msgcntr/trunk/messageforumsapp/src/java/org/sakaiproject/tool/messageforums/PrivateMessagesTool.java Log: unmerge Xingtang\\'s check in for SAK12484. svn merge -r39571:39570 https://source.sakaiproject.org/svn/msgcntr/trunk U messageforumsapi/src/bundle/org/sakaiproject/api/app/messagecenter/bundle/Messages.properties U messageforumsapp/src/java/org/sakaiproject/tool/messageforums/PrivateMessagesTool.java svn log -r 39571 ---------------------------------------\\n--------------------------------- r39571 | hu2@iupui.edu | 2007-12-20 21:26:28 -0500 (Thu, 20 Dec 2007) | 3 lines SAK-12484\\nreply all cc list should not include the current user name. http://jira.sakaiproject.org/jira/browse/SAK-12484 ----------------------\\n-------------------------------------------------- ---------------------- This automatic notification message was sent by Sakai Collab\\n(https://collab.sakaiproject.org/portal) from the Source site. You can modify how you receive notifications at My Workspace\\n> Preferences. From gsilver@umich.edu Fri Jan 4 11:12:37 2008 Return-Path: Received: from murder (mail.umich.edu\\n[141.211.14.25]) by frankenstein.mail.umich.edu (Cyrus v2.3.8) with LMTPA; Fri, 04 Jan 2008 11:12:37 -0500 X-Sieve:\\nCMU Sieve 2.3 Received: from murder ([unix socket]) by mail.umich.edu (Cyrus v2.2.12) with LMTPA; Fri, 04 Jan 2008\\n11:12:37 -0500 Received: from holes.mr.itd.umich.edu (holes.mr.itd.umich.edu [141.211.14.79]) by panther.mail.umich.edu\\n() with ESMTP id m04GCaHB030887; Fri, 4 Jan 2008 11:12:36 -0500 Received: FROM paploo.uhi.ac.uk\\n(app1.prod.collab.uhi.ac.uk [194.35.219.184]) BY holes.mr.itd.umich.edu ID 477E5AEB.E670B.28397 ; 4 Jan 2008 11:12:30\\n-0500 Received: from paploo.uhi.ac.uk (localhost [127.0.0.1]) by paploo.uhi.ac.uk (Postfix) with ESMTP id 99715BAE7D;\\nFri, 4 Jan 2008 16:12:27 +0000 (GMT) Message-ID: <200801041611.m04GB1Lb007221@nakamura.uits.iupui.edu> MimeVersion: 1.0 Content-Transfer-Encoding: 7bit Received: from prod.collab.uhi.ac.uk ([194.35.219.182]) by paploo.uhi.ac.uk\\n(JAMES SMTP Server 2.1.3) with SMTP ID 272 for ; Fri, 4 Jan 2008 16:12:14 +0000 (GMT) Received: from\\nnakamura.uits.iupui.edu (nakamura.uits.iupui.edu [134.68.220.122]) by shmi.uhi.ac.uk (Postfix) with ESMTP id\\n0A6ED42DFC for ; Fri, 4 Jan 2008 16:12:12 +0000 (GMT) Received: from nakamura.uits.iupui.edu (localhost [127.0.0.1])\\nby nakamura.uits.iupui.edu (8.12.11.20060308/8.12.11) with ESMTP id m04GB1Wt007223 for ; Fri, 4 Jan 2008 11:11:01\\n-0500 Received: (from apache@localhost) by nakamura.uits.iupui.edu (8.12.11.20060308/8.12.11/Submit) id\\nm04GB1Lb007221 for source@collab.sakaiproject.org; Fri, 4 Jan 2008 11:11:01 -0500 Date: Fri, 4 Jan 2008 11:11:01 -0500\\nX-Authentication-Warning: nakamura.uits.iupui.edu: apache set sender to gsilver@umich.edu using -f To:\\nsource@collab.sakaiproject.org From: gsilver@umich.edu Subject: [sakai] svn commit: r39762 - web/trunk/webtool/tool/src/bundle X-Content-Type-Outer-Envelope: text/plain; charset=UTF-8 X-Content-Type-Message-Body: text/plain;\\ncharset=UTF-8 Content-Type: text/plain; charset=UTF-8 X-DSPAM-Result: Innocent X-DSPAM-Processed: Fri Jan 4\\n11:12:37 2008 X-DSPAM-Confidence: 0.7601 X-DSPAM-Probability: 0.0000 Details:\\nhttp://source.sakaiproject.org/viewsvn/?view=rev&rev=39762 Author: gsilver@umich.edu Date: 2008-01-04 11:11:00 -0500\\n(Fri, 04 Jan 2008) New Revision: 39762 Modified: web/trunk/web-tool/tool/src/bundle/iframe.properties Log: SAK-12596\\nhttp://bugs.sakaiproject.org/jira/browse/SAK-12596 - left moot (unused) entries commented for now ---------------------- This\\nautomatic notification message was sent by Sakai Collab (https://collab.sakaiproject.org/portal) from the Source site. You\\ncan modify how you receive notifications at My Workspace > Preferences. From gsilver@umich.edu Fri Jan 4 11:11:52\\n2008 Return-Path: Received: from murder (mail.umich.edu [141.211.14.36]) by frankenstein.mail.umich.edu (Cyrus v2.3.8)\\nwith LMTPA; Fri, 04 Jan 2008 11:11:52 -0500 X-Sieve: CMU Sieve 2.3 Received: from murder ([unix socket]) by\\nmail.umich.edu (Cyrus v2.2.12) with LMTPA; Fri, 04 Jan 2008 11:11:52 -0500 Received: from creepshow.mr.itd.umich.edu\\n(creepshow.mr.itd.umich.edu [141.211.14.84]) by godsend.mail.umich.edu () with ESMTP id m04GBqqv025330; Fri, 4 Jan\\n2008 11:11:52 -0500 Received: FROM paploo.uhi.ac.uk (app1.prod.collab.uhi.ac.uk [194.35.219.184]) BY\\ncreepshow.mr.itd.umich.edu ID 477E5AB3.5CC32.30840 ; 4 Jan 2008 11:11:34 -0500 Received: from paploo.uhi.ac.uk\\n(localhost [127.0.0.1]) by paploo.uhi.ac.uk (Postfix) with ESMTP id 62AA4BAE46; Fri, 4 Jan 2008 16:11:31 +0000 (GMT)\\nMessage-ID: <200801041610.m04GA5KP007209@nakamura.uits.iupui.edu> Mime-Version: 1.0 Content-TransferEncoding: 7bit Received: from prod.collab.uhi.ac.uk ([194.35.219.182]) by paploo.uhi.ac.uk (JAMES SMTP Server 2.1.3)\\nwith SMTP ID 1006 for ; Fri, 4 Jan 2008 16:11:18 +0000 (GMT) Received: from nakamura.uits.iupui.edu\\n(nakamura.uits.iupui.edu [134.68.220.122]) by shmi.uhi.ac.uk (Postfix) with ESMTP id C596A3DFA2 for ; Fri, 4 Jan 2008\\n16:11:16 +0000 (GMT) Received: from nakamura.uits.iupui.edu (localhost [127.0.0.1]) by nakamura.uits.iupui.edu\\n(8.12.11.20060308/8.12.11) with ESMTP id m04GA5LR007211 for ; Fri, 4 Jan 2008 11:10:05 -0500 Received: (from\\napache@localhost) by nakamura.uits.iupui.edu (8.12.11.20060308/8.12.11/Submit) id m04GA5KP007209 for\\nsource@collab.sakaiproject.org; Fri, 4 Jan 2008 11:10:05 -0500 Date: Fri, 4 Jan 2008 11:10:05 -0500 X-AuthenticationWarning: nakamura.uits.iupui.edu: apache set sender to gsilver@umich.edu using -f To: source@collab.sakaiproject.org\\nFrom: gsilver@umich.edu Subject: [sakai] svn commit: r39761 - site/trunk/site-tool/tool/src/bundle X-Content-Type-OuterEnvelope: text/plain; charset=UTF-8 X-Content-Type-Message-Body: text/plain; charset=UTF-8 Content-Type: text/plain;\\ncharset=UTF-8 X-DSPAM-Result: Innocent X-DSPAM-Processed: Fri Jan 4 11:11:52 2008 X-DSPAM-Confidence: 0.7605\\nX-DSPAM-Probability: 0.0000 Details: http://source.sakaiproject.org/viewsvn/?view=rev&rev=39761 Author:\\ngsilver@umich.edu Date: 2008-01-04 11:10:04 -0500 (Fri, 04 Jan 2008) New Revision: 39761 Modified: site/trunk/sitetool/tool/src/bundle/admin.properties Log: SAK-12595 http://bugs.sakaiproject.org/jira/browse/SAK-12595 - left moot\\n(unused) entries commented for now ---------------------- This automatic notification message was sent by Sakai Collab\\n(https://collab.sakaiproject.org/portal) from the Source site. You can modify how you receive notifications at My Workspace\\n> Preferences. From zqian@umich.edu Fri Jan 4 11:11:03 2008 Return-Path: Received: from murder (mail.umich.edu\\n[141.211.14.97]) by frankenstein.mail.umich.edu (Cyrus v2.3.8) with LMTPA; Fri, 04 Jan 2008 11:11:03 -0500 X-Sieve: CMU\\nSieve 2.3 Received: from murder ([unix socket]) by mail.umich.edu (Cyrus v2.2.12) with LMTPA; Fri, 04 Jan 2008 11:11:03\\n-0500 Received: from carrie.mr.itd.umich.edu (carrie.mr.itd.umich.edu [141.211.93.152]) by sleepers.mail.umich.edu () with\\nESMTP id m04GB3Vg011502; Fri, 4 Jan 2008 11:11:03 -0500 Received: FROM paploo.uhi.ac.uk\\n(app1.prod.collab.uhi.ac.uk [194.35.219.184]) BY carrie.mr.itd.umich.edu ID 477E5A8D.B378F.24200 ; 4 Jan 2008 11:10:56\\n-0500 Received: from paploo.uhi.ac.uk (localhost [127.0.0.1]) by paploo.uhi.ac.uk (Postfix) with ESMTP id C7251BAD44;\\nFri, 4 Jan 2008 16:10:53 +0000 (GMT) Message-ID: <200801041609.m04G9EuX007197@nakamura.uits.iupui.edu> MimeVersion: 1.0 Content-Transfer-Encoding: 7bit Received: from prod.collab.uhi.ac.uk ([194.35.219.182]) by paploo.uhi.ac.uk\\n(JAMES SMTP Server 2.1.3) with SMTP ID 483 for ; Fri, 4 Jan 2008 16:10:27 +0000 (GMT) Received: from\\nnakamura.uits.iupui.edu (nakamura.uits.iupui.edu [134.68.220.122]) by shmi.uhi.ac.uk (Postfix) with ESMTP id\\n2E7043DFA2 for ; Fri, 4 Jan 2008 16:10:26 +0000 (GMT) Received: from nakamura.uits.iupui.edu (localhost [127.0.0.1]) by\\nnakamura.uits.iupui.edu (8.12.11.20060308/8.12.11) with ESMTP id m04G9Eqg007199 for ; Fri, 4 Jan 2008 11:09:15 -0500\\nReceived: (from apache@localhost) by nakamura.uits.iupui.edu (8.12.11.20060308/8.12.11/Submit) id m04G9EuX007197\\nfor source@collab.sakaiproject.org; Fri, 4 Jan 2008 11:09:14 -0500 Date: Fri, 4 Jan 2008 11:09:14 -0500 X-AuthenticationWarning: nakamura.uits.iupui.edu: apache set sender to zqian@umich.edu using -f To: source@collab.sakaiproject.org\\nFrom: zqian@umich.edu Subject: [sakai] svn commit: r39760 - in site-manage/trunk/site-manage-tool/tool/src:\\njava/org/sakaiproject/site/tool webapp/vm/sitesetup X-Content-Type-Outer-Envelope: text/plain; charset=UTF-8 X-ContentType-Message-Body: text/plain; charset=UTF-8 Content-Type: text/plain; charset=UTF-8 X-DSPAM-Result: Innocent XDSPAM-Processed: Fri Jan 4 11:11:03 2008 X-DSPAM-Confidence: 0.6959 X-DSPAM-Probability: 0.0000 Details:\\nhttp://source.sakaiproject.org/viewsvn/?view=rev&rev=39760 Author: zqian@umich.edu Date: 2008-01-04 11:09:12 -0500\\n(Fri, 04 Jan 2008) New Revision: 39760 Modified: site-manage/trunk/site-managetool/tool/src/java/org/sakaiproject/site/tool/SiteAction.java site-manage/trunk/site-managetool/tool/src/webapp/vm/sitesetup/chef_site-siteInfo-list.vm Log: fix to SAK-10911: Refactor use of site.upd,\\nsite.upd.site.mbrship and site.upd.grp.mbrship permissions ---------------------- This automatic notification message was sent\\nby Sakai Collab (https://collab.sakaiproject.org/portal) from the Source site. You can modify how you receive notifications at\\nMy Workspace > Preferences. From gsilver@umich.edu Fri Jan 4 11:10:22 2008 Return-Path: Received: from murder\\n(mail.umich.edu [141.211.14.39]) by frankenstein.mail.umich.edu (Cyrus v2.3.8) with LMTPA; Fri, 04 Jan 2008 11:10:22\\n-0500 X-Sieve: CMU Sieve 2.3 Received: from murder ([unix socket]) by mail.umich.edu (Cyrus v2.2.12) with LMTPA; Fri,\\n04 Jan 2008 11:10:22 -0500 Received: from holes.mr.itd.umich.edu (holes.mr.itd.umich.edu [141.211.14.79]) by\\nfaithful.mail.umich.edu () with ESMTP id m04GAL9k010604; Fri, 4 Jan 2008 11:10:21 -0500 Received: FROM\\npaploo.uhi.ac.uk (app1.prod.collab.uhi.ac.uk [194.35.219.184]) BY holes.mr.itd.umich.edu ID 477E5A67.34350.23015 ; 4\\nJan 2008 11:10:18 -0500 Received: from paploo.uhi.ac.uk (localhost [127.0.0.1]) by paploo.uhi.ac.uk (Postfix) with ESMTP\\nid 98D04BAD43; Fri, 4 Jan 2008 16:10:11 +0000 (GMT) Message-ID:\\n<200801041608.m04G8d7w007184@nakamura.uits.iupui.edu> Mime-Version: 1.0 Content-Transfer-Encoding: 7bit\\nReceived: from prod.collab.uhi.ac.uk ([194.35.219.182]) by paploo.uhi.ac.uk (JAMES SMTP Server 2.1.3) with SMTP ID\\n966 for ; Fri, 4 Jan 2008 16:09:51 +0000 (GMT) Received: from nakamura.uits.iupui.edu (nakamura.uits.iupui.edu\\n[134.68.220.122]) by shmi.uhi.ac.uk (Postfix) with ESMTP id 9F89542DD0 for ; Fri, 4 Jan 2008 16:09:50 +0000 (GMT)\\nReceived: from nakamura.uits.iupui.edu (localhost [127.0.0.1]) by nakamura.uits.iupui.edu (8.12.11.20060308/8.12.11) with\\nESMTP id m04G8dXN007186 for ; Fri, 4 Jan 2008 11:08:39 -0500 Received: (from apache@localhost) by\\nnakamura.uits.iupui.edu (8.12.11.20060308/8.12.11/Submit) id m04G8d7w007184 for source@collab.sakaiproject.org; Fri,\\n4 Jan 2008 11:08:39 -0500 Date: Fri, 4 Jan 2008 11:08:39 -0500 X-Authentication-Warning: nakamura.uits.iupui.edu:\\napache set sender to gsilver@umich.edu using -f To: source@collab.sakaiproject.org From: gsilver@umich.edu Subject:\\n[sakai] svn commit: r39759 - mailarchive/trunk/mailarchive-tool/tool/src/bundle X-Content-Type-Outer-Envelope: text/plain;\\ncharset=UTF-8 X-Content-Type-Message-Body: text/plain; charset=UTF-8 Content-Type: text/plain; charset=UTF-8 XDSPAM-Result: Innocent X-DSPAM-Processed: Fri Jan 4 11:10:22 2008 X-DSPAM-Confidence: 0.7606 X-DSPAMProbability: 0.0000 Details: http://source.sakaiproject.org/viewsvn/?view=rev&rev=39759 Author: gsilver@umich.edu Date:\\n2008-01-04 11:08:38 -0500 (Fri, 04 Jan 2008) New Revision: 39759 Modified: mailarchive/trunk/mailarchivetool/tool/src/bundle/email.properties Log: SAK-12592 http://bugs.sakaiproject.org/jira/browse/SAK-12592 - left moot\\n(unused) entries commented for now ---------------------- This automatic notification message was sent by Sakai Collab\\n(https://collab.sakaiproject.org/portal) from the Source site. You can modify how you receive notifications at My Workspace\\n> Preferences. From wagnermr@iupui.edu Fri Jan 4 10:38:42 2008 Return-Path: Received: from murder (mail.umich.edu\\n[141.211.14.90]) by frankenstein.mail.umich.edu (Cyrus v2.3.8) with LMTPA; Fri, 04 Jan 2008 10:38:42 -0500 X-Sieve:\\nCMU Sieve 2.3 Received: from murder ([unix socket]) by mail.umich.edu (Cyrus v2.2.12) with LMTPA; Fri, 04 Jan 2008\\n10:38:42 -0500 Received: from shining.mr.itd.umich.edu (shining.mr.itd.umich.edu [141.211.93.153]) by\\nflawless.mail.umich.edu () with ESMTP id m04Fcfjm012313; Fri, 4 Jan 2008 10:38:41 -0500 Received: FROM\\npaploo.uhi.ac.uk (app1.prod.collab.uhi.ac.uk [194.35.219.184]) BY shining.mr.itd.umich.edu ID 477E52FA.E6C6E.24093 ; 4\\nJan 2008 10:38:37 -0500 Received: from paploo.uhi.ac.uk (localhost [127.0.0.1]) by paploo.uhi.ac.uk (Postfix) with ESMTP\\nid 6A39594CD2; Fri, 4 Jan 2008 15:37:36 +0000 (GMT) Message-ID:\\n<200801041537.m04Fb6Ci007092@nakamura.uits.iupui.edu> Mime-Version: 1.0 Content-Transfer-Encoding: 7bit\\nReceived: from prod.collab.uhi.ac.uk ([194.35.219.182]) by paploo.uhi.ac.uk (JAMES SMTP Server 2.1.3) with SMTP ID\\n690 for ; Fri, 4 Jan 2008 15:37:21 +0000 (GMT) Received: from nakamura.uits.iupui.edu (nakamura.uits.iupui.edu\\n[134.68.220.122]) by shmi.uhi.ac.uk (Postfix) with ESMTP id CEFA037ACE for ; Fri, 4 Jan 2008 15:38:17 +0000 (GMT)\\nReceived: from nakamura.uits.iupui.edu (localhost [127.0.0.1]) by nakamura.uits.iupui.edu (8.12.11.20060308/8.12.11) with\\nESMTP id m04Fb6nh007094 for ; Fri, 4 Jan 2008 10:37:06 -0500 Received: (from apache@localhost) by\\nnakamura.uits.iupui.edu (8.12.11.20060308/8.12.11/Submit) id m04Fb6Ci007092 for source@collab.sakaiproject.org; Fri, 4\\nJan 2008 10:37:06 -0500 Date: Fri, 4 Jan 2008 10:37:06 -0500 X-Authentication-Warning: nakamura.uits.iupui.edu: apache\\nset sender to wagnermr@iupui.edu using -f To: source@collab.sakaiproject.org From: wagnermr@iupui.edu Subject:\\n[sakai] svn commit: r39758 - in gradebook/trunk: app/business/src/java/org/sakaiproject/tool/gradebook/business/impl\\nservice/api/src/java/org/sakaiproject/service/gradebook/shared service/impl/src/java/org/sakaiproject/component/gradebook\\nX-Content-Type-Outer-Envelope: text/plain; charset=UTF-8 X-Content-Type-Message-Body: text/plain; charset=UTF-8\\nContent-Type: text/plain; charset=UTF-8 X-DSPAM-Result: Innocent X-DSPAM-Processed: Fri Jan 4 10:38:42 2008 XDSPAM-Confidence: 0.7559 X-DSPAM-Probability: 0.0000 Details: http://source.sakaiproject.org/viewsvn/?\\nview=rev&rev=39758 Author: wagnermr@iupui.edu Date: 2008-01-04 10:37:04 -0500 (Fri, 04 Jan 2008) New Revision:\\n39758 Modified:\\ngradebook/trunk/app/business/src/java/org/sakaiproject/tool/gradebook/business/impl/GradebookManagerHibernateImpl.java\\ngradebook/trunk/service/api/src/java/org/sakaiproject/service/gradebook/shared/GradebookService.java\\ngradebook/trunk/service/impl/src/java/org/sakaiproject/component/gradebook/GradebookServiceHibernateImpl.java Log:\\nSAK-12175 http://bugs.sakaiproject.org/jira/browse/SAK-12175 Create methods required for gb integration with the\\nAssignment2 tool getGradeDefinitionForStudentForItem ---------------------- This automatic notification message was sent by\\nSakai Collab (https://collab.sakaiproject.org/portal) from the Source site. You can modify how you receive notifications at My\\nWorkspace > Preferences. From zqian@umich.edu Fri Jan 4 10:17:43 2008 Return-Path: Received: from murder\\n(mail.umich.edu [141.211.14.97]) by frankenstein.mail.umich.edu (Cyrus v2.3.8) with LMTPA; Fri, 04 Jan 2008 10:17:43\\n-0500 X-Sieve: CMU Sieve 2.3 Received: from murder ([unix socket]) by mail.umich.edu (Cyrus v2.2.12) with LMTPA; Fri,\\n04 Jan 2008 10:17:42 -0500 Received: from creepshow.mr.itd.umich.edu (creepshow.mr.itd.umich.edu [141.211.14.84]) by\\nsleepers.mail.umich.edu () with ESMTP id m04FHgfs011536; Fri, 4 Jan 2008 10:17:42 -0500 Received: FROM\\npaploo.uhi.ac.uk (app1.prod.collab.uhi.ac.uk [194.35.219.184]) BY creepshow.mr.itd.umich.edu ID 477E4E0F.CCA4B.926 ;\\n4 Jan 2008 10:17:38 -0500 Received: from paploo.uhi.ac.uk (localhost [127.0.0.1]) by paploo.uhi.ac.uk (Postfix) with\\nESMTP id BD02DBAC64; Fri, 4 Jan 2008 15:17:34 +0000 (GMT) Message-ID:\\n<200801041515.m04FFv42007050@nakamura.uits.iupui.edu> Mime-Version: 1.0 Content-Transfer-Encoding: 7bit\\nReceived: from prod.collab.uhi.ac.uk ([194.35.219.182]) by paploo.uhi.ac.uk (JAMES SMTP Server 2.1.3) with SMTP ID 25\\nfor ; Fri, 4 Jan 2008 15:17:11 +0000 (GMT) Received: from nakamura.uits.iupui.edu (nakamura.uits.iupui.edu\\n[134.68.220.122]) by shmi.uhi.ac.uk (Postfix) with ESMTP id 5B396236B9 for ; Fri, 4 Jan 2008 15:17:08 +0000 (GMT)\\nReceived: from nakamura.uits.iupui.edu (localhost [127.0.0.1]) by nakamura.uits.iupui.edu (8.12.11.20060308/8.12.11) with\\nESMTP id m04FFv85007052 for ; Fri, 4 Jan 2008 10:15:57 -0500 Received: (from apache@localhost) by\\nnakamura.uits.iupui.edu (8.12.11.20060308/8.12.11/Submit) id m04FFv42007050 for source@collab.sakaiproject.org; Fri, 4\\nJan 2008 10:15:57 -0500 Date: Fri, 4 Jan 2008 10:15:57 -0500 X-Authentication-Warning: nakamura.uits.iupui.edu: apache\\nset sender to zqian@umich.edu using -f To: source@collab.sakaiproject.org From: zqian@umich.edu Subject: [sakai] svn\\ncommit: r39757 - in assignment/trunk: assignment-impl/impl/src/java/org/sakaiproject/assignment/impl assignmenttool/tool/src/webapp/vm/assignment X-Content-Type-Outer-Envelope: text/plain; charset=UTF-8 X-Content-Type-MessageBody: text/plain; charset=UTF-8 Content-Type: text/plain; charset=UTF-8 X-DSPAM-Result: Innocent X-DSPAM-Processed:\\nFri Jan 4 10:17:42 2008 X-DSPAM-Confidence: 0.7605 X-DSPAM-Probability: 0.0000 Details:\\nhttp://source.sakaiproject.org/viewsvn/?view=rev&rev=39757 Author: zqian@umich.edu Date: 2008-01-04 10:15:54 -0500\\n(Fri, 04 Jan 2008) New Revision: 39757 Modified: assignment/trunk/assignmentimpl/impl/src/java/org/sakaiproject/assignment/impl/BaseAssignmentService.java assignment/trunk/assignmenttool/tool/src/webapp/vm/assignment/chef_assignments_instructor_list_submissions.vm Log: fix to SAK-12604:Don\\'t show\\ngroups/sections filter if the site doesn\\'t have any ---------------------- This automatic notification message was sent by Sakai\\nCollab (https://collab.sakaiproject.org/portal) from the Source site. You can modify how you receive notifications at My\\nWorkspace > Preferences. From antranig@caret.cam.ac.uk Fri Jan 4 10:04:14 2008 Return-Path: Received: from murder\\n(mail.umich.edu [141.211.14.25]) by frankenstein.mail.umich.edu (Cyrus v2.3.8) with LMTPA; Fri, 04 Jan 2008 10:04:14\\n-0500 X-Sieve: CMU Sieve 2.3 Received: from murder ([unix socket]) by mail.umich.edu (Cyrus v2.2.12) with LMTPA; Fri,\\n04 Jan 2008 10:04:14 -0500 Received: from holes.mr.itd.umich.edu (holes.mr.itd.umich.edu [141.211.14.79]) by\\npanther.mail.umich.edu () with ESMTP id m04F4Dci015108; Fri, 4 Jan 2008 10:04:13 -0500 Received: FROM\\npaploo.uhi.ac.uk (app1.prod.collab.uhi.ac.uk [194.35.219.184]) BY holes.mr.itd.umich.edu ID 477E4AE3.D7AF.31669 ; 4\\nJan 2008 10:04:05 -0500 Received: from paploo.uhi.ac.uk (localhost [127.0.0.1]) by paploo.uhi.ac.uk (Postfix) with ESMTP\\nid 933E3BAC17; Fri, 4 Jan 2008 15:04:00 +0000 (GMT) Message-ID:\\n<200801041502.m04F21Jo007031@nakamura.uits.iupui.edu> Mime-Version: 1.0 Content-Transfer-Encoding: 7bit\\nReceived: from prod.collab.uhi.ac.uk ([194.35.219.182]) by paploo.uhi.ac.uk (JAMES SMTP Server 2.1.3) with SMTP ID 32\\nfor ; Fri, 4 Jan 2008 15:03:15 +0000 (GMT) Received: from nakamura.uits.iupui.edu (nakamura.uits.iupui.edu\\n[134.68.220.122]) by shmi.uhi.ac.uk (Postfix) with ESMTP id AC2F6236B9 for ; Fri, 4 Jan 2008 15:03:12 +0000 (GMT)\\nReceived: from nakamura.uits.iupui.edu (localhost [127.0.0.1]) by nakamura.uits.iupui.edu (8.12.11.20060308/8.12.11) with\\nESMTP id m04F21hn007033 for ; Fri, 4 Jan 2008 10:02:01 -0500 Received: (from apache@localhost) by\\nnakamura.uits.iupui.edu (8.12.11.20060308/8.12.11/Submit) id m04F21Jo007031 for source@collab.sakaiproject.org; Fri, 4\\nJan 2008 10:02:01 -0500 Date: Fri, 4 Jan 2008 10:02:01 -0500 X-Authentication-Warning: nakamura.uits.iupui.edu: apache\\nset sender to antranig@caret.cam.ac.uk using -f To: source@collab.sakaiproject.org From: antranig@caret.cam.ac.uk\\nSubject: [sakai] svn commit: r39756 - in component/branches/SAK-12166/componentapi/component/src/java/org/sakaiproject/component: impl impl/spring/support impl/spring/support/dynamic impl/support util\\nX-Content-Type-Outer-Envelope: text/plain; charset=UTF-8 X-Content-Type-Message-Body: text/plain; charset=UTF-8\\nContent-Type: text/plain; charset=UTF-8 X-DSPAM-Result: Innocent X-DSPAM-Processed: Fri Jan 4 10:04:14 2008 XDSPAM-Confidence: 0.6932 X-DSPAM-Probability: 0.0000 Details: http://source.sakaiproject.org/viewsvn/?\\nview=rev&rev=39756 Author: antranig@caret.cam.ac.uk Date: 2008-01-04 10:01:40 -0500 (Fri, 04 Jan 2008) New\\nRevision: 39756 Added: component/branches/SAK-12166/componentapi/component/src/java/org/sakaiproject/component/impl/spring/support/dynamic/ component/branches/SAK12166/componentapi/component/src/java/org/sakaiproject/component/impl/spring/support/dynamic/DynamicComponentManager.java\\ncomponent/branches/SAK-12166/component-api/component/src/java/org/sakaiproject/component/impl/support/\\ncomponent/branches/SAK-12166/componentapi/component/src/java/org/sakaiproject/component/impl/support/DynamicComponentRecord.java\\ncomponent/branches/SAK-12166/componentapi/component/src/java/org/sakaiproject/component/impl/support/DynamicJARManager.java component/branches/SAK-\\n12166/component-api/component/src/java/org/sakaiproject/component/impl/support/JARRecord.java\\ncomponent/branches/SAK-12166/componentapi/component/src/java/org/sakaiproject/component/util/ByteToCharBase64.java component/branches/SAK12166/component-api/component/src/java/org/sakaiproject/component/util/FileUtil.java component/branches/SAK12166/component-api/component/src/java/org/sakaiproject/component/util/RecordFileIO.java component/branches/SAK12166/component-api/component/src/java/org/sakaiproject/component/util/RecordReader.java component/branches/SAK12166/component-api/component/src/java/org/sakaiproject/component/util/RecordWriter.java component/branches/SAK12166/component-api/component/src/java/org/sakaiproject/component/util/StreamDigestor.java Modified:\\ncomponent/branches/SAK-12166/componentapi/component/src/java/org/sakaiproject/component/impl/spring/support/ComponentsLoaderImpl.java Log: Temporary\\ncommit of incomplete work on JAR caching ---------------------- This automatic notification message was sent by Sakai Collab\\n(https://collab.sakaiproject.org/portal) from the Source site. You can modify how you receive notifications at My Workspace\\n> Preferences. From gopal.ramasammycook@gmail.com Fri Jan 4 09:05:31 2008 Return-Path: Received: from murder\\n(mail.umich.edu [141.211.14.90]) by frankenstein.mail.umich.edu (Cyrus v2.3.8) with LMTPA; Fri, 04 Jan 2008 09:05:31\\n-0500 X-Sieve: CMU Sieve 2.3 Received: from murder ([unix socket]) by mail.umich.edu (Cyrus v2.2.12) with LMTPA; Fri,\\n04 Jan 2008 09:05:31 -0500 Received: from guys.mr.itd.umich.edu (guys.mr.itd.umich.edu [141.211.14.76]) by\\nflawless.mail.umich.edu () with ESMTP id m04E5U3C029277; Fri, 4 Jan 2008 09:05:30 -0500 Received: FROM\\npaploo.uhi.ac.uk (app1.prod.collab.uhi.ac.uk [194.35.219.184]) BY guys.mr.itd.umich.edu ID 477E3D23.EE2E7.5237 ; 4\\nJan 2008 09:05:26 -0500 Received: from paploo.uhi.ac.uk (localhost [127.0.0.1]) by paploo.uhi.ac.uk (Postfix) with ESMTP\\nid 33C7856DC0; Fri, 4 Jan 2008 14:05:26 +0000 (GMT) Message-ID:\\n<200801041403.m04E3psW006926@nakamura.uits.iupui.edu> Mime-Version: 1.0 Content-Transfer-Encoding: 7bit\\nReceived: from prod.collab.uhi.ac.uk ([194.35.219.182]) by paploo.uhi.ac.uk (JAMES SMTP Server 2.1.3) with SMTP ID\\n575 for ; Fri, 4 Jan 2008 14:05:04 +0000 (GMT) Received: from nakamura.uits.iupui.edu (nakamura.uits.iupui.edu\\n[134.68.220.122]) by shmi.uhi.ac.uk (Postfix) with ESMTP id 3C0261D617 for ; Fri, 4 Jan 2008 14:05:03 +0000 (GMT)\\nReceived: from nakamura.uits.iupui.edu (localhost [127.0.0.1]) by nakamura.uits.iupui.edu (8.12.11.20060308/8.12.11) with\\nESMTP id m04E3pQS006928 for ; Fri, 4 Jan 2008 09:03:52 -0500 Received: (from apache@localhost) by\\nnakamura.uits.iupui.edu (8.12.11.20060308/8.12.11/Submit) id m04E3psW006926 for source@collab.sakaiproject.org; Fri,\\n4 Jan 2008 09:03:51 -0500 Date: Fri, 4 Jan 2008 09:03:51 -0500 X-Authentication-Warning: nakamura.uits.iupui.edu:\\napache set sender to gopal.ramasammycook@gmail.com using -f To: source@collab.sakaiproject.org From:\\ngopal.ramasammycook@gmail.com Subject: [sakai] svn commit: r39755 - in sam/branches/SAK-12065: samigoapi/src/java/org/sakaiproject/tool/assessment/shared/api/grading samigoapp/src/java/org/sakaiproject/tool/assessment/ui/bean/evaluation samigoapp/src/java/org/sakaiproject/tool/assessment/ui/listener/evaluation samigoservices/src/java/org/sakaiproject/tool/assessment/facade samigoservices/src/java/org/sakaiproject/tool/assessment/integration/helper/ifc samigoservices/src/java/org/sakaiproject/tool/assessment/integration/helper/integrated samigoservices/src/java/org/sakaiproject/tool/assessment/integration/helper/standalone samigoservices/src/java/org/sakaiproject/tool/assessment/shared/impl/grading X-Content-Type-Outer-Envelope: text/plain;\\ncharset=UTF-8 X-Content-Type-Message-Body: text/plain; charset=UTF-8 Content-Type: text/plain; charset=UTF-8 XDSPAM-Result: Innocent X-DSPAM-Processed: Fri Jan 4 09:05:31 2008 X-DSPAM-Confidence: 0.7558 X-DSPAMProbability: 0.0000 Details: http://source.sakaiproject.org/viewsvn/?view=rev&rev=39755 Author:\\ngopal.ramasammycook@gmail.com Date: 2008-01-04 09:02:54 -0500 (Fri, 04 Jan 2008) New Revision: 39755 Modified:\\nsam/branches/SAK-12065/samigoapi/src/java/org/sakaiproject/tool/assessment/shared/api/grading/GradingSectionAwareServiceAPI.java sam/branches/SAK12065/samigo-app/src/java/org/sakaiproject/tool/assessment/ui/bean/evaluation/QuestionScoresBean.java\\nsam/branches/SAK-12065/samigoapp/src/java/org/sakaiproject/tool/assessment/ui/bean/evaluation/SubmissionStatusBean.java sam/branches/SAK12065/samigo-app/src/java/org/sakaiproject/tool/assessment/ui/bean/evaluation/TotalScoresBean.java sam/branches/SAK12065/samigo-app/src/java/org/sakaiproject/tool/assessment/ui/listener/evaluation/SubmissionStatusListener.java\\nsam/branches/SAK-12065/samigoservices/src/java/org/sakaiproject/tool/assessment/facade/PublishedAssessmentFacadeQueries.java sam/branches/SAK12065/samigo-services/src/java/org/sakaiproject/tool/assessment/facade/PublishedAssessmentFacadeQueriesAPI.java\\nsam/branches/SAK-12065/samigoservices/src/java/org/sakaiproject/tool/assessment/integration/helper/ifc/SectionAwareServiceHelper.java\\nsam/branches/SAK-12065/samigoservices/src/java/org/sakaiproject/tool/assessment/integration/helper/integrated/SectionAwareServiceHelperImpl.java\\nsam/branches/SAK-12065/samigoservices/src/java/org/sakaiproject/tool/assessment/integration/helper/standalone/SectionAwareServiceHelperImpl.java\\nsam/branches/SAK-12065/samigoservices/src/java/org/sakaiproject/tool/assessment/shared/impl/grading/GradingSectionAwareServiceImpl.java Log: SAK12065 Gopal - Samigo Group Release. SubmissionStatus/TotalScores/Questions View filter. ---------------------- This\\nautomatic notification message was sent by Sakai Collab (https://collab.sakaiproject.org/portal) from the Source site. You\\ncan modify how you receive notifications at My Workspace > Preferences. From david.horwitz@uct.ac.za Fri Jan 4\\n07:02:32 2008 Return-Path: Received: from murder (mail.umich.edu [141.211.14.39]) by frankenstein.mail.umich.edu\\n(Cyrus v2.3.8) with LMTPA; Fri, 04 Jan 2008 07:02:32 -0500 X-Sieve: CMU Sieve 2.3 Received: from murder ([unix socket])\\nby mail.umich.edu (Cyrus v2.2.12) with LMTPA; Fri, 04 Jan 2008 07:02:32 -0500 Received: from guys.mr.itd.umich.edu\\n(guys.mr.itd.umich.edu [141.211.14.76]) by faithful.mail.umich.edu () with ESMTP id m04C2VN7026678; Fri, 4 Jan 2008\\n07:02:31 -0500 Received: FROM paploo.uhi.ac.uk (app1.prod.collab.uhi.ac.uk [194.35.219.184]) BY guys.mr.itd.umich.edu\\nID 477E2050.C2599.3263 ; 4 Jan 2008 07:02:27 -0500 Received: from paploo.uhi.ac.uk (localhost [127.0.0.1]) by\\npaploo.uhi.ac.uk (Postfix) with ESMTP id 6497FBA906; Fri, 4 Jan 2008 12:02:11 +0000 (GMT) Message-ID:\\n<200801041200.m04C0gfK006793@nakamura.uits.iupui.edu> Mime-Version: 1.0 Content-Transfer-Encoding: 7bit\\nReceived: from prod.collab.uhi.ac.uk ([194.35.219.182]) by paploo.uhi.ac.uk (JAMES SMTP Server 2.1.3) with SMTP ID\\n611 for ; Fri, 4 Jan 2008 12:01:53 +0000 (GMT) Received: from nakamura.uits.iupui.edu (nakamura.uits.iupui.edu\\n[134.68.220.122]) by shmi.uhi.ac.uk (Postfix) with ESMTP id 5296342D3C for ; Fri, 4 Jan 2008 12:01:53 +0000 (GMT)\\nReceived: from nakamura.uits.iupui.edu (localhost [127.0.0.1]) by nakamura.uits.iupui.edu (8.12.11.20060308/8.12.11) with\\nESMTP id m04C0gnm006795 for ; Fri, 4 Jan 2008 07:00:42 -0500 Received: (from apache@localhost) by\\nnakamura.uits.iupui.edu (8.12.11.20060308/8.12.11/Submit) id m04C0gfK006793 for source@collab.sakaiproject.org; Fri, 4\\nJan 2008 07:00:42 -0500 Date: Fri, 4 Jan 2008 07:00:42 -0500 X-Authentication-Warning: nakamura.uits.iupui.edu: apache\\nset sender to david.horwitz@uct.ac.za using -f To: source@collab.sakaiproject.org From: david.horwitz@uct.ac.za Subject:\\n[sakai] svn commit: r39754 - in polls/branches/sakai_2-5-x: . tool tool/src/java/org/sakaiproject/poll/tool\\ntool/src/java/org/sakaiproject/poll/tool/evolvers tool/src/webapp/WEB-INF X-Content-Type-Outer-Envelope: text/plain;\\ncharset=UTF-8 X-Content-Type-Message-Body: text/plain; charset=UTF-8 Content-Type: text/plain; charset=UTF-8 XDSPAM-Result: Innocent X-DSPAM-Processed: Fri Jan 4 07:02:32 2008 X-DSPAM-Confidence: 0.6526 X-DSPAMProbability: 0.0000 Details: http://source.sakaiproject.org/viewsvn/?view=rev&rev=39754 Author: david.horwitz@uct.ac.za\\nDate: 2008-01-04 07:00:10 -0500 (Fri, 04 Jan 2008) New Revision: 39754 Added: polls/branches/sakai_2-5-\\nx/tool/src/java/org/sakaiproject/poll/tool/evolvers/ polls/branches/sakai_2-5-\\nx/tool/src/java/org/sakaiproject/poll/tool/evolvers/SakaiFCKTextEvolver.java Removed: polls/branches/sakai_2-5-\\nx/tool/src/java/org/sakaiproject/poll/tool/evolvers/SakaiFCKTextEvolver.java Modified: polls/branches/sakai_2-5-x/.classpath\\npolls/branches/sakai_2-5-x/tool/pom.xml polls/branches/sakai_2-5-x/tool/src/webapp/WEB-INF/requestContext.xml Log:\\nsvn log -r39753 https://source.sakaiproject.org/svn/polls/trunk ------------------------------------------------------------------------\\nr39753 | david.horwitz@uct.ac.za | 2008-01-04 13:05:51 +0200 (Fri, 04 Jan 2008) | 1 line SAK-12228 implmented\\nworkaround sugested by AB - needs to be tested against a trunk build ----------------------------------------------------------------------\\n-- dhorwitz@david-horwitz-6:~/branchManagemnt/sakai_2-5-x> svn merge -c39753\\nhttps://source.sakaiproject.org/svn/polls/trunk polls/ U polls/.classpath A polls/tool/src/java/org/sakaiproject/poll/tool/evolvers\\nA polls/tool/src/java/org/sakaiproject/poll/tool/evolvers/SakaiFCKTextEvolver.java C polls/tool/src/webapp/WEBINF/requestContext.xml U polls/tool/pom.xml dhorwitz@david-horwitz-6:~/branchManagemnt/sakai_2-5-x> svn resolved\\npolls/tool/src/webapp/WEB-INF/requestContext.xml Resolved conflicted state of \\'polls/tool/src/webapp/WEBINF/requestContext.xml ---------------------- This automatic notification message was sent by Sakai Collab\\n(https://collab.sakaiproject.org/portal) from the Source site. You can modify how you receive notifications at My Workspace\\n> Preferences. From david.horwitz@uct.ac.za Fri Jan 4 06:08:27 2008 Return-Path: Received: from murder\\n(mail.umich.edu [141.211.14.98]) by frankenstein.mail.umich.edu (Cyrus v2.3.8) with LMTPA; Fri, 04 Jan 2008 06:08:27\\n-0500 X-Sieve: CMU Sieve 2.3 Received: from murder ([unix socket]) by mail.umich.edu (Cyrus v2.2.12) with LMTPA; Fri,\\n04 Jan 2008 06:08:27 -0500 Received: from firestarter.mr.itd.umich.edu (firestarter.mr.itd.umich.edu [141.211.14.83]) by\\ncasino.mail.umich.edu () with ESMTP id m04B8Qw9001368; Fri, 4 Jan 2008 06:08:26 -0500 Received: FROM\\npaploo.uhi.ac.uk (app1.prod.collab.uhi.ac.uk [194.35.219.184]) BY firestarter.mr.itd.umich.edu ID 477E13A5.30FC0.24054 ;\\n4 Jan 2008 06:08:23 -0500 Received: from paploo.uhi.ac.uk (localhost [127.0.0.1]) by paploo.uhi.ac.uk (Postfix) with\\nESMTP id 784A476D7B; Fri, 4 Jan 2008 11:08:12 +0000 (GMT) Message-ID:\\n<200801041106.m04B6lK3006677@nakamura.uits.iupui.edu> Mime-Version: 1.0 Content-Transfer-Encoding: 7bit\\nReceived: from prod.collab.uhi.ac.uk ([194.35.219.182]) by paploo.uhi.ac.uk (JAMES SMTP Server 2.1.3) with SMTP ID\\n585 for ; Fri, 4 Jan 2008 11:07:56 +0000 (GMT) Received: from nakamura.uits.iupui.edu (nakamura.uits.iupui.edu\\n[134.68.220.122]) by shmi.uhi.ac.uk (Postfix) with ESMTP id 1CACC42D0C for ; Fri, 4 Jan 2008 11:07:58 +0000 (GMT)\\nReceived: from nakamura.uits.iupui.edu (localhost [127.0.0.1]) by nakamura.uits.iupui.edu (8.12.11.20060308/8.12.11) with\\nESMTP id m04B6lWM006679 for ; Fri, 4 Jan 2008 06:06:47 -0500 Received: (from apache@localhost) by\\nnakamura.uits.iupui.edu (8.12.11.20060308/8.12.11/Submit) id m04B6lK3006677 for source@collab.sakaiproject.org; Fri, 4\\nJan 2008 06:06:47 -0500 Date: Fri, 4 Jan 2008 06:06:47 -0500 X-Authentication-Warning: nakamura.uits.iupui.edu: apache\\nset sender to david.horwitz@uct.ac.za using -f To: source@collab.sakaiproject.org From: david.horwitz@uct.ac.za Subject:\\n[sakai] svn commit: r39753 - in polls/trunk: . tool tool/src/java/org/sakaiproject/poll/tool\\ntool/src/java/org/sakaiproject/poll/tool/evolvers tool/src/webapp/WEB-INF X-Content-Type-Outer-Envelope: text/plain;\\ncharset=UTF-8 X-Content-Type-Message-Body: text/plain; charset=UTF-8 Content-Type: text/plain; charset=UTF-8 XDSPAM-Result: Innocent X-DSPAM-Processed: Fri Jan 4 06:08:27 2008 X-DSPAM-Confidence: 0.6948 X-DSPAMProbability: 0.0000 Details: http://source.sakaiproject.org/viewsvn/?view=rev&rev=39753 Author: david.horwitz@uct.ac.za\\nDate: 2008-01-04 06:05:51 -0500 (Fri, 04 Jan 2008) New Revision: 39753 Added:\\npolls/trunk/tool/src/java/org/sakaiproject/poll/tool/evolvers/\\npolls/trunk/tool/src/java/org/sakaiproject/poll/tool/evolvers/SakaiFCKTextEvolver.java Modified: polls/trunk/.classpath\\npolls/trunk/tool/pom.xml polls/trunk/tool/src/webapp/WEB-INF/requestContext.xml Log: SAK-12228 implmented workaround\\nsugested by AB - needs to be tested against a trunk build ---------------------- This automatic notification message was sent by\\nSakai Collab (https://collab.sakaiproject.org/portal) from the Source site. You can modify how you receive notifications at My\\nWorkspace > Preferences. From david.horwitz@uct.ac.za Fri Jan 4 04:49:08 2008 Return-Path: Received: from murder\\n(mail.umich.edu [141.211.14.92]) by frankenstein.mail.umich.edu (Cyrus v2.3.8) with LMTPA; Fri, 04 Jan 2008 04:49:08\\n-0500 X-Sieve: CMU Sieve 2.3 Received: from murder ([unix socket]) by mail.umich.edu (Cyrus v2.2.12) with LMTPA; Fri,\\n04 Jan 2008 04:49:08 -0500 Received: from galaxyquest.mr.itd.umich.edu (galaxyquest.mr.itd.umich.edu [141.211.93.145])\\nby score.mail.umich.edu () with ESMTP id m049n60G017588; Fri, 4 Jan 2008 04:49:06 -0500 Received: FROM\\npaploo.uhi.ac.uk (app1.prod.collab.uhi.ac.uk [194.35.219.184]) BY galaxyquest.mr.itd.umich.edu ID 477E010C.48C2.10259\\n; 4 Jan 2008 04:49:03 -0500 Received: from paploo.uhi.ac.uk (localhost [127.0.0.1]) by paploo.uhi.ac.uk (Postfix) with\\nESMTP id 254CC8CDEE; Fri, 4 Jan 2008 09:48:55 +0000 (GMT) Message-ID:\\n<200801040947.m049lUxo006517@nakamura.uits.iupui.edu> Mime-Version: 1.0 Content-Transfer-Encoding: 7bit\\nReceived: from prod.collab.uhi.ac.uk ([194.35.219.182]) by paploo.uhi.ac.uk (JAMES SMTP Server 2.1.3) with SMTP ID\\n246 for ; Fri, 4 Jan 2008 09:48:36 +0000 (GMT) Received: from nakamura.uits.iupui.edu (nakamura.uits.iupui.edu\\n[134.68.220.122]) by shmi.uhi.ac.uk (Postfix) with ESMTP id 8C13342C92 for ; Fri, 4 Jan 2008 09:48:40 +0000 (GMT)\\nReceived: from nakamura.uits.iupui.edu (localhost [127.0.0.1]) by nakamura.uits.iupui.edu (8.12.11.20060308/8.12.11) with\\nESMTP id m049lU3P006519 for ; Fri, 4 Jan 2008 04:47:30 -0500 Received: (from apache@localhost) by\\nnakamura.uits.iupui.edu (8.12.11.20060308/8.12.11/Submit) id m049lUxo006517 for source@collab.sakaiproject.org; Fri, 4\\nJan 2008 04:47:30 -0500 Date: Fri, 4 Jan 2008 04:47:30 -0500 X-Authentication-Warning: nakamura.uits.iupui.edu: apache\\nset sender to david.horwitz@uct.ac.za using -f To: source@collab.sakaiproject.org From: david.horwitz@uct.ac.za Subject:\\n[sakai] svn commit: r39752 - in podcasts/branches/sakai_2-5-x/podcasts-app/src/webapp: css podcasts X-Content-TypeOuter-Envelope: text/plain; charset=UTF-8 X-Content-Type-Message-Body: text/plain; charset=UTF-8 Content-Type:\\ntext/plain; charset=UTF-8 X-DSPAM-Result: Innocent X-DSPAM-Processed: Fri Jan 4 04:49:08 2008 X-DSPAMConfidence: 0.6528 X-DSPAM-Probability: 0.0000 Details: http://source.sakaiproject.org/viewsvn/?view=rev&rev=39752\\nAuthor: david.horwitz@uct.ac.za Date: 2008-01-04 04:47:16 -0500 (Fri, 04 Jan 2008) New Revision: 39752 Modified:\\npodcasts/branches/sakai_2-5-x/podcasts-app/src/webapp/css/podcaster.css podcasts/branches/sakai_2-5-x/podcastsapp/src/webapp/podcasts/podMain.jsp Log: svn log -r39641 https://source.sakaiproject.org/svn/podcasts/trunk -----------------\\n------------------------------------------------------- r39641 | josrodri@iupui.edu | 2007-12-28 23:44:24 +0200 (Fri, 28 Dec 2007) | 1\\nline SAK-9882: refactored podMain.jsp the right way (at least much closer to) -------------------------------------------------------------\\n----------- dhorwitz@david-horwitz-6:~/branchManagemnt/sakai_2-5-x> svn merge -c39641\\nhttps://source.sakaiproject.org/svn/podcasts/trunk podcasts/ C podcasts/podcasts-app/src/webapp/podcasts/podMain.jsp U\\npodcasts/podcasts-app/src/webapp/css/podcaster.css conflict merged manualy ---------------------- This automatic notification\\nmessage was sent by Sakai Collab (https://collab.sakaiproject.org/portal) from the Source site. You can modify how you\\nreceive notifications at My Workspace > Preferences. From david.horwitz@uct.ac.za Fri Jan 4 04:33:44 2008 Return-Path:\\nReceived: from murder (mail.umich.edu [141.211.14.46]) by frankenstein.mail.umich.edu (Cyrus v2.3.8) with LMTPA; Fri, 04\\nJan 2008 04:33:44 -0500 X-Sieve: CMU Sieve 2.3 Received: from murder ([unix socket]) by mail.umich.edu (Cyrus v2.2.12)\\nwith LMTPA; Fri, 04 Jan 2008 04:33:44 -0500 Received: from workinggirl.mr.itd.umich.edu (workinggirl.mr.itd.umich.edu\\n[141.211.93.143]) by fan.mail.umich.edu () with ESMTP id m049Xge3031803; Fri, 4 Jan 2008 04:33:42 -0500 Received:\\nFROM paploo.uhi.ac.uk (app1.prod.collab.uhi.ac.uk [194.35.219.184]) BY workinggirl.mr.itd.umich.edu ID\\n477DFD6C.75DBE.26054 ; 4 Jan 2008 04:33:35 -0500 Received: from paploo.uhi.ac.uk (localhost [127.0.0.1]) by\\npaploo.uhi.ac.uk (Postfix) with ESMTP id 6C929BA656; Fri, 4 Jan 2008 09:33:27 +0000 (GMT) Message-ID:\\n<200801040932.m049W2i5006493@nakamura.uits.iupui.edu> Mime-Version: 1.0 Content-Transfer-Encoding: 7bit\\nReceived: from prod.collab.uhi.ac.uk ([194.35.219.182]) by paploo.uhi.ac.uk (JAMES SMTP Server 2.1.3) with SMTP ID\\n153 for ; Fri, 4 Jan 2008 09:33:10 +0000 (GMT) Received: from nakamura.uits.iupui.edu (nakamura.uits.iupui.edu\\n[134.68.220.122]) by shmi.uhi.ac.uk (Postfix) with ESMTP id 6C69423767 for ; Fri, 4 Jan 2008 09:33:13 +0000 (GMT)\\nReceived: from nakamura.uits.iupui.edu (localhost [127.0.0.1]) by nakamura.uits.iupui.edu (8.12.11.20060308/8.12.11) with\\nESMTP id m049W3fl006495 for ; Fri, 4 Jan 2008 04:32:03 -0500 Received: (from apache@localhost) by\\nnakamura.uits.iupui.edu (8.12.11.20060308/8.12.11/Submit) id m049W2i5006493 for source@collab.sakaiproject.org; Fri, 4\\nJan 2008 04:32:02 -0500 Date: Fri, 4 Jan 2008 04:32:02 -0500 X-Authentication-Warning: nakamura.uits.iupui.edu: apache\\nset sender to david.horwitz@uct.ac.za using -f To: source@collab.sakaiproject.org From: david.horwitz@uct.ac.za Subject:\\n[sakai] svn commit: r39751 - in podcasts/branches/sakai_2-5-x/podcasts-app/src/webapp: css images podcasts X-ContentType-Outer-Envelope: text/plain; charset=UTF-8 X-Content-Type-Message-Body: text/plain; charset=UTF-8 Content-Type:\\ntext/plain; charset=UTF-8 X-DSPAM-Result: Innocent X-DSPAM-Processed: Fri Jan 4 04:33:44 2008 X-DSPAMConfidence: 0.7002 X-DSPAM-Probability: 0.0000 Details: http://source.sakaiproject.org/viewsvn/?view=rev&rev=39751\\nAuthor: david.horwitz@uct.ac.za Date: 2008-01-04 04:31:35 -0500 (Fri, 04 Jan 2008) New Revision: 39751 Removed:\\npodcasts/branches/sakai_2-5-x/podcasts-app/src/webapp/images/rss-feed-icon.png podcasts/branches/sakai_2-5-\\nx/podcasts-app/src/webapp/podcasts/podPermissions.jsp Modified: podcasts/branches/sakai_2-5-x/podcastsapp/src/webapp/css/podcaster.css podcasts/branches/sakai_2-5-x/podcasts-app/src/webapp/podcasts/podDelete.jsp\\npodcasts/branches/sakai_2-5-x/podcasts-app/src/webapp/podcasts/podMain.jsp podcasts/branches/sakai_2-5-x/podcastsapp/src/webapp/podcasts/podNoResource.jsp podcasts/branches/sakai_2-5-x/podcastsapp/src/webapp/podcasts/podOptions.jsp Log: svn log -r39146 https://source.sakaiproject.org/svn/podcasts/trunk -------------\\n----------------------------------------------------------- r39146 | josrodri@iupui.edu | 2007-12-12 21:40:33 +0200 (Wed, 12 Dec 2007)\\n| 1 line SAK-9882: refactored the other pages as well to take advantage of proper jsp components as well as validation\\ncleanup. ------------------------------------------------------------------------ dhorwitz@david-horwitz-6:~/branchManagemnt/sakai_2-5-\\nx> svn merge -c39146 https://source.sakaiproject.org/svn/podcasts/trunk podcasts/ D podcasts/podcastsapp/src/webapp/podcasts/podPermissions.jsp U podcasts/podcasts-app/src/webapp/podcasts/podDelete.jsp U\\npodcasts/podcasts-app/src/webapp/podcasts/podMain.jsp U podcasts/podcastsapp/src/webapp/podcasts/podNoResource.jsp U podcasts/podcasts-app/src/webapp/podcasts/podOptions.jsp D\\npodcasts/podcasts-app/src/webapp/images/rss-feed-icon.png U podcasts/podcasts-app/src/webapp/css/podcaster.css ------\\n---------------- This automatic notification message was sent by Sakai Collab (https://collab.sakaiproject.org/portal) from the\\nSource site. You can modify how you receive notifications at My Workspace > Preferences. From\\nstephen.marquard@uct.ac.za Fri Jan 4 04:07:34 2008 Return-Path: Received: from murder (mail.umich.edu\\n[141.211.14.25]) by frankenstein.mail.umich.edu (Cyrus v2.3.8) with LMTPA; Fri, 04 Jan 2008 04:07:34 -0500 X-Sieve:\\nCMU Sieve 2.3 Received: from murder ([unix socket]) by mail.umich.edu (Cyrus v2.2.12) with LMTPA; Fri, 04 Jan 2008\\n04:07:34 -0500 Received: from salemslot.mr.itd.umich.edu (salemslot.mr.itd.umich.edu [141.211.14.58]) by\\npanther.mail.umich.edu () with ESMTP id m0497WAN027902; Fri, 4 Jan 2008 04:07:32 -0500 Received: FROM\\npaploo.uhi.ac.uk (app1.prod.collab.uhi.ac.uk [194.35.219.184]) BY salemslot.mr.itd.umich.edu ID 477DF74E.49493.30415 ;\\n4 Jan 2008 04:07:29 -0500 Received: from paploo.uhi.ac.uk (localhost [127.0.0.1]) by paploo.uhi.ac.uk (Postfix) with\\nESMTP id 88598BA5B6; Fri, 4 Jan 2008 09:07:19 +0000 (GMT) Message-ID:\\n<200801040905.m0495rWB006420@nakamura.uits.iupui.edu> Mime-Version: 1.0 Content-Transfer-Encoding: 7bit\\nReceived: from prod.collab.uhi.ac.uk ([194.35.219.182]) by paploo.uhi.ac.uk (JAMES SMTP Server 2.1.3) with SMTP ID\\n385 for ; Fri, 4 Jan 2008 09:07:04 +0000 (GMT) Received: from nakamura.uits.iupui.edu (nakamura.uits.iupui.edu\\n[134.68.220.122]) by shmi.uhi.ac.uk (Postfix) with ESMTP id 90636418A8 for ; Fri, 4 Jan 2008 09:07:04 +0000 (GMT)\\nReceived: from nakamura.uits.iupui.edu (localhost [127.0.0.1]) by nakamura.uits.iupui.edu (8.12.11.20060308/8.12.11) with\\nESMTP id m0495sZs006422 for ; Fri, 4 Jan 2008 04:05:54 -0500 Received: (from apache@localhost) by\\nnakamura.uits.iupui.edu (8.12.11.20060308/8.12.11/Submit) id m0495rWB006420 for source@collab.sakaiproject.org; Fri, 4\\nJan 2008 04:05:53 -0500 Date: Fri, 4 Jan 2008 04:05:53 -0500 X-Authentication-Warning: nakamura.uits.iupui.edu: apache\\nset sender to stephen.marquard@uct.ac.za using -f To: source@collab.sakaiproject.org From:\\nstephen.marquard@uct.ac.za Subject: [sakai] svn commit: r39750 - event/branches/SAK-6216/eventutil/util/src/java/org/sakaiproject/util X-Content-Type-Outer-Envelope: text/plain; charset=UTF-8 X-Content-Type-MessageBody: text/plain; charset=UTF-8 Content-Type: text/plain; charset=UTF-8 X-DSPAM-Result: Innocent X-DSPAM-Processed:\\nFri Jan 4 04:07:34 2008 X-DSPAM-Confidence: 0.7554 X-DSPAM-Probability: 0.0000 Details:\\nhttp://source.sakaiproject.org/viewsvn/?view=rev&rev=39750 Author: stephen.marquard@uct.ac.za Date: 2008-01-04\\n04:05:43 -0500 (Fri, 04 Jan 2008) New Revision: 39750 Modified: event/branches/SAK-6216/eventutil/util/src/java/org/sakaiproject/util/EmailNotification.java Log: SAK-6216 merge event change from SAK-11169 (r39033) to\\nsynchronize branch with 2-5-x (for convenience for UCT local build) ---------------------- This automatic notification message\\nwas sent by Sakai Collab (https://collab.sakaiproject.org/portal) from the Source site. You can modify how you receive\\nnotifications at My Workspace > Preferences. From louis@media.berkeley.edu Thu Jan 3 19:51:21 2008 Return-Path:\\nReceived: from murder (mail.umich.edu [141.211.14.91]) by frankenstein.mail.umich.edu (Cyrus v2.3.8) with LMTPA; Thu,\\n03 Jan 2008 19:51:21 -0500 X-Sieve: CMU Sieve 2.3 Received: from murder ([unix socket]) by mail.umich.edu (Cyrus\\nv2.2.12) with LMTPA; Thu, 03 Jan 2008 19:51:21 -0500 Received: from eyewitness.mr.itd.umich.edu\\n(eyewitness.mr.itd.umich.edu [141.211.93.142]) by jacknife.mail.umich.edu () with ESMTP id m040pJHB027171; Thu, 3 Jan\\n2008 19:51:19 -0500 Received: FROM paploo.uhi.ac.uk (app1.prod.collab.uhi.ac.uk [194.35.219.184]) BY\\neyewitness.mr.itd.umich.edu ID 477D8300.AC098.32562 ; 3 Jan 2008 19:51:15 -0500 Received: from paploo.uhi.ac.uk\\n(localhost [127.0.0.1]) by paploo.uhi.ac.uk (Postfix) with ESMTP id E6CC4B9F8A; Fri, 4 Jan 2008 00:36:06 +0000 (GMT)\\nMessage-ID: <200801040023.m040NpCc005473@nakamura.uits.iupui.edu> Mime-Version: 1.0 Content-TransferEncoding: 7bit Received: from prod.collab.uhi.ac.uk ([194.35.219.182]) by paploo.uhi.ac.uk (JAMES SMTP Server 2.1.3)\\nwith SMTP ID 754 for ; Fri, 4 Jan 2008 00:35:43 +0000 (GMT) Received: from nakamura.uits.iupui.edu\\n(nakamura.uits.iupui.edu [134.68.220.122]) by shmi.uhi.ac.uk (Postfix) with ESMTP id 8889842C49 for ; Fri, 4 Jan 2008\\n00:25:00 +0000 (GMT) Received: from nakamura.uits.iupui.edu (localhost [127.0.0.1]) by nakamura.uits.iupui.edu\\n(8.12.11.20060308/8.12.11) with ESMTP id m040NpgM005475 for ; Thu, 3 Jan 2008 19:23:51 -0500 Received: (from\\napache@localhost) by nakamura.uits.iupui.edu (8.12.11.20060308/8.12.11/Submit) id m040NpCc005473 for\\nsource@collab.sakaiproject.org; Thu, 3 Jan 2008 19:23:51 -0500 Date: Thu, 3 Jan 2008 19:23:51 -0500 X-AuthenticationWarning: nakamura.uits.iupui.edu: apache set sender to louis@media.berkeley.edu using -f To:\\nsource@collab.sakaiproject.org From: louis@media.berkeley.edu Subject: [sakai] svn commit: r39749 - in bspace/sitemanage/sakai_2-4-x/site-manage-tool/tool/src: bundle webapp/vm/sitesetup X-Content-Type-Outer-Envelope: text/plain;\\ncharset=UTF-8 X-Content-Type-Message-Body: text/plain; charset=UTF-8 Content-Type: text/plain; charset=UTF-8 XDSPAM-Result: Innocent X-DSPAM-Processed: Thu Jan 3 19:51:20 2008 X-DSPAM-Confidence: 0.6956 X-DSPAMProbability: 0.0000 Details: http://source.sakaiproject.org/viewsvn/?view=rev&rev=39749 Author: louis@media.berkeley.edu\\nDate: 2008-01-03 19:23:46 -0500 (Thu, 03 Jan 2008) New Revision: 39749 Modified: bspace/site-manage/sakai_2-4-x/sitemanage-tool/tool/src/bundle/sitesetupgeneric.properties bspace/site-manage/sakai_2-4-x/site-managetool/tool/src/webapp/vm/sitesetup/chef_site-importSites.vm Log: BSP-1420 Update text to clarify \"Re-Use Materials...\"\\noption in WS Setup ---------------------- This automatic notification message was sent by Sakai Collab\\n(https://collab.sakaiproject.org/portal) from the Source site. You can modify how you receive notifications at My Workspace\\n> Preferences. From louis@media.berkeley.edu Thu Jan 3 17:18:23 2008 Return-Path: Received: from murder\\n(mail.umich.edu [141.211.14.91]) by frankenstein.mail.umich.edu (Cyrus v2.3.8) with LMTPA; Thu, 03 Jan 2008 17:18:23\\n-0500 X-Sieve: CMU Sieve 2.3 Received: from murder ([unix socket]) by mail.umich.edu (Cyrus v2.2.12) with LMTPA; Thu,\\n03 Jan 2008 17:18:23 -0500 Received: from salemslot.mr.itd.umich.edu (salemslot.mr.itd.umich.edu [141.211.14.58]) by\\njacknife.mail.umich.edu () with ESMTP id m03MIMXY027729; Thu, 3 Jan 2008 17:18:22 -0500 Received: FROM\\npaploo.uhi.ac.uk (app1.prod.collab.uhi.ac.uk [194.35.219.184]) BY salemslot.mr.itd.umich.edu ID 477D5F23.797F6.16348 ;\\n3 Jan 2008 17:18:14 -0500 Received: from paploo.uhi.ac.uk (localhost [127.0.0.1]) by paploo.uhi.ac.uk (Postfix) with\\nESMTP id EF439B98CE; Thu, 3 Jan 2008 22:18:19 +0000 (GMT) Message-ID:\\n<200801032216.m03MGhDa005292@nakamura.uits.iupui.edu> Mime-Version: 1.0 Content-Transfer-Encoding: 7bit\\nReceived: from prod.collab.uhi.ac.uk ([194.35.219.182]) by paploo.uhi.ac.uk (JAMES SMTP Server 2.1.3) with SMTP ID\\n236 for ; Thu, 3 Jan 2008 22:18:04 +0000 (GMT) Received: from nakamura.uits.iupui.edu (nakamura.uits.iupui.edu\\n[134.68.220.122]) by shmi.uhi.ac.uk (Postfix) with ESMTP id 905D53C2FD for ; Thu, 3 Jan 2008 22:17:52 +0000 (GMT)\\nReceived: from nakamura.uits.iupui.edu (localhost [127.0.0.1]) by nakamura.uits.iupui.edu (8.12.11.20060308/8.12.11) with\\nESMTP id m03MGhrs005294 for ; Thu, 3 Jan 2008 17:16:43 -0500 Received: (from apache@localhost) by\\nnakamura.uits.iupui.edu (8.12.11.20060308/8.12.11/Submit) id m03MGhDa005292 for source@collab.sakaiproject.org;\\nThu, 3 Jan 2008 17:16:43 -0500 Date: Thu, 3 Jan 2008 17:16:43 -0500 X-Authentication-Warning: nakamura.uits.iupui.edu:\\napache set sender to louis@media.berkeley.edu using -f To: source@collab.sakaiproject.org From:\\nlouis@media.berkeley.edu Subject: [sakai] svn commit: r39746 - in bspace/site-manage/sakai_2-4-x/site-managetool/tool/src: bundle webapp/vm/sitesetup X-Content-Type-Outer-Envelope: text/plain; charset=UTF-8 X-Content-TypeMessage-Body: text/plain; charset=UTF-8 Content-Type: text/plain; charset=UTF-8 X-DSPAM-Result: Innocent X-DSPAMProcessed: Thu Jan 3 17:18:23 2008 X-DSPAM-Confidence: 0.6959 X-DSPAM-Probability: 0.0000 Details:\\nhttp://source.sakaiproject.org/viewsvn/?view=rev&rev=39746 Author: louis@media.berkeley.edu Date: 2008-01-03 17:16:39\\n-0500 (Thu, 03 Jan 2008) New Revision: 39746 Modified: bspace/site-manage/sakai_2-4-x/site-managetool/tool/src/bundle/sitesetupgeneric.properties bspace/site-manage/sakai_2-4-x/site-managetool/tool/src/webapp/vm/sitesetup/chef_site-siteInfo-duplicate.vm Log: BSP-1421 Add text to clarify \"Duplicate Site\" option\\nin Site Info ---------------------- This automatic notification message was sent by Sakai Collab\\n(https://collab.sakaiproject.org/portal) from the Source site. You can modify how you receive notifications at My Workspace\\n> Preferences. From ray@media.berkeley.edu Thu Jan 3 17:07:00 2008 Return-Path: Received: from murder\\n(mail.umich.edu [141.211.14.39]) by frankenstein.mail.umich.edu (Cyrus v2.3.8) with LMTPA; Thu, 03 Jan 2008 17:07:00\\n-0500 X-Sieve: CMU Sieve 2.3 Received: from murder ([unix socket]) by mail.umich.edu (Cyrus v2.2.12) with LMTPA; Thu,\\n03 Jan 2008 17:07:00 -0500 Received: from anniehall.mr.itd.umich.edu (anniehall.mr.itd.umich.edu [141.211.93.141]) by\\nfaithful.mail.umich.edu () with ESMTP id m03M6xaq014868; Thu, 3 Jan 2008 17:06:59 -0500 Received: FROM\\npaploo.uhi.ac.uk (app1.prod.collab.uhi.ac.uk [194.35.219.184]) BY anniehall.mr.itd.umich.edu ID 477D5C7A.4FE1F.22211 ;\\n3 Jan 2008 17:06:53 -0500 Received: from paploo.uhi.ac.uk (localhost [127.0.0.1]) by paploo.uhi.ac.uk (Postfix) with\\nESMTP id 0BC8D7225E; Thu, 3 Jan 2008 22:06:57 +0000 (GMT) Message-ID:\\n<200801032205.m03M5Ea7005273@nakamura.uits.iupui.edu> Mime-Version: 1.0 Content-Transfer-Encoding: 7bit\\nReceived: from prod.collab.uhi.ac.uk ([194.35.219.182]) by paploo.uhi.ac.uk (JAMES SMTP Server 2.1.3) with SMTP ID\\n554 for ; Thu, 3 Jan 2008 22:06:34 +0000 (GMT) Received: from nakamura.uits.iupui.edu (nakamura.uits.iupui.edu\\n[134.68.220.122]) by shmi.uhi.ac.uk (Postfix) with ESMTP id 2AB513C2FD for ; Thu, 3 Jan 2008 22:06:23 +0000 (GMT)\\nReceived: from nakamura.uits.iupui.edu (localhost [127.0.0.1]) by nakamura.uits.iupui.edu (8.12.11.20060308/8.12.11) with\\nESMTP id m03M5EQa005275 for ; Thu, 3 Jan 2008 17:05:14 -0500 Received: (from apache@localhost) by\\nnakamura.uits.iupui.edu (8.12.11.20060308/8.12.11/Submit) id m03M5Ea7005273 for source@collab.sakaiproject.org; Thu,\\n3 Jan 2008 17:05:14 -0500 Date: Thu, 3 Jan 2008 17:05:14 -0500 X-Authentication-Warning: nakamura.uits.iupui.edu:\\napache set sender to ray@media.berkeley.edu using -f To: source@collab.sakaiproject.org From: ray@media.berkeley.edu\\nSubject: [sakai] svn commit: r39745 - providers/trunk/cm/cm-authzprovider/src/java/org/sakaiproject/coursemanagement/impl/provider X-Content-Type-Outer-Envelope: text/plain;\\ncharset=UTF-8 X-Content-Type-Message-Body: text/plain; charset=UTF-8 Content-Type: text/plain; charset=UTF-8 XDSPAM-Result: Innocent X-DSPAM-Processed: Thu Jan 3 17:07:00 2008 X-DSPAM-Confidence: 0.7556 X-DSPAMProbability: 0.0000 Details: http://source.sakaiproject.org/viewsvn/?view=rev&rev=39745 Author: ray@media.berkeley.edu\\nDate: 2008-01-03 17:05:11 -0500 (Thu, 03 Jan 2008) New Revision: 39745 Modified: providers/trunk/cm/cm-authzprovider/src/java/org/sakaiproject/coursemanagement/impl/provider/CourseManagementGroupProvider.java Log: SAK12602 Fix logic when a user has multiple roles in a section ---------------------- This automatic notification message was sent\\nby Sakai Collab (https://collab.sakaiproject.org/portal) from the Source site. You can modify how you receive notifications at\\nMy Workspace > Preferences. From cwen@iupui.edu Thu Jan 3 16:34:40 2008 Return-Path: Received: from murder\\n(mail.umich.edu [141.211.14.34]) by frankenstein.mail.umich.edu (Cyrus v2.3.8) with LMTPA; Thu, 03 Jan 2008 16:34:40\\n-0500 X-Sieve: CMU Sieve 2.3 Received: from murder ([unix socket]) by mail.umich.edu (Cyrus v2.2.12) with LMTPA; Thu,\\n03 Jan 2008 16:34:40 -0500 Received: from icestorm.mr.itd.umich.edu (icestorm.mr.itd.umich.edu [141.211.93.149]) by\\nchaos.mail.umich.edu () with ESMTP id m03LYdY1029538; Thu, 3 Jan 2008 16:34:39 -0500 Received: FROM\\npaploo.uhi.ac.uk (app1.prod.collab.uhi.ac.uk [194.35.219.184]) BY icestorm.mr.itd.umich.edu ID 477D54EA.13F34.26602 ;\\n3 Jan 2008 16:34:36 -0500 Received: from paploo.uhi.ac.uk (localhost [127.0.0.1]) by paploo.uhi.ac.uk (Postfix) with\\nESMTP id CC710ADC79; Thu, 3 Jan 2008 21:34:29 +0000 (GMT) Message-ID:\\n<200801032133.m03LX3gG005191@nakamura.uits.iupui.edu> Mime-Version: 1.0 Content-Transfer-Encoding: 7bit\\nReceived: from prod.collab.uhi.ac.uk ([194.35.219.182]) by paploo.uhi.ac.uk (JAMES SMTP Server 2.1.3) with SMTP ID\\n611 for ; Thu, 3 Jan 2008 21:34:08 +0000 (GMT) Received: from nakamura.uits.iupui.edu (nakamura.uits.iupui.edu\\n[134.68.220.122]) by shmi.uhi.ac.uk (Postfix) with ESMTP id 43C4242B55 for ; Thu, 3 Jan 2008 21:34:12 +0000 (GMT)\\nReceived: from nakamura.uits.iupui.edu (localhost [127.0.0.1]) by nakamura.uits.iupui.edu (8.12.11.20060308/8.12.11) with\\nESMTP id m03LX3Vb005193 for ; Thu, 3 Jan 2008 16:33:03 -0500 Received: (from apache@localhost) by\\nnakamura.uits.iupui.edu (8.12.11.20060308/8.12.11/Submit) id m03LX3gG005191 for source@collab.sakaiproject.org; Thu,\\n3 Jan 2008 16:33:03 -0500 Date: Thu, 3 Jan 2008 16:33:03 -0500 X-Authentication-Warning: nakamura.uits.iupui.edu:\\napache set sender to cwen@iupui.edu using -f To: source@collab.sakaiproject.org From: cwen@iupui.edu Subject: [sakai]\\nsvn commit: r39744 - oncourse/branches/oncourse_OPC_122007 X-Content-Type-Outer-Envelope: text/plain;\\ncharset=UTF-8 X-Content-Type-Message-Body: text/plain; charset=UTF-8 Content-Type: text/plain; charset=UTF-8 XDSPAM-Result: Innocent X-DSPAM-Processed: Thu Jan 3 16:34:40 2008 X-DSPAM-Confidence: 0.9846 X-DSPAMProbability: 0.0000 Details: http://source.sakaiproject.org/viewsvn/?view=rev&rev=39744 Author: cwen@iupui.edu Date:\\n2008-01-03 16:33:02 -0500 (Thu, 03 Jan 2008) New Revision: 39744 Modified:\\noncourse/branches/oncourse_OPC_122007/ oncourse/branches/oncourse_OPC_122007/.externals Log: update external\\nfor GB. ---------------------- This automatic notification message was sent by Sakai Collab\\n(https://collab.sakaiproject.org/portal) from the Source site. You can modify how you receive notifications at My Workspace\\n> Preferences. From cwen@iupui.edu Thu Jan 3 16:29:07 2008 Return-Path: Received: from murder (mail.umich.edu\\n[141.211.14.46]) by frankenstein.mail.umich.edu (Cyrus v2.3.8) with LMTPA; Thu, 03 Jan 2008 16:29:07 -0500 X-Sieve:\\nCMU Sieve 2.3 Received: from murder ([unix socket]) by mail.umich.edu (Cyrus v2.2.12) with LMTPA; Thu, 03 Jan 2008\\n16:29:07 -0500 Received: from galaxyquest.mr.itd.umich.edu (galaxyquest.mr.itd.umich.edu [141.211.93.145]) by\\nfan.mail.umich.edu () with ESMTP id m03LT6uw027749; Thu, 3 Jan 2008 16:29:06 -0500 Received: FROM\\npaploo.uhi.ac.uk (app1.prod.collab.uhi.ac.uk [194.35.219.184]) BY galaxyquest.mr.itd.umich.edu ID\\n477D5397.E161D.20326 ; 3 Jan 2008 16:28:58 -0500 Received: from paploo.uhi.ac.uk (localhost [127.0.0.1]) by\\npaploo.uhi.ac.uk (Postfix) with ESMTP id DEC65ADC79; Thu, 3 Jan 2008 21:28:52 +0000 (GMT) Message-ID:\\n<200801032127.m03LRUqH005177@nakamura.uits.iupui.edu> Mime-Version: 1.0 Content-Transfer-Encoding: 7bit\\nReceived: from prod.collab.uhi.ac.uk ([194.35.219.182]) by paploo.uhi.ac.uk (JAMES SMTP Server 2.1.3) with SMTP ID\\n917 for ; Thu, 3 Jan 2008 21:28:39 +0000 (GMT) Received: from nakamura.uits.iupui.edu (nakamura.uits.iupui.edu\\n[134.68.220.122]) by shmi.uhi.ac.uk (Postfix) with ESMTP id 1FBB042B30 for ; Thu, 3 Jan 2008 21:28:38 +0000 (GMT)\\nReceived: from nakamura.uits.iupui.edu (localhost [127.0.0.1]) by nakamura.uits.iupui.edu (8.12.11.20060308/8.12.11) with\\nESMTP id m03LRUk4005179 for ; Thu, 3 Jan 2008 16:27:30 -0500 Received: (from apache@localhost) by\\nnakamura.uits.iupui.edu (8.12.11.20060308/8.12.11/Submit) id m03LRUqH005177 for source@collab.sakaiproject.org; Thu,\\n3 Jan 2008 16:27:30 -0500 Date: Thu, 3 Jan 2008 16:27:30 -0500 X-Authentication-Warning: nakamura.uits.iupui.edu:\\napache set sender to cwen@iupui.edu using -f To: source@collab.sakaiproject.org From: cwen@iupui.edu Subject: [sakai]\\nsvn commit: r39743 - gradebook/branches/oncourse_2-4-2/app/ui/src/java/org/sakaiproject/tool/gradebook/ui X-ContentType-Outer-Envelope: text/plain; charset=UTF-8 X-Content-Type-Message-Body: text/plain; charset=UTF-8 Content-Type:\\ntext/plain; charset=UTF-8 X-DSPAM-Result: Innocent X-DSPAM-Processed: Thu Jan 3 16:29:07 2008 X-DSPAMConfidence: 0.8509 X-DSPAM-Probability: 0.0000 Details: http://source.sakaiproject.org/viewsvn/?view=rev&rev=39743\\nAuthor: cwen@iupui.edu Date: 2008-01-03 16:27:29 -0500 (Thu, 03 Jan 2008) New Revision: 39743 Modified:\\ngradebook/branches/oncourse_2-4-2/app/ui/src/java/org/sakaiproject/tool/gradebook/ui/RosterBean.java Log: svn merge -c\\n39403 https://source.sakaiproject.org/svn/gradebook/trunk U\\napp/ui/src/java/org/sakaiproject/tool/gradebook/ui/RosterBean.java svn log -r 39403\\nhttps://source.sakaiproject.org/svn/gradebook/trunk ------------------------------------------------------------------------ r39403 |\\nwagnermr@iupui.edu | 2007-12-17 17:11:08 -0500 (Mon, 17 Dec 2007) | 3 lines SAK-12504\\nhttp://jira.sakaiproject.org/jira/browse/SAK-12504 Viewing \"All Grades\" page as a TA with grader permissions causes stack\\ntrace ------------------------------------------------------------------------ ---------------------- This automatic notification message was sent\\nby Sakai Collab (https://collab.sakaiproject.org/portal) from the Source site. You can modify how you receive notifications at\\nMy Workspace > Preferences. From cwen@iupui.edu Thu Jan 3 16:23:48 2008 Return-Path: Received: from murder\\n(mail.umich.edu [141.211.14.91]) by frankenstein.mail.umich.edu (Cyrus v2.3.8) with LMTPA; Thu, 03 Jan 2008 16:23:48\\n-0500 X-Sieve: CMU Sieve 2.3 Received: from murder ([unix socket]) by mail.umich.edu (Cyrus v2.2.12) with LMTPA; Thu,\\n03 Jan 2008 16:23:48 -0500 Received: from salemslot.mr.itd.umich.edu (salemslot.mr.itd.umich.edu [141.211.14.58]) by\\njacknife.mail.umich.edu () with ESMTP id m03LNlf0002115; Thu, 3 Jan 2008 16:23:47 -0500 Received: FROM\\npaploo.uhi.ac.uk (app1.prod.collab.uhi.ac.uk [194.35.219.184]) BY salemslot.mr.itd.umich.edu ID 477D525E.1448.30389 ; 3\\nJan 2008 16:23:44 -0500 Received: from paploo.uhi.ac.uk (localhost [127.0.0.1]) by paploo.uhi.ac.uk (Postfix) with ESMTP\\nid 9D005B9D06; Thu, 3 Jan 2008 21:23:38 +0000 (GMT) Message-ID:\\n<200801032122.m03LMFo4005148@nakamura.uits.iupui.edu> Mime-Version: 1.0 Content-Transfer-Encoding: 7bit\\nReceived: from prod.collab.uhi.ac.uk ([194.35.219.182]) by paploo.uhi.ac.uk (JAMES SMTP Server 2.1.3) with SMTP ID 6\\nfor ; Thu, 3 Jan 2008 21:23:24 +0000 (GMT) Received: from nakamura.uits.iupui.edu (nakamura.uits.iupui.edu\\n[134.68.220.122]) by shmi.uhi.ac.uk (Postfix) with ESMTP id 3535542B69 for ; Thu, 3 Jan 2008 21:23:24 +0000 (GMT)\\nReceived: from nakamura.uits.iupui.edu (localhost [127.0.0.1]) by nakamura.uits.iupui.edu (8.12.11.20060308/8.12.11) with\\nESMTP id m03LMFtT005150 for ; Thu, 3 Jan 2008 16:22:15 -0500 Received: (from apache@localhost) by\\nnakamura.uits.iupui.edu (8.12.11.20060308/8.12.11/Submit) id m03LMFo4005148 for source@collab.sakaiproject.org; Thu,\\n3 Jan 2008 16:22:15 -0500 Date: Thu, 3 Jan 2008 16:22:15 -0500 X-Authentication-Warning: nakamura.uits.iupui.edu:\\napache set sender to cwen@iupui.edu using -f To: source@collab.sakaiproject.org From: cwen@iupui.edu Subject: [sakai]\\nsvn commit: r39742 - gradebook/branches/oncourse_2-4-2/app/ui/src/java/org/sakaiproject/tool/gradebook/ui X-ContentType-Outer-Envelope: text/plain; charset=UTF-8 X-Content-Type-Message-Body: text/plain; charset=UTF-8 Content-Type:\\ntext/plain; charset=UTF-8 X-DSPAM-Result: Innocent X-DSPAM-Processed: Thu Jan 3 16:23:48 2008 X-DSPAMConfidence: 0.9907 X-DSPAM-Probability: 0.0000 Details: http://source.sakaiproject.org/viewsvn/?view=rev&rev=39742\\nAuthor: cwen@iupui.edu Date: 2008-01-03 16:22:14 -0500 (Thu, 03 Jan 2008) New Revision: 39742 Modified:\\ngradebook/branches/oncourse_2-4-2/app/ui/src/java/org/sakaiproject/tool/gradebook/ui/RosterBean.java Log: svn merge -c\\n35014 https://source.sakaiproject.org/svn/gradebook/trunk U\\napp/ui/src/java/org/sakaiproject/tool/gradebook/ui/RosterBean.java svn log -r 35014\\nhttps://source.sakaiproject.org/svn/gradebook/trunk ------------------------------------------------------------------------ r35014 |\\nwagnermr@iupui.edu | 2007-09-12 16:17:59 -0400 (Wed, 12 Sep 2007) | 3 lines SAK-11458\\nhttp://bugs.sakaiproject.org/jira/browse/SAK-11458 Course grade does not appear on \"All Grades\" page if no categories in\\ngb ------------------------------------------------------------------------ ---------------------- This automatic notification message was sent by\\nSakai Collab (https://collab.sakaiproject.org/portal) from the Source site. You can modify how you receive notifications at My\\nWorkspace > Preferences.'"
            ],
            "application/vnd.google.colaboratory.intrinsic+json": {
              "type": "string"
            }
          },
          "metadata": {},
          "execution_count": 32
        }
      ]
    },
    {
      "cell_type": "code",
      "source": [
        "x = re.findall(\"From\", filedata)\n",
        "print(x)"
      ],
      "metadata": {
        "colab": {
          "base_uri": "https://localhost:8080/"
        },
        "id": "C9lyWznjcCia",
        "outputId": "8d9bd7cd-ac2b-4ec1-955a-9134dcfff308"
      },
      "execution_count": null,
      "outputs": [
        {
          "output_type": "stream",
          "name": "stdout",
          "text": [
            "['From', 'From', 'From', 'From', 'From', 'From', 'From', 'From', 'From', 'From', 'From', 'From', 'From', 'From', 'From', 'From', 'From', 'From', 'From', 'From', 'From', 'From', 'From', 'From', 'From', 'From', 'From', 'From', 'From', 'From', 'From', 'From', 'From', 'From', 'From', 'From', 'From', 'From', 'From', 'From', 'From', 'From', 'From', 'From', 'From', 'From', 'From', 'From', 'From', 'From', 'From', 'From', 'From', 'From']\n"
          ]
        }
      ]
    },
    {
      "cell_type": "markdown",
      "source": [
        "# Q1. Write a python code to search for lines that contain \"From\"\n",
        "\n",
        "---\n",
        "\n"
      ],
      "metadata": {
        "id": "lEG8XHVTbL6c"
      }
    },
    {
      "cell_type": "code",
      "source": [
        "def search_lines_with_keyword(file_path, keyword):\n",
        "    try:\n",
        "        with open(file_path, 'r') as file:\n",
        "            lines = file.readlines()\n",
        "            matching_lines = [line.strip() for line in lines if keyword in line]\n",
        "            return matching_lines\n",
        "    except FileNotFoundError:\n",
        "        return []\n",
        "\n",
        "file_path = 'mob.txt'\n",
        "keyword = 'From'\n",
        "\n",
        "matching_lines = search_lines_with_keyword(file_path, keyword)\n",
        "\n",
        "if matching_lines:\n",
        "    print(f\"Lines containing '{format(keyword)}' found:\")\n",
        "    for line in matching_lines:\n",
        "        print(line)\n",
        "else:\n",
        "    print(f\"No lines containing '{format(keyword)}' were found.\")"
      ],
      "metadata": {
        "id": "kWKtDcR0coqk",
        "colab": {
          "base_uri": "https://localhost:8080/",
          "height": 0
        },
        "outputId": "177c1b55-63d5-4cbc-f8cb-600ae26cf88d"
      },
      "execution_count": 12,
      "outputs": [
        {
          "output_type": "stream",
          "name": "stdout",
          "text": [
            "Lines containing 'From' found:\n",
            "From stephen.marquard@uct.ac.za Sat Jan 5 09:14:16 2008 Return-Path: Received: from murder (mail.umich.edu\n",
            "source@collab.sakaiproject.org From: stephen.marquard@uct.ac.za Subject: [sakai] svn commit: r39772 -\n",
            "You can modify how you receive notifications at My Workspace > Preferences. From louis@media.berkeley.edu Fri Jan 4\n",
            "source@collab.sakaiproject.org From: louis@media.berkeley.edu Subject: [sakai] svn commit: r39771 - in bspace/sitemanage/sakai_2-4-x/site-manage-tool/tool/src: bundle java/org/sakaiproject/site/tool X-Content-Type-Outer-Envelope:\n",
            "Source site. You can modify how you receive notifications at My Workspace > Preferences. From zqian@umich.edu Fri Jan\n",
            "From: zqian@umich.edu Subject: [sakai] svn commit: r39770 - site-manage/branches/sakai_2-5-x/site-managetool/tool/src/webapp/vm/sitesetup X-Content-Type-Outer-Envelope: text/plain; charset=UTF-8 X-Content-Type-MessageBody: text/plain; charset=UTF-8 Content-Type: text/plain; charset=UTF-8 X-DSPAM-Result: Innocent X-DSPAM-Processed:\n",
            "notifications at My Workspace > Preferences. From rjlowe@iupui.edu Fri Jan 4 15:46:24 2008 Return-Path: Received: from\n",
            "set sender to rjlowe@iupui.edu using -f To: source@collab.sakaiproject.org From: rjlowe@iupui.edu Subject: [sakai] svn\n",
            "> Preferences. From zqian@umich.edu Fri Jan 4 15:03:18 2008 Return-Path: Received: from murder (mail.umich.edu\n",
            "set sender to zqian@umich.edu using -f To: source@collab.sakaiproject.org From: zqian@umich.edu Subject: [sakai] svn\n",
            "Workspace > Preferences. From rjlowe@iupui.edu Fri Jan 4 14:50:18 2008 Return-Path: Received: from murder\n",
            "apache set sender to rjlowe@iupui.edu using -f To: source@collab.sakaiproject.org From: rjlowe@iupui.edu Subject: [sakai]\n",
            "> Preferences. From cwen@iupui.edu Fri Jan 4 11:37:30 2008 Return-Path: Received: from murder (mail.umich.edu\n",
            "source@collab.sakaiproject.org From: cwen@iupui.edu Subject: [sakai] svn commit: r39764 - in\n",
            "You can modify how you receive notifications at My Workspace > Preferences. From cwen@iupui.edu Fri Jan 4 11:35:08\n",
            "apache set sender to cwen@iupui.edu using -f To: source@collab.sakaiproject.org From: cwen@iupui.edu Subject: [sakai]\n",
            "> Preferences. From gsilver@umich.edu Fri Jan 4 11:12:37 2008 Return-Path: Received: from murder (mail.umich.edu\n",
            "source@collab.sakaiproject.org From: gsilver@umich.edu Subject: [sakai] svn commit: r39762 - web/trunk/webtool/tool/src/bundle X-Content-Type-Outer-Envelope: text/plain; charset=UTF-8 X-Content-Type-Message-Body: text/plain;\n",
            "can modify how you receive notifications at My Workspace > Preferences. From gsilver@umich.edu Fri Jan 4 11:11:52\n",
            "From: gsilver@umich.edu Subject: [sakai] svn commit: r39761 - site/trunk/site-tool/tool/src/bundle X-Content-Type-OuterEnvelope: text/plain; charset=UTF-8 X-Content-Type-Message-Body: text/plain; charset=UTF-8 Content-Type: text/plain;\n",
            "> Preferences. From zqian@umich.edu Fri Jan 4 11:11:03 2008 Return-Path: Received: from murder (mail.umich.edu\n",
            "From: zqian@umich.edu Subject: [sakai] svn commit: r39760 - in site-manage/trunk/site-manage-tool/tool/src:\n",
            "My Workspace > Preferences. From gsilver@umich.edu Fri Jan 4 11:10:22 2008 Return-Path: Received: from murder\n",
            "apache set sender to gsilver@umich.edu using -f To: source@collab.sakaiproject.org From: gsilver@umich.edu Subject:\n",
            "> Preferences. From wagnermr@iupui.edu Fri Jan 4 10:38:42 2008 Return-Path: Received: from murder (mail.umich.edu\n",
            "set sender to wagnermr@iupui.edu using -f To: source@collab.sakaiproject.org From: wagnermr@iupui.edu Subject:\n",
            "Workspace > Preferences. From zqian@umich.edu Fri Jan 4 10:17:43 2008 Return-Path: Received: from murder\n",
            "set sender to zqian@umich.edu using -f To: source@collab.sakaiproject.org From: zqian@umich.edu Subject: [sakai] svn\n",
            "Workspace > Preferences. From antranig@caret.cam.ac.uk Fri Jan 4 10:04:14 2008 Return-Path: Received: from murder\n",
            "set sender to antranig@caret.cam.ac.uk using -f To: source@collab.sakaiproject.org From: antranig@caret.cam.ac.uk\n",
            "> Preferences. From gopal.ramasammycook@gmail.com Fri Jan 4 09:05:31 2008 Return-Path: Received: from murder\n",
            "apache set sender to gopal.ramasammycook@gmail.com using -f To: source@collab.sakaiproject.org From:\n",
            "can modify how you receive notifications at My Workspace > Preferences. From david.horwitz@uct.ac.za Fri Jan 4\n",
            "set sender to david.horwitz@uct.ac.za using -f To: source@collab.sakaiproject.org From: david.horwitz@uct.ac.za Subject:\n",
            "> Preferences. From david.horwitz@uct.ac.za Fri Jan 4 06:08:27 2008 Return-Path: Received: from murder\n",
            "set sender to david.horwitz@uct.ac.za using -f To: source@collab.sakaiproject.org From: david.horwitz@uct.ac.za Subject:\n",
            "Workspace > Preferences. From david.horwitz@uct.ac.za Fri Jan 4 04:49:08 2008 Return-Path: Received: from murder\n",
            "set sender to david.horwitz@uct.ac.za using -f To: source@collab.sakaiproject.org From: david.horwitz@uct.ac.za Subject:\n",
            "receive notifications at My Workspace > Preferences. From david.horwitz@uct.ac.za Fri Jan 4 04:33:44 2008 Return-Path:\n",
            "set sender to david.horwitz@uct.ac.za using -f To: source@collab.sakaiproject.org From: david.horwitz@uct.ac.za Subject:\n",
            "Source site. You can modify how you receive notifications at My Workspace > Preferences. From\n",
            "set sender to stephen.marquard@uct.ac.za using -f To: source@collab.sakaiproject.org From:\n",
            "notifications at My Workspace > Preferences. From louis@media.berkeley.edu Thu Jan 3 19:51:21 2008 Return-Path:\n",
            "source@collab.sakaiproject.org From: louis@media.berkeley.edu Subject: [sakai] svn commit: r39749 - in bspace/sitemanage/sakai_2-4-x/site-manage-tool/tool/src: bundle webapp/vm/sitesetup X-Content-Type-Outer-Envelope: text/plain;\n",
            "> Preferences. From louis@media.berkeley.edu Thu Jan 3 17:18:23 2008 Return-Path: Received: from murder\n",
            "apache set sender to louis@media.berkeley.edu using -f To: source@collab.sakaiproject.org From:\n",
            "> Preferences. From ray@media.berkeley.edu Thu Jan 3 17:07:00 2008 Return-Path: Received: from murder\n",
            "apache set sender to ray@media.berkeley.edu using -f To: source@collab.sakaiproject.org From: ray@media.berkeley.edu\n",
            "My Workspace > Preferences. From cwen@iupui.edu Thu Jan 3 16:34:40 2008 Return-Path: Received: from murder\n",
            "apache set sender to cwen@iupui.edu using -f To: source@collab.sakaiproject.org From: cwen@iupui.edu Subject: [sakai]\n",
            "> Preferences. From cwen@iupui.edu Thu Jan 3 16:29:07 2008 Return-Path: Received: from murder (mail.umich.edu\n",
            "apache set sender to cwen@iupui.edu using -f To: source@collab.sakaiproject.org From: cwen@iupui.edu Subject: [sakai]\n",
            "My Workspace > Preferences. From cwen@iupui.edu Thu Jan 3 16:23:48 2008 Return-Path: Received: from murder\n",
            "apache set sender to cwen@iupui.edu using -f To: source@collab.sakaiproject.org From: cwen@iupui.edu Subject: [sakai]\n"
          ]
        }
      ]
    },
    {
      "cell_type": "markdown",
      "source": [
        "# Q2. Write a python code to Search for lines that start with ‘From’"
      ],
      "metadata": {
        "id": "PJEB1V70mmnL"
      }
    },
    {
      "cell_type": "code",
      "source": [
        "def search_lines_starting_with_keyword(file_path, keyword):\n",
        "    try:\n",
        "        with open(file_path, 'r') as file:\n",
        "            lines = file.readlines()\n",
        "            matching_lines = [line.strip() for line in lines if line.startswith(keyword)]\n",
        "            return matching_lines\n",
        "    except FileNotFoundError:\n",
        "        return []\n",
        "\n",
        "file_path = 'mob.txt'\n",
        "keyword = 'From'\n",
        "\n",
        "matching_lines = search_lines_starting_with_keyword(file_path, keyword)\n",
        "\n",
        "if matching_lines:\n",
        "    print(f\"Lines containing '{format(keyword)}' found:\")\n",
        "    for line in matching_lines:\n",
        "        print(line)\n",
        "else:\n",
        "    print(f\"No lines starting with '{format(keyword)}' were found.\")\n"
      ],
      "metadata": {
        "colab": {
          "base_uri": "https://localhost:8080/",
          "height": 0
        },
        "id": "pxJPoIqgmIp7",
        "outputId": "a89db72a-ede7-4db6-8438-31e9a54917d0"
      },
      "execution_count": 13,
      "outputs": [
        {
          "output_type": "stream",
          "name": "stdout",
          "text": [
            "Lines containing 'From' found:\n",
            "From stephen.marquard@uct.ac.za Sat Jan 5 09:14:16 2008 Return-Path: Received: from murder (mail.umich.edu\n",
            "From: zqian@umich.edu Subject: [sakai] svn commit: r39770 - site-manage/branches/sakai_2-5-x/site-managetool/tool/src/webapp/vm/sitesetup X-Content-Type-Outer-Envelope: text/plain; charset=UTF-8 X-Content-Type-MessageBody: text/plain; charset=UTF-8 Content-Type: text/plain; charset=UTF-8 X-DSPAM-Result: Innocent X-DSPAM-Processed:\n",
            "From: gsilver@umich.edu Subject: [sakai] svn commit: r39761 - site/trunk/site-tool/tool/src/bundle X-Content-Type-OuterEnvelope: text/plain; charset=UTF-8 X-Content-Type-Message-Body: text/plain; charset=UTF-8 Content-Type: text/plain;\n",
            "From: zqian@umich.edu Subject: [sakai] svn commit: r39760 - in site-manage/trunk/site-manage-tool/tool/src:\n"
          ]
        }
      ]
    },
    {
      "cell_type": "markdown",
      "source": [
        "# Q3. Write a python code to Search for lines that start with ‘F’, followed by # 2 characters, followed by ‘m’"
      ],
      "metadata": {
        "id": "iD2OH3BBnWAh"
      }
    },
    {
      "cell_type": "code",
      "source": [
        "import re\n",
        "\n",
        "def search_custom_pattern(file_path, pattern):\n",
        "    try:\n",
        "        with open(file_path, 'r') as file:\n",
        "            lines = file.readlines()\n",
        "            matching_lines = [line.strip() for line in lines if re.match(pattern, line)]\n",
        "            return matching_lines\n",
        "    except FileNotFoundError:\n",
        "        return []\n",
        "\n",
        "file_path = 'mob.txt'\n",
        "pattern = r'^F..m'\n",
        "\n",
        "matching_lines = search_custom_pattern(file_path, pattern)\n",
        "\n",
        "if matching_lines:\n",
        "    print(\"Lines matching the pattern found: \")\n",
        "    for line in matching_lines:\n",
        "        print(line)\n",
        "else:\n",
        "    print(\"No lines matching the pattern were found !!!\")\n"
      ],
      "metadata": {
        "colab": {
          "base_uri": "https://localhost:8080/",
          "height": 0
        },
        "id": "kOrUBdPrm4CA",
        "outputId": "b2d01590-5249-45fa-babc-f4b3a4fec14f"
      },
      "execution_count": 15,
      "outputs": [
        {
          "output_type": "stream",
          "name": "stdout",
          "text": [
            "Lines matching the pattern found: \n",
            "From stephen.marquard@uct.ac.za Sat Jan 5 09:14:16 2008 Return-Path: Received: from murder (mail.umich.edu\n",
            "From: zqian@umich.edu Subject: [sakai] svn commit: r39770 - site-manage/branches/sakai_2-5-x/site-managetool/tool/src/webapp/vm/sitesetup X-Content-Type-Outer-Envelope: text/plain; charset=UTF-8 X-Content-Type-MessageBody: text/plain; charset=UTF-8 Content-Type: text/plain; charset=UTF-8 X-DSPAM-Result: Innocent X-DSPAM-Processed:\n",
            "From: gsilver@umich.edu Subject: [sakai] svn commit: r39761 - site/trunk/site-tool/tool/src/bundle X-Content-Type-OuterEnvelope: text/plain; charset=UTF-8 X-Content-Type-Message-Body: text/plain; charset=UTF-8 Content-Type: text/plain;\n",
            "From: zqian@umich.edu Subject: [sakai] svn commit: r39760 - in site-manage/trunk/site-manage-tool/tool/src:\n"
          ]
        }
      ]
    },
    {
      "cell_type": "markdown",
      "source": [
        "# Q4. Write a python code to Search for lines that start with From and have @ sign"
      ],
      "metadata": {
        "id": "NJ6j2Xcznwbl"
      }
    },
    {
      "cell_type": "code",
      "source": [
        "def search_lines_with_from_and_at(file_path):\n",
        "    try:\n",
        "        with open(file_path, 'r') as file:\n",
        "            lines = file.readlines()\n",
        "            matching_lines = [line.strip() for line in lines if line.startswith('From') and '@' in line]\n",
        "            return matching_lines\n",
        "    except FileNotFoundError:\n",
        "        return []\n",
        "\n",
        "file_path = 'mob.txt'\n",
        "\n",
        "matching_lines = search_lines_with_from_and_at(file_path)\n",
        "\n",
        "if matching_lines:\n",
        "    print(\"Lines starting with 'From' and containing '@' found:\")\n",
        "    for line in matching_lines:\n",
        "        print(line)\n",
        "else:\n",
        "    print(\"No lines matching the criteria were found.\")\n"
      ],
      "metadata": {
        "colab": {
          "base_uri": "https://localhost:8080/",
          "height": 0
        },
        "id": "q7Q_Ths7nnlE",
        "outputId": "68454cbb-21d2-4767-d860-fca9d359aa51"
      },
      "execution_count": 16,
      "outputs": [
        {
          "output_type": "stream",
          "name": "stdout",
          "text": [
            "Lines starting with 'From' and containing '@' found:\n",
            "From stephen.marquard@uct.ac.za Sat Jan 5 09:14:16 2008 Return-Path: Received: from murder (mail.umich.edu\n",
            "From: zqian@umich.edu Subject: [sakai] svn commit: r39770 - site-manage/branches/sakai_2-5-x/site-managetool/tool/src/webapp/vm/sitesetup X-Content-Type-Outer-Envelope: text/plain; charset=UTF-8 X-Content-Type-MessageBody: text/plain; charset=UTF-8 Content-Type: text/plain; charset=UTF-8 X-DSPAM-Result: Innocent X-DSPAM-Processed:\n",
            "From: gsilver@umich.edu Subject: [sakai] svn commit: r39761 - site/trunk/site-tool/tool/src/bundle X-Content-Type-OuterEnvelope: text/plain; charset=UTF-8 X-Content-Type-Message-Body: text/plain; charset=UTF-8 Content-Type: text/plain;\n",
            "From: zqian@umich.edu Subject: [sakai] svn commit: r39760 - in site-manage/trunk/site-manage-tool/tool/src:\n"
          ]
        }
      ]
    },
    {
      "cell_type": "markdown",
      "source": [
        "# Q5. Write a python code to Search for lines that have an @ sign between characters"
      ],
      "metadata": {
        "id": "PR6GqURKoCvs"
      }
    },
    {
      "cell_type": "code",
      "source": [
        "def search_lines_with_at_between_characters(file_path):\n",
        "    try:\n",
        "        with open(file_path, 'r') as file:\n",
        "            lines = file.readlines()\n",
        "            matching_lines = [line.strip() for line in lines if '@' in line and len(line.split('@')) > 1]\n",
        "            return matching_lines\n",
        "    except FileNotFoundError:\n",
        "        return []\n",
        "\n",
        "file_path = 'mob.txt'\n",
        "\n",
        "matching_lines = search_lines_with_at_between_characters(file_path)\n",
        "\n",
        "if matching_lines:\n",
        "    print(\"Lines containing '@' between characters found:\")\n",
        "    for line in matching_lines:\n",
        "        print(line)\n",
        "else:\n",
        "    print(\"No lines matching the criteria were found.\")\n"
      ],
      "metadata": {
        "colab": {
          "base_uri": "https://localhost:8080/",
          "height": 0
        },
        "id": "fvuwjfctn-Fg",
        "outputId": "6bf28073-1f36-41d7-a1a8-2fae0570f5be"
      },
      "execution_count": 17,
      "outputs": [
        {
          "output_type": "stream",
          "name": "stdout",
          "text": [
            "Lines containing '@' between characters found:\n",
            "From stephen.marquard@uct.ac.za Sat Jan 5 09:14:16 2008 Return-Path: Received: from murder (mail.umich.edu\n",
            "Sat, 5 Jan 2008 14:10:05 +0000 (GMT) Message-ID: <200801051412.m05ECIaH010327@nakamura.uits.iupui.edu> MimeVersion: 1.0 Content-Transfer-Encoding: 7bit Received: from prod.collab.uhi.ac.uk ([194.35.219.182]) by paploo.uhi.ac.uk\n",
            "-0500 Received: (from apache@localhost) by nakamura.uits.iupui.edu (8.12.11.20060308/8.12.11/Submit) id\n",
            "m05ECIaH010327 for source@collab.sakaiproject.org; Sat, 5 Jan 2008 09:12:18 -0500 Date: Sat, 5 Jan 2008 09:12:18\n",
            "-0500 X-Authentication-Warning: nakamura.uits.iupui.edu: apache set sender to stephen.marquard@uct.ac.za using -f To:\n",
            "source@collab.sakaiproject.org From: stephen.marquard@uct.ac.za Subject: [sakai] svn commit: r39772 -\n",
            "stephen.marquard@uct.ac.za Date: 2008-01-05 09:12:07 -0500 (Sat, 05 Jan 2008) New Revision: 39772 Modified:\n",
            "You can modify how you receive notifications at My Workspace > Preferences. From louis@media.berkeley.edu Fri Jan 4\n",
            "Message-ID: <200801042308.m04N8v6O008125@nakamura.uits.iupui.edu> Mime-Version: 1.0 Content-TransferEncoding: 7bit Received: from prod.collab.uhi.ac.uk ([194.35.219.182]) by paploo.uhi.ac.uk (JAMES SMTP Server 2.1.3)\n",
            "apache@localhost) by nakamura.uits.iupui.edu (8.12.11.20060308/8.12.11/Submit) id m04N8v6O008125 for\n",
            "source@collab.sakaiproject.org; Fri, 4 Jan 2008 18:08:57 -0500 Date: Fri, 4 Jan 2008 18:08:57 -0500 X-AuthenticationWarning: nakamura.uits.iupui.edu: apache set sender to louis@media.berkeley.edu using -f To:\n",
            "source@collab.sakaiproject.org From: louis@media.berkeley.edu Subject: [sakai] svn commit: r39771 - in bspace/sitemanage/sakai_2-4-x/site-manage-tool/tool/src: bundle java/org/sakaiproject/site/tool X-Content-Type-Outer-Envelope:\n",
            "louis@media.berkeley.edu Date: 2008-01-04 18:08:50 -0500 (Fri, 04 Jan 2008) New Revision: 39771 Modified:\n",
            "Source site. You can modify how you receive notifications at My Workspace > Preferences. From zqian@umich.edu Fri Jan\n",
            "21:10:31 +0000 (GMT) Message-ID: <200801042109.m04L92hb007923@nakamura.uits.iupui.edu> Mime-Version: 1.0\n",
            "apache@localhost) by nakamura.uits.iupui.edu (8.12.11.20060308/8.12.11/Submit) id m04L92hb007923 for\n",
            "source@collab.sakaiproject.org; Fri, 4 Jan 2008 16:09:02 -0500 Date: Fri, 4 Jan 2008 16:09:02 -0500 X-AuthenticationWarning: nakamura.uits.iupui.edu: apache set sender to zqian@umich.edu using -f To: source@collab.sakaiproject.org\n",
            "From: zqian@umich.edu Subject: [sakai] svn commit: r39770 - site-manage/branches/sakai_2-5-x/site-managetool/tool/src/webapp/vm/sitesetup X-Content-Type-Outer-Envelope: text/plain; charset=UTF-8 X-Content-Type-MessageBody: text/plain; charset=UTF-8 Content-Type: text/plain; charset=UTF-8 X-DSPAM-Result: Innocent X-DSPAM-Processed:\n",
            "http://source.sakaiproject.org/viewsvn/?view=rev&rev=39770 Author: zqian@umich.edu Date: 2008-01-04 16:09:01 -0500\n",
            "notifications at My Workspace > Preferences. From rjlowe@iupui.edu Fri Jan 4 15:46:24 2008 Return-Path: Received: from\n",
            "<200801042044.m04Kiem3007881@nakamura.uits.iupui.edu> Mime-Version: 1.0 Content-Transfer-Encoding: 7bit\n",
            "ESMTP id m04KieqE007883 for ; Fri, 4 Jan 2008 15:44:40 -0500 Received: (from apache@localhost) by\n",
            "nakamura.uits.iupui.edu (8.12.11.20060308/8.12.11/Submit) id m04Kiem3007881 for source@collab.sakaiproject.org; Fri, 4\n",
            "set sender to rjlowe@iupui.edu using -f To: source@collab.sakaiproject.org From: rjlowe@iupui.edu Subject: [sakai] svn\n",
            "Author: rjlowe@iupui.edu Date: 2008-01-04 15:44:39 -0500 (Fri, 04 Jan 2008) New Revision: 39769 Modified:\n",
            "> Preferences. From zqian@umich.edu Fri Jan 4 15:03:18 2008 Return-Path: Received: from murder (mail.umich.edu\n",
            "<200801042001.m04K1cO0007738@nakamura.uits.iupui.edu> Mime-Version: 1.0 Content-Transfer-Encoding: 7bit\n",
            "ESMTP id m04K1cXv007740 for ; Fri, 4 Jan 2008 15:01:38 -0500 Received: (from apache@localhost) by\n",
            "nakamura.uits.iupui.edu (8.12.11.20060308/8.12.11/Submit) id m04K1cO0007738 for source@collab.sakaiproject.org; Fri, 4\n",
            "set sender to zqian@umich.edu using -f To: source@collab.sakaiproject.org From: zqian@umich.edu Subject: [sakai] svn\n",
            "Author: zqian@umich.edu Date: 2008-01-04 15:01:37 -0500 (Fri, 04 Jan 2008) New Revision: 39766 Modified: sitemanage/branches/sakai_2-4-x/site-manage-tool/tool/src/java/org/sakaiproject/site/tool/SiteAction.java Log: merge fix to\n",
            "zqian@umich.edu Fix to SAK-10788: If a provided id in a couse site is fake or doesn't provide any user information, Site\n",
            "Workspace > Preferences. From rjlowe@iupui.edu Fri Jan 4 14:50:18 2008 Return-Path: Received: from murder\n",
            "<200801041948.m04JmdwO007705@nakamura.uits.iupui.edu> Mime-Version: 1.0 Content-Transfer-Encoding: 7bit\n",
            "ESMTP id m04JmeV9007707 for ; Fri, 4 Jan 2008 14:48:40 -0500 Received: (from apache@localhost) by\n",
            "nakamura.uits.iupui.edu (8.12.11.20060308/8.12.11/Submit) id m04JmdwO007705 for source@collab.sakaiproject.org; Fri,\n",
            "apache set sender to rjlowe@iupui.edu using -f To: source@collab.sakaiproject.org From: rjlowe@iupui.edu Subject: [sakai]\n",
            "http://source.sakaiproject.org/viewsvn/?view=rev&rev=39765 Author: rjlowe@iupui.edu Date: 2008-01-04 14:48:37 -0500\n",
            "> Preferences. From cwen@iupui.edu Fri Jan 4 11:37:30 2008 Return-Path: Received: from murder (mail.umich.edu\n",
            "Fri, 4 Jan 2008 16:37:07 +0000 (GMT) Message-ID: <200801041635.m04GZQGZ007313@nakamura.uits.iupui.edu>\n",
            "-0500 Received: (from apache@localhost) by nakamura.uits.iupui.edu (8.12.11.20060308/8.12.11/Submit) id\n",
            "m04GZQGZ007313 for source@collab.sakaiproject.org; Fri, 4 Jan 2008 11:35:26 -0500 Date: Fri, 4 Jan 2008 11:35:26\n",
            "-0500 X-Authentication-Warning: nakamura.uits.iupui.edu: apache set sender to cwen@iupui.edu using -f To:\n",
            "source@collab.sakaiproject.org From: cwen@iupui.edu Subject: [sakai] svn commit: r39764 - in\n",
            "cwen@iupui.edu Date: 2008-01-04 11:35:25 -0500 (Fri, 04 Jan 2008) New Revision: 39764 Modified:\n",
            "-------------------------------------------------- r39558 | hu2@iupui.edu | 2007-12-20 15:25:38 -0500 (Thu, 20 Dec 2007) | 3 lines\n",
            "You can modify how you receive notifications at My Workspace > Preferences. From cwen@iupui.edu Fri Jan 4 11:35:08\n",
            "<200801041633.m04GX6eG007292@nakamura.uits.iupui.edu> Mime-Version: 1.0 Content-Transfer-Encoding: 7bit\n",
            "ESMTP id m04GX6Y3007294 for ; Fri, 4 Jan 2008 11:33:06 -0500 Received: (from apache@localhost) by\n",
            "nakamura.uits.iupui.edu (8.12.11.20060308/8.12.11/Submit) id m04GX6eG007292 for source@collab.sakaiproject.org; Fri,\n",
            "apache set sender to cwen@iupui.edu using -f To: source@collab.sakaiproject.org From: cwen@iupui.edu Subject: [sakai]\n",
            "charset=UTF-8 X-Content-Type-Message-Body: text/plain; charset=UTF-8 Content-Type: text/plain; charset=UTF-8 XDSPAM-Result: Innocent X-DSPAM-Processed: Fri Jan 4 11:35:08 2008 X-DSPAM-Confidence: 0.7615 X-DSPAMProbability: 0.0000 Details: http://source.sakaiproject.org/viewsvn/?view=rev&rev=39763 Author: cwen@iupui.edu Date:\n",
            "--------------------------------- r39571 | hu2@iupui.edu | 2007-12-20 21:26:28 -0500 (Thu, 20 Dec 2007) | 3 lines SAK-12484\n",
            "> Preferences. From gsilver@umich.edu Fri Jan 4 11:12:37 2008 Return-Path: Received: from murder (mail.umich.edu\n",
            "Fri, 4 Jan 2008 16:12:27 +0000 (GMT) Message-ID: <200801041611.m04GB1Lb007221@nakamura.uits.iupui.edu> MimeVersion: 1.0 Content-Transfer-Encoding: 7bit Received: from prod.collab.uhi.ac.uk ([194.35.219.182]) by paploo.uhi.ac.uk\n",
            "-0500 Received: (from apache@localhost) by nakamura.uits.iupui.edu (8.12.11.20060308/8.12.11/Submit) id\n",
            "m04GB1Lb007221 for source@collab.sakaiproject.org; Fri, 4 Jan 2008 11:11:01 -0500 Date: Fri, 4 Jan 2008 11:11:01 -0500\n",
            "X-Authentication-Warning: nakamura.uits.iupui.edu: apache set sender to gsilver@umich.edu using -f To:\n",
            "source@collab.sakaiproject.org From: gsilver@umich.edu Subject: [sakai] svn commit: r39762 - web/trunk/webtool/tool/src/bundle X-Content-Type-Outer-Envelope: text/plain; charset=UTF-8 X-Content-Type-Message-Body: text/plain;\n",
            "http://source.sakaiproject.org/viewsvn/?view=rev&rev=39762 Author: gsilver@umich.edu Date: 2008-01-04 11:11:00 -0500\n",
            "can modify how you receive notifications at My Workspace > Preferences. From gsilver@umich.edu Fri Jan 4 11:11:52\n",
            "Message-ID: <200801041610.m04GA5KP007209@nakamura.uits.iupui.edu> Mime-Version: 1.0 Content-TransferEncoding: 7bit Received: from prod.collab.uhi.ac.uk ([194.35.219.182]) by paploo.uhi.ac.uk (JAMES SMTP Server 2.1.3)\n",
            "apache@localhost) by nakamura.uits.iupui.edu (8.12.11.20060308/8.12.11/Submit) id m04GA5KP007209 for\n",
            "source@collab.sakaiproject.org; Fri, 4 Jan 2008 11:10:05 -0500 Date: Fri, 4 Jan 2008 11:10:05 -0500 X-AuthenticationWarning: nakamura.uits.iupui.edu: apache set sender to gsilver@umich.edu using -f To: source@collab.sakaiproject.org\n",
            "From: gsilver@umich.edu Subject: [sakai] svn commit: r39761 - site/trunk/site-tool/tool/src/bundle X-Content-Type-OuterEnvelope: text/plain; charset=UTF-8 X-Content-Type-Message-Body: text/plain; charset=UTF-8 Content-Type: text/plain;\n",
            "gsilver@umich.edu Date: 2008-01-04 11:10:04 -0500 (Fri, 04 Jan 2008) New Revision: 39761 Modified: site/trunk/sitetool/tool/src/bundle/admin.properties Log: SAK-12595 http://bugs.sakaiproject.org/jira/browse/SAK-12595 - left moot\n",
            "> Preferences. From zqian@umich.edu Fri Jan 4 11:11:03 2008 Return-Path: Received: from murder (mail.umich.edu\n",
            "Fri, 4 Jan 2008 16:10:53 +0000 (GMT) Message-ID: <200801041609.m04G9EuX007197@nakamura.uits.iupui.edu> MimeVersion: 1.0 Content-Transfer-Encoding: 7bit Received: from prod.collab.uhi.ac.uk ([194.35.219.182]) by paploo.uhi.ac.uk\n",
            "Received: (from apache@localhost) by nakamura.uits.iupui.edu (8.12.11.20060308/8.12.11/Submit) id m04G9EuX007197\n",
            "for source@collab.sakaiproject.org; Fri, 4 Jan 2008 11:09:14 -0500 Date: Fri, 4 Jan 2008 11:09:14 -0500 X-AuthenticationWarning: nakamura.uits.iupui.edu: apache set sender to zqian@umich.edu using -f To: source@collab.sakaiproject.org\n",
            "From: zqian@umich.edu Subject: [sakai] svn commit: r39760 - in site-manage/trunk/site-manage-tool/tool/src:\n",
            "http://source.sakaiproject.org/viewsvn/?view=rev&rev=39760 Author: zqian@umich.edu Date: 2008-01-04 11:09:12 -0500\n",
            "My Workspace > Preferences. From gsilver@umich.edu Fri Jan 4 11:10:22 2008 Return-Path: Received: from murder\n",
            "<200801041608.m04G8d7w007184@nakamura.uits.iupui.edu> Mime-Version: 1.0 Content-Transfer-Encoding: 7bit\n",
            "ESMTP id m04G8dXN007186 for ; Fri, 4 Jan 2008 11:08:39 -0500 Received: (from apache@localhost) by\n",
            "nakamura.uits.iupui.edu (8.12.11.20060308/8.12.11/Submit) id m04G8d7w007184 for source@collab.sakaiproject.org; Fri,\n",
            "apache set sender to gsilver@umich.edu using -f To: source@collab.sakaiproject.org From: gsilver@umich.edu Subject:\n",
            "charset=UTF-8 X-Content-Type-Message-Body: text/plain; charset=UTF-8 Content-Type: text/plain; charset=UTF-8 XDSPAM-Result: Innocent X-DSPAM-Processed: Fri Jan 4 11:10:22 2008 X-DSPAM-Confidence: 0.7606 X-DSPAMProbability: 0.0000 Details: http://source.sakaiproject.org/viewsvn/?view=rev&rev=39759 Author: gsilver@umich.edu Date:\n",
            "> Preferences. From wagnermr@iupui.edu Fri Jan 4 10:38:42 2008 Return-Path: Received: from murder (mail.umich.edu\n",
            "<200801041537.m04Fb6Ci007092@nakamura.uits.iupui.edu> Mime-Version: 1.0 Content-Transfer-Encoding: 7bit\n",
            "ESMTP id m04Fb6nh007094 for ; Fri, 4 Jan 2008 10:37:06 -0500 Received: (from apache@localhost) by\n",
            "nakamura.uits.iupui.edu (8.12.11.20060308/8.12.11/Submit) id m04Fb6Ci007092 for source@collab.sakaiproject.org; Fri, 4\n",
            "set sender to wagnermr@iupui.edu using -f To: source@collab.sakaiproject.org From: wagnermr@iupui.edu Subject:\n",
            "view=rev&rev=39758 Author: wagnermr@iupui.edu Date: 2008-01-04 10:37:04 -0500 (Fri, 04 Jan 2008) New Revision:\n",
            "Workspace > Preferences. From zqian@umich.edu Fri Jan 4 10:17:43 2008 Return-Path: Received: from murder\n",
            "<200801041515.m04FFv42007050@nakamura.uits.iupui.edu> Mime-Version: 1.0 Content-Transfer-Encoding: 7bit\n",
            "ESMTP id m04FFv85007052 for ; Fri, 4 Jan 2008 10:15:57 -0500 Received: (from apache@localhost) by\n",
            "nakamura.uits.iupui.edu (8.12.11.20060308/8.12.11/Submit) id m04FFv42007050 for source@collab.sakaiproject.org; Fri, 4\n",
            "set sender to zqian@umich.edu using -f To: source@collab.sakaiproject.org From: zqian@umich.edu Subject: [sakai] svn\n",
            "http://source.sakaiproject.org/viewsvn/?view=rev&rev=39757 Author: zqian@umich.edu Date: 2008-01-04 10:15:54 -0500\n",
            "Workspace > Preferences. From antranig@caret.cam.ac.uk Fri Jan 4 10:04:14 2008 Return-Path: Received: from murder\n",
            "<200801041502.m04F21Jo007031@nakamura.uits.iupui.edu> Mime-Version: 1.0 Content-Transfer-Encoding: 7bit\n",
            "ESMTP id m04F21hn007033 for ; Fri, 4 Jan 2008 10:02:01 -0500 Received: (from apache@localhost) by\n",
            "nakamura.uits.iupui.edu (8.12.11.20060308/8.12.11/Submit) id m04F21Jo007031 for source@collab.sakaiproject.org; Fri, 4\n",
            "set sender to antranig@caret.cam.ac.uk using -f To: source@collab.sakaiproject.org From: antranig@caret.cam.ac.uk\n",
            "view=rev&rev=39756 Author: antranig@caret.cam.ac.uk Date: 2008-01-04 10:01:40 -0500 (Fri, 04 Jan 2008) New\n",
            "> Preferences. From gopal.ramasammycook@gmail.com Fri Jan 4 09:05:31 2008 Return-Path: Received: from murder\n",
            "<200801041403.m04E3psW006926@nakamura.uits.iupui.edu> Mime-Version: 1.0 Content-Transfer-Encoding: 7bit\n",
            "ESMTP id m04E3pQS006928 for ; Fri, 4 Jan 2008 09:03:52 -0500 Received: (from apache@localhost) by\n",
            "nakamura.uits.iupui.edu (8.12.11.20060308/8.12.11/Submit) id m04E3psW006926 for source@collab.sakaiproject.org; Fri,\n",
            "apache set sender to gopal.ramasammycook@gmail.com using -f To: source@collab.sakaiproject.org From:\n",
            "gopal.ramasammycook@gmail.com Subject: [sakai] svn commit: r39755 - in sam/branches/SAK-12065: samigoapi/src/java/org/sakaiproject/tool/assessment/shared/api/grading samigoapp/src/java/org/sakaiproject/tool/assessment/ui/bean/evaluation samigoapp/src/java/org/sakaiproject/tool/assessment/ui/listener/evaluation samigoservices/src/java/org/sakaiproject/tool/assessment/facade samigoservices/src/java/org/sakaiproject/tool/assessment/integration/helper/ifc samigoservices/src/java/org/sakaiproject/tool/assessment/integration/helper/integrated samigoservices/src/java/org/sakaiproject/tool/assessment/integration/helper/standalone samigoservices/src/java/org/sakaiproject/tool/assessment/shared/impl/grading X-Content-Type-Outer-Envelope: text/plain;\n",
            "gopal.ramasammycook@gmail.com Date: 2008-01-04 09:02:54 -0500 (Fri, 04 Jan 2008) New Revision: 39755 Modified:\n",
            "can modify how you receive notifications at My Workspace > Preferences. From david.horwitz@uct.ac.za Fri Jan 4\n",
            "<200801041200.m04C0gfK006793@nakamura.uits.iupui.edu> Mime-Version: 1.0 Content-Transfer-Encoding: 7bit\n",
            "ESMTP id m04C0gnm006795 for ; Fri, 4 Jan 2008 07:00:42 -0500 Received: (from apache@localhost) by\n",
            "nakamura.uits.iupui.edu (8.12.11.20060308/8.12.11/Submit) id m04C0gfK006793 for source@collab.sakaiproject.org; Fri, 4\n",
            "set sender to david.horwitz@uct.ac.za using -f To: source@collab.sakaiproject.org From: david.horwitz@uct.ac.za Subject:\n",
            "charset=UTF-8 X-Content-Type-Message-Body: text/plain; charset=UTF-8 Content-Type: text/plain; charset=UTF-8 XDSPAM-Result: Innocent X-DSPAM-Processed: Fri Jan 4 07:02:32 2008 X-DSPAM-Confidence: 0.6526 X-DSPAMProbability: 0.0000 Details: http://source.sakaiproject.org/viewsvn/?view=rev&rev=39754 Author: david.horwitz@uct.ac.za\n",
            "r39753 | david.horwitz@uct.ac.za | 2008-01-04 13:05:51 +0200 (Fri, 04 Jan 2008) | 1 line SAK-12228 implmented\n",
            "-- dhorwitz@david-horwitz-6:~/branchManagemnt/sakai_2-5-x> svn merge -c39753\n",
            "A polls/tool/src/java/org/sakaiproject/poll/tool/evolvers/SakaiFCKTextEvolver.java C polls/tool/src/webapp/WEBINF/requestContext.xml U polls/tool/pom.xml dhorwitz@david-horwitz-6:~/branchManagemnt/sakai_2-5-x> svn resolved\n",
            "> Preferences. From david.horwitz@uct.ac.za Fri Jan 4 06:08:27 2008 Return-Path: Received: from murder\n",
            "<200801041106.m04B6lK3006677@nakamura.uits.iupui.edu> Mime-Version: 1.0 Content-Transfer-Encoding: 7bit\n",
            "ESMTP id m04B6lWM006679 for ; Fri, 4 Jan 2008 06:06:47 -0500 Received: (from apache@localhost) by\n",
            "nakamura.uits.iupui.edu (8.12.11.20060308/8.12.11/Submit) id m04B6lK3006677 for source@collab.sakaiproject.org; Fri, 4\n",
            "set sender to david.horwitz@uct.ac.za using -f To: source@collab.sakaiproject.org From: david.horwitz@uct.ac.za Subject:\n",
            "charset=UTF-8 X-Content-Type-Message-Body: text/plain; charset=UTF-8 Content-Type: text/plain; charset=UTF-8 XDSPAM-Result: Innocent X-DSPAM-Processed: Fri Jan 4 06:08:27 2008 X-DSPAM-Confidence: 0.6948 X-DSPAMProbability: 0.0000 Details: http://source.sakaiproject.org/viewsvn/?view=rev&rev=39753 Author: david.horwitz@uct.ac.za\n",
            "Workspace > Preferences. From david.horwitz@uct.ac.za Fri Jan 4 04:49:08 2008 Return-Path: Received: from murder\n",
            "<200801040947.m049lUxo006517@nakamura.uits.iupui.edu> Mime-Version: 1.0 Content-Transfer-Encoding: 7bit\n",
            "ESMTP id m049lU3P006519 for ; Fri, 4 Jan 2008 04:47:30 -0500 Received: (from apache@localhost) by\n",
            "nakamura.uits.iupui.edu (8.12.11.20060308/8.12.11/Submit) id m049lUxo006517 for source@collab.sakaiproject.org; Fri, 4\n",
            "set sender to david.horwitz@uct.ac.za using -f To: source@collab.sakaiproject.org From: david.horwitz@uct.ac.za Subject:\n",
            "Author: david.horwitz@uct.ac.za Date: 2008-01-04 04:47:16 -0500 (Fri, 04 Jan 2008) New Revision: 39752 Modified:\n",
            "------------------------------------------------------- r39641 | josrodri@iupui.edu | 2007-12-28 23:44:24 +0200 (Fri, 28 Dec 2007) | 1\n",
            "----------- dhorwitz@david-horwitz-6:~/branchManagemnt/sakai_2-5-x> svn merge -c39641\n",
            "receive notifications at My Workspace > Preferences. From david.horwitz@uct.ac.za Fri Jan 4 04:33:44 2008 Return-Path:\n",
            "<200801040932.m049W2i5006493@nakamura.uits.iupui.edu> Mime-Version: 1.0 Content-Transfer-Encoding: 7bit\n",
            "ESMTP id m049W3fl006495 for ; Fri, 4 Jan 2008 04:32:03 -0500 Received: (from apache@localhost) by\n",
            "nakamura.uits.iupui.edu (8.12.11.20060308/8.12.11/Submit) id m049W2i5006493 for source@collab.sakaiproject.org; Fri, 4\n",
            "set sender to david.horwitz@uct.ac.za using -f To: source@collab.sakaiproject.org From: david.horwitz@uct.ac.za Subject:\n",
            "Author: david.horwitz@uct.ac.za Date: 2008-01-04 04:31:35 -0500 (Fri, 04 Jan 2008) New Revision: 39751 Removed:\n",
            "----------------------------------------------------------- r39146 | josrodri@iupui.edu | 2007-12-12 21:40:33 +0200 (Wed, 12 Dec 2007)\n",
            "cleanup. ------------------------------------------------------------------------ dhorwitz@david-horwitz-6:~/branchManagemnt/sakai_2-5-\n",
            "stephen.marquard@uct.ac.za Fri Jan 4 04:07:34 2008 Return-Path: Received: from murder (mail.umich.edu\n",
            "<200801040905.m0495rWB006420@nakamura.uits.iupui.edu> Mime-Version: 1.0 Content-Transfer-Encoding: 7bit\n",
            "ESMTP id m0495sZs006422 for ; Fri, 4 Jan 2008 04:05:54 -0500 Received: (from apache@localhost) by\n",
            "nakamura.uits.iupui.edu (8.12.11.20060308/8.12.11/Submit) id m0495rWB006420 for source@collab.sakaiproject.org; Fri, 4\n",
            "set sender to stephen.marquard@uct.ac.za using -f To: source@collab.sakaiproject.org From:\n",
            "stephen.marquard@uct.ac.za Subject: [sakai] svn commit: r39750 - event/branches/SAK-6216/eventutil/util/src/java/org/sakaiproject/util X-Content-Type-Outer-Envelope: text/plain; charset=UTF-8 X-Content-Type-MessageBody: text/plain; charset=UTF-8 Content-Type: text/plain; charset=UTF-8 X-DSPAM-Result: Innocent X-DSPAM-Processed:\n",
            "http://source.sakaiproject.org/viewsvn/?view=rev&rev=39750 Author: stephen.marquard@uct.ac.za Date: 2008-01-04\n",
            "notifications at My Workspace > Preferences. From louis@media.berkeley.edu Thu Jan 3 19:51:21 2008 Return-Path:\n",
            "Message-ID: <200801040023.m040NpCc005473@nakamura.uits.iupui.edu> Mime-Version: 1.0 Content-TransferEncoding: 7bit Received: from prod.collab.uhi.ac.uk ([194.35.219.182]) by paploo.uhi.ac.uk (JAMES SMTP Server 2.1.3)\n",
            "apache@localhost) by nakamura.uits.iupui.edu (8.12.11.20060308/8.12.11/Submit) id m040NpCc005473 for\n",
            "source@collab.sakaiproject.org; Thu, 3 Jan 2008 19:23:51 -0500 Date: Thu, 3 Jan 2008 19:23:51 -0500 X-AuthenticationWarning: nakamura.uits.iupui.edu: apache set sender to louis@media.berkeley.edu using -f To:\n",
            "source@collab.sakaiproject.org From: louis@media.berkeley.edu Subject: [sakai] svn commit: r39749 - in bspace/sitemanage/sakai_2-4-x/site-manage-tool/tool/src: bundle webapp/vm/sitesetup X-Content-Type-Outer-Envelope: text/plain;\n",
            "charset=UTF-8 X-Content-Type-Message-Body: text/plain; charset=UTF-8 Content-Type: text/plain; charset=UTF-8 XDSPAM-Result: Innocent X-DSPAM-Processed: Thu Jan 3 19:51:20 2008 X-DSPAM-Confidence: 0.6956 X-DSPAMProbability: 0.0000 Details: http://source.sakaiproject.org/viewsvn/?view=rev&rev=39749 Author: louis@media.berkeley.edu\n",
            "> Preferences. From louis@media.berkeley.edu Thu Jan 3 17:18:23 2008 Return-Path: Received: from murder\n",
            "<200801032216.m03MGhDa005292@nakamura.uits.iupui.edu> Mime-Version: 1.0 Content-Transfer-Encoding: 7bit\n",
            "ESMTP id m03MGhrs005294 for ; Thu, 3 Jan 2008 17:16:43 -0500 Received: (from apache@localhost) by\n",
            "nakamura.uits.iupui.edu (8.12.11.20060308/8.12.11/Submit) id m03MGhDa005292 for source@collab.sakaiproject.org;\n",
            "apache set sender to louis@media.berkeley.edu using -f To: source@collab.sakaiproject.org From:\n",
            "louis@media.berkeley.edu Subject: [sakai] svn commit: r39746 - in bspace/site-manage/sakai_2-4-x/site-managetool/tool/src: bundle webapp/vm/sitesetup X-Content-Type-Outer-Envelope: text/plain; charset=UTF-8 X-Content-TypeMessage-Body: text/plain; charset=UTF-8 Content-Type: text/plain; charset=UTF-8 X-DSPAM-Result: Innocent X-DSPAMProcessed: Thu Jan 3 17:18:23 2008 X-DSPAM-Confidence: 0.6959 X-DSPAM-Probability: 0.0000 Details:\n",
            "http://source.sakaiproject.org/viewsvn/?view=rev&rev=39746 Author: louis@media.berkeley.edu Date: 2008-01-03 17:16:39\n",
            "> Preferences. From ray@media.berkeley.edu Thu Jan 3 17:07:00 2008 Return-Path: Received: from murder\n",
            "<200801032205.m03M5Ea7005273@nakamura.uits.iupui.edu> Mime-Version: 1.0 Content-Transfer-Encoding: 7bit\n",
            "ESMTP id m03M5EQa005275 for ; Thu, 3 Jan 2008 17:05:14 -0500 Received: (from apache@localhost) by\n",
            "nakamura.uits.iupui.edu (8.12.11.20060308/8.12.11/Submit) id m03M5Ea7005273 for source@collab.sakaiproject.org; Thu,\n",
            "apache set sender to ray@media.berkeley.edu using -f To: source@collab.sakaiproject.org From: ray@media.berkeley.edu\n",
            "charset=UTF-8 X-Content-Type-Message-Body: text/plain; charset=UTF-8 Content-Type: text/plain; charset=UTF-8 XDSPAM-Result: Innocent X-DSPAM-Processed: Thu Jan 3 17:07:00 2008 X-DSPAM-Confidence: 0.7556 X-DSPAMProbability: 0.0000 Details: http://source.sakaiproject.org/viewsvn/?view=rev&rev=39745 Author: ray@media.berkeley.edu\n",
            "My Workspace > Preferences. From cwen@iupui.edu Thu Jan 3 16:34:40 2008 Return-Path: Received: from murder\n",
            "<200801032133.m03LX3gG005191@nakamura.uits.iupui.edu> Mime-Version: 1.0 Content-Transfer-Encoding: 7bit\n",
            "ESMTP id m03LX3Vb005193 for ; Thu, 3 Jan 2008 16:33:03 -0500 Received: (from apache@localhost) by\n",
            "nakamura.uits.iupui.edu (8.12.11.20060308/8.12.11/Submit) id m03LX3gG005191 for source@collab.sakaiproject.org; Thu,\n",
            "apache set sender to cwen@iupui.edu using -f To: source@collab.sakaiproject.org From: cwen@iupui.edu Subject: [sakai]\n",
            "charset=UTF-8 X-Content-Type-Message-Body: text/plain; charset=UTF-8 Content-Type: text/plain; charset=UTF-8 XDSPAM-Result: Innocent X-DSPAM-Processed: Thu Jan 3 16:34:40 2008 X-DSPAM-Confidence: 0.9846 X-DSPAMProbability: 0.0000 Details: http://source.sakaiproject.org/viewsvn/?view=rev&rev=39744 Author: cwen@iupui.edu Date:\n",
            "> Preferences. From cwen@iupui.edu Thu Jan 3 16:29:07 2008 Return-Path: Received: from murder (mail.umich.edu\n",
            "<200801032127.m03LRUqH005177@nakamura.uits.iupui.edu> Mime-Version: 1.0 Content-Transfer-Encoding: 7bit\n",
            "ESMTP id m03LRUk4005179 for ; Thu, 3 Jan 2008 16:27:30 -0500 Received: (from apache@localhost) by\n",
            "nakamura.uits.iupui.edu (8.12.11.20060308/8.12.11/Submit) id m03LRUqH005177 for source@collab.sakaiproject.org; Thu,\n",
            "apache set sender to cwen@iupui.edu using -f To: source@collab.sakaiproject.org From: cwen@iupui.edu Subject: [sakai]\n",
            "Author: cwen@iupui.edu Date: 2008-01-03 16:27:29 -0500 (Thu, 03 Jan 2008) New Revision: 39743 Modified:\n",
            "wagnermr@iupui.edu | 2007-12-17 17:11:08 -0500 (Mon, 17 Dec 2007) | 3 lines SAK-12504\n",
            "My Workspace > Preferences. From cwen@iupui.edu Thu Jan 3 16:23:48 2008 Return-Path: Received: from murder\n",
            "<200801032122.m03LMFo4005148@nakamura.uits.iupui.edu> Mime-Version: 1.0 Content-Transfer-Encoding: 7bit\n",
            "ESMTP id m03LMFtT005150 for ; Thu, 3 Jan 2008 16:22:15 -0500 Received: (from apache@localhost) by\n",
            "nakamura.uits.iupui.edu (8.12.11.20060308/8.12.11/Submit) id m03LMFo4005148 for source@collab.sakaiproject.org; Thu,\n",
            "apache set sender to cwen@iupui.edu using -f To: source@collab.sakaiproject.org From: cwen@iupui.edu Subject: [sakai]\n",
            "Author: cwen@iupui.edu Date: 2008-01-03 16:22:14 -0500 (Thu, 03 Jan 2008) New Revision: 39742 Modified:\n",
            "wagnermr@iupui.edu | 2007-09-12 16:17:59 -0400 (Wed, 12 Sep 2007) | 3 lines SAK-11458\n"
          ]
        }
      ]
    },
    {
      "cell_type": "markdown",
      "source": [
        "# Q6. Write a python code to Search for lines that have an @ sign between characters, the characters must be a letter or number"
      ],
      "metadata": {
        "id": "gb42-Z45o3w7"
      }
    },
    {
      "cell_type": "code",
      "source": [
        "import re\n",
        "\n",
        "def search_lines_with_valid_at_symbol(file_path, pattern):\n",
        "    try:\n",
        "        with open(file_path, 'r') as file:\n",
        "            lines = file.readlines()\n",
        "            matching_lines = [line.strip() for line in lines if re.search(pattern, line)]\n",
        "            return matching_lines\n",
        "    except FileNotFoundError:\n",
        "        return []\n",
        "\n",
        "file_path = 'mob.txt'\n",
        "pattern = r'[a-zA-Z0-9]+@[a-zA-Z0-9]+'\n",
        "\n",
        "matching_lines = search_lines_with_valid_at_symbol(file_path, pattern)\n",
        "\n",
        "if matching_lines:\n",
        "    print(\"Lines containing valid '@' symbols between characters found:\")\n",
        "    for line in matching_lines:\n",
        "        print(line)\n",
        "else:\n",
        "    print(\"No lines matching the criteria were found.\")\n"
      ],
      "metadata": {
        "colab": {
          "base_uri": "https://localhost:8080/",
          "height": 0
        },
        "id": "TPJSWE2PoJ-_",
        "outputId": "def395c6-9f16-496d-a43a-05efe479cb34"
      },
      "execution_count": 19,
      "outputs": [
        {
          "output_type": "stream",
          "name": "stdout",
          "text": [
            "Lines containing valid '@' symbols between characters found:\n",
            "From stephen.marquard@uct.ac.za Sat Jan 5 09:14:16 2008 Return-Path: Received: from murder (mail.umich.edu\n",
            "Sat, 5 Jan 2008 14:10:05 +0000 (GMT) Message-ID: <200801051412.m05ECIaH010327@nakamura.uits.iupui.edu> MimeVersion: 1.0 Content-Transfer-Encoding: 7bit Received: from prod.collab.uhi.ac.uk ([194.35.219.182]) by paploo.uhi.ac.uk\n",
            "-0500 Received: (from apache@localhost) by nakamura.uits.iupui.edu (8.12.11.20060308/8.12.11/Submit) id\n",
            "m05ECIaH010327 for source@collab.sakaiproject.org; Sat, 5 Jan 2008 09:12:18 -0500 Date: Sat, 5 Jan 2008 09:12:18\n",
            "-0500 X-Authentication-Warning: nakamura.uits.iupui.edu: apache set sender to stephen.marquard@uct.ac.za using -f To:\n",
            "source@collab.sakaiproject.org From: stephen.marquard@uct.ac.za Subject: [sakai] svn commit: r39772 -\n",
            "stephen.marquard@uct.ac.za Date: 2008-01-05 09:12:07 -0500 (Sat, 05 Jan 2008) New Revision: 39772 Modified:\n",
            "You can modify how you receive notifications at My Workspace > Preferences. From louis@media.berkeley.edu Fri Jan 4\n",
            "Message-ID: <200801042308.m04N8v6O008125@nakamura.uits.iupui.edu> Mime-Version: 1.0 Content-TransferEncoding: 7bit Received: from prod.collab.uhi.ac.uk ([194.35.219.182]) by paploo.uhi.ac.uk (JAMES SMTP Server 2.1.3)\n",
            "apache@localhost) by nakamura.uits.iupui.edu (8.12.11.20060308/8.12.11/Submit) id m04N8v6O008125 for\n",
            "source@collab.sakaiproject.org; Fri, 4 Jan 2008 18:08:57 -0500 Date: Fri, 4 Jan 2008 18:08:57 -0500 X-AuthenticationWarning: nakamura.uits.iupui.edu: apache set sender to louis@media.berkeley.edu using -f To:\n",
            "source@collab.sakaiproject.org From: louis@media.berkeley.edu Subject: [sakai] svn commit: r39771 - in bspace/sitemanage/sakai_2-4-x/site-manage-tool/tool/src: bundle java/org/sakaiproject/site/tool X-Content-Type-Outer-Envelope:\n",
            "louis@media.berkeley.edu Date: 2008-01-04 18:08:50 -0500 (Fri, 04 Jan 2008) New Revision: 39771 Modified:\n",
            "Source site. You can modify how you receive notifications at My Workspace > Preferences. From zqian@umich.edu Fri Jan\n",
            "21:10:31 +0000 (GMT) Message-ID: <200801042109.m04L92hb007923@nakamura.uits.iupui.edu> Mime-Version: 1.0\n",
            "apache@localhost) by nakamura.uits.iupui.edu (8.12.11.20060308/8.12.11/Submit) id m04L92hb007923 for\n",
            "source@collab.sakaiproject.org; Fri, 4 Jan 2008 16:09:02 -0500 Date: Fri, 4 Jan 2008 16:09:02 -0500 X-AuthenticationWarning: nakamura.uits.iupui.edu: apache set sender to zqian@umich.edu using -f To: source@collab.sakaiproject.org\n",
            "From: zqian@umich.edu Subject: [sakai] svn commit: r39770 - site-manage/branches/sakai_2-5-x/site-managetool/tool/src/webapp/vm/sitesetup X-Content-Type-Outer-Envelope: text/plain; charset=UTF-8 X-Content-Type-MessageBody: text/plain; charset=UTF-8 Content-Type: text/plain; charset=UTF-8 X-DSPAM-Result: Innocent X-DSPAM-Processed:\n",
            "http://source.sakaiproject.org/viewsvn/?view=rev&rev=39770 Author: zqian@umich.edu Date: 2008-01-04 16:09:01 -0500\n",
            "notifications at My Workspace > Preferences. From rjlowe@iupui.edu Fri Jan 4 15:46:24 2008 Return-Path: Received: from\n",
            "<200801042044.m04Kiem3007881@nakamura.uits.iupui.edu> Mime-Version: 1.0 Content-Transfer-Encoding: 7bit\n",
            "ESMTP id m04KieqE007883 for ; Fri, 4 Jan 2008 15:44:40 -0500 Received: (from apache@localhost) by\n",
            "nakamura.uits.iupui.edu (8.12.11.20060308/8.12.11/Submit) id m04Kiem3007881 for source@collab.sakaiproject.org; Fri, 4\n",
            "set sender to rjlowe@iupui.edu using -f To: source@collab.sakaiproject.org From: rjlowe@iupui.edu Subject: [sakai] svn\n",
            "Author: rjlowe@iupui.edu Date: 2008-01-04 15:44:39 -0500 (Fri, 04 Jan 2008) New Revision: 39769 Modified:\n",
            "> Preferences. From zqian@umich.edu Fri Jan 4 15:03:18 2008 Return-Path: Received: from murder (mail.umich.edu\n",
            "<200801042001.m04K1cO0007738@nakamura.uits.iupui.edu> Mime-Version: 1.0 Content-Transfer-Encoding: 7bit\n",
            "ESMTP id m04K1cXv007740 for ; Fri, 4 Jan 2008 15:01:38 -0500 Received: (from apache@localhost) by\n",
            "nakamura.uits.iupui.edu (8.12.11.20060308/8.12.11/Submit) id m04K1cO0007738 for source@collab.sakaiproject.org; Fri, 4\n",
            "set sender to zqian@umich.edu using -f To: source@collab.sakaiproject.org From: zqian@umich.edu Subject: [sakai] svn\n",
            "Author: zqian@umich.edu Date: 2008-01-04 15:01:37 -0500 (Fri, 04 Jan 2008) New Revision: 39766 Modified: sitemanage/branches/sakai_2-4-x/site-manage-tool/tool/src/java/org/sakaiproject/site/tool/SiteAction.java Log: merge fix to\n",
            "zqian@umich.edu Fix to SAK-10788: If a provided id in a couse site is fake or doesn't provide any user information, Site\n",
            "Workspace > Preferences. From rjlowe@iupui.edu Fri Jan 4 14:50:18 2008 Return-Path: Received: from murder\n",
            "<200801041948.m04JmdwO007705@nakamura.uits.iupui.edu> Mime-Version: 1.0 Content-Transfer-Encoding: 7bit\n",
            "ESMTP id m04JmeV9007707 for ; Fri, 4 Jan 2008 14:48:40 -0500 Received: (from apache@localhost) by\n",
            "nakamura.uits.iupui.edu (8.12.11.20060308/8.12.11/Submit) id m04JmdwO007705 for source@collab.sakaiproject.org; Fri,\n",
            "apache set sender to rjlowe@iupui.edu using -f To: source@collab.sakaiproject.org From: rjlowe@iupui.edu Subject: [sakai]\n",
            "http://source.sakaiproject.org/viewsvn/?view=rev&rev=39765 Author: rjlowe@iupui.edu Date: 2008-01-04 14:48:37 -0500\n",
            "> Preferences. From cwen@iupui.edu Fri Jan 4 11:37:30 2008 Return-Path: Received: from murder (mail.umich.edu\n",
            "Fri, 4 Jan 2008 16:37:07 +0000 (GMT) Message-ID: <200801041635.m04GZQGZ007313@nakamura.uits.iupui.edu>\n",
            "-0500 Received: (from apache@localhost) by nakamura.uits.iupui.edu (8.12.11.20060308/8.12.11/Submit) id\n",
            "m04GZQGZ007313 for source@collab.sakaiproject.org; Fri, 4 Jan 2008 11:35:26 -0500 Date: Fri, 4 Jan 2008 11:35:26\n",
            "-0500 X-Authentication-Warning: nakamura.uits.iupui.edu: apache set sender to cwen@iupui.edu using -f To:\n",
            "source@collab.sakaiproject.org From: cwen@iupui.edu Subject: [sakai] svn commit: r39764 - in\n",
            "cwen@iupui.edu Date: 2008-01-04 11:35:25 -0500 (Fri, 04 Jan 2008) New Revision: 39764 Modified:\n",
            "-------------------------------------------------- r39558 | hu2@iupui.edu | 2007-12-20 15:25:38 -0500 (Thu, 20 Dec 2007) | 3 lines\n",
            "You can modify how you receive notifications at My Workspace > Preferences. From cwen@iupui.edu Fri Jan 4 11:35:08\n",
            "<200801041633.m04GX6eG007292@nakamura.uits.iupui.edu> Mime-Version: 1.0 Content-Transfer-Encoding: 7bit\n",
            "ESMTP id m04GX6Y3007294 for ; Fri, 4 Jan 2008 11:33:06 -0500 Received: (from apache@localhost) by\n",
            "nakamura.uits.iupui.edu (8.12.11.20060308/8.12.11/Submit) id m04GX6eG007292 for source@collab.sakaiproject.org; Fri,\n",
            "apache set sender to cwen@iupui.edu using -f To: source@collab.sakaiproject.org From: cwen@iupui.edu Subject: [sakai]\n",
            "charset=UTF-8 X-Content-Type-Message-Body: text/plain; charset=UTF-8 Content-Type: text/plain; charset=UTF-8 XDSPAM-Result: Innocent X-DSPAM-Processed: Fri Jan 4 11:35:08 2008 X-DSPAM-Confidence: 0.7615 X-DSPAMProbability: 0.0000 Details: http://source.sakaiproject.org/viewsvn/?view=rev&rev=39763 Author: cwen@iupui.edu Date:\n",
            "--------------------------------- r39571 | hu2@iupui.edu | 2007-12-20 21:26:28 -0500 (Thu, 20 Dec 2007) | 3 lines SAK-12484\n",
            "> Preferences. From gsilver@umich.edu Fri Jan 4 11:12:37 2008 Return-Path: Received: from murder (mail.umich.edu\n",
            "Fri, 4 Jan 2008 16:12:27 +0000 (GMT) Message-ID: <200801041611.m04GB1Lb007221@nakamura.uits.iupui.edu> MimeVersion: 1.0 Content-Transfer-Encoding: 7bit Received: from prod.collab.uhi.ac.uk ([194.35.219.182]) by paploo.uhi.ac.uk\n",
            "-0500 Received: (from apache@localhost) by nakamura.uits.iupui.edu (8.12.11.20060308/8.12.11/Submit) id\n",
            "m04GB1Lb007221 for source@collab.sakaiproject.org; Fri, 4 Jan 2008 11:11:01 -0500 Date: Fri, 4 Jan 2008 11:11:01 -0500\n",
            "X-Authentication-Warning: nakamura.uits.iupui.edu: apache set sender to gsilver@umich.edu using -f To:\n",
            "source@collab.sakaiproject.org From: gsilver@umich.edu Subject: [sakai] svn commit: r39762 - web/trunk/webtool/tool/src/bundle X-Content-Type-Outer-Envelope: text/plain; charset=UTF-8 X-Content-Type-Message-Body: text/plain;\n",
            "http://source.sakaiproject.org/viewsvn/?view=rev&rev=39762 Author: gsilver@umich.edu Date: 2008-01-04 11:11:00 -0500\n",
            "can modify how you receive notifications at My Workspace > Preferences. From gsilver@umich.edu Fri Jan 4 11:11:52\n",
            "Message-ID: <200801041610.m04GA5KP007209@nakamura.uits.iupui.edu> Mime-Version: 1.0 Content-TransferEncoding: 7bit Received: from prod.collab.uhi.ac.uk ([194.35.219.182]) by paploo.uhi.ac.uk (JAMES SMTP Server 2.1.3)\n",
            "apache@localhost) by nakamura.uits.iupui.edu (8.12.11.20060308/8.12.11/Submit) id m04GA5KP007209 for\n",
            "source@collab.sakaiproject.org; Fri, 4 Jan 2008 11:10:05 -0500 Date: Fri, 4 Jan 2008 11:10:05 -0500 X-AuthenticationWarning: nakamura.uits.iupui.edu: apache set sender to gsilver@umich.edu using -f To: source@collab.sakaiproject.org\n",
            "From: gsilver@umich.edu Subject: [sakai] svn commit: r39761 - site/trunk/site-tool/tool/src/bundle X-Content-Type-OuterEnvelope: text/plain; charset=UTF-8 X-Content-Type-Message-Body: text/plain; charset=UTF-8 Content-Type: text/plain;\n",
            "gsilver@umich.edu Date: 2008-01-04 11:10:04 -0500 (Fri, 04 Jan 2008) New Revision: 39761 Modified: site/trunk/sitetool/tool/src/bundle/admin.properties Log: SAK-12595 http://bugs.sakaiproject.org/jira/browse/SAK-12595 - left moot\n",
            "> Preferences. From zqian@umich.edu Fri Jan 4 11:11:03 2008 Return-Path: Received: from murder (mail.umich.edu\n",
            "Fri, 4 Jan 2008 16:10:53 +0000 (GMT) Message-ID: <200801041609.m04G9EuX007197@nakamura.uits.iupui.edu> MimeVersion: 1.0 Content-Transfer-Encoding: 7bit Received: from prod.collab.uhi.ac.uk ([194.35.219.182]) by paploo.uhi.ac.uk\n",
            "Received: (from apache@localhost) by nakamura.uits.iupui.edu (8.12.11.20060308/8.12.11/Submit) id m04G9EuX007197\n",
            "for source@collab.sakaiproject.org; Fri, 4 Jan 2008 11:09:14 -0500 Date: Fri, 4 Jan 2008 11:09:14 -0500 X-AuthenticationWarning: nakamura.uits.iupui.edu: apache set sender to zqian@umich.edu using -f To: source@collab.sakaiproject.org\n",
            "From: zqian@umich.edu Subject: [sakai] svn commit: r39760 - in site-manage/trunk/site-manage-tool/tool/src:\n",
            "http://source.sakaiproject.org/viewsvn/?view=rev&rev=39760 Author: zqian@umich.edu Date: 2008-01-04 11:09:12 -0500\n",
            "My Workspace > Preferences. From gsilver@umich.edu Fri Jan 4 11:10:22 2008 Return-Path: Received: from murder\n",
            "<200801041608.m04G8d7w007184@nakamura.uits.iupui.edu> Mime-Version: 1.0 Content-Transfer-Encoding: 7bit\n",
            "ESMTP id m04G8dXN007186 for ; Fri, 4 Jan 2008 11:08:39 -0500 Received: (from apache@localhost) by\n",
            "nakamura.uits.iupui.edu (8.12.11.20060308/8.12.11/Submit) id m04G8d7w007184 for source@collab.sakaiproject.org; Fri,\n",
            "apache set sender to gsilver@umich.edu using -f To: source@collab.sakaiproject.org From: gsilver@umich.edu Subject:\n",
            "charset=UTF-8 X-Content-Type-Message-Body: text/plain; charset=UTF-8 Content-Type: text/plain; charset=UTF-8 XDSPAM-Result: Innocent X-DSPAM-Processed: Fri Jan 4 11:10:22 2008 X-DSPAM-Confidence: 0.7606 X-DSPAMProbability: 0.0000 Details: http://source.sakaiproject.org/viewsvn/?view=rev&rev=39759 Author: gsilver@umich.edu Date:\n",
            "> Preferences. From wagnermr@iupui.edu Fri Jan 4 10:38:42 2008 Return-Path: Received: from murder (mail.umich.edu\n",
            "<200801041537.m04Fb6Ci007092@nakamura.uits.iupui.edu> Mime-Version: 1.0 Content-Transfer-Encoding: 7bit\n",
            "ESMTP id m04Fb6nh007094 for ; Fri, 4 Jan 2008 10:37:06 -0500 Received: (from apache@localhost) by\n",
            "nakamura.uits.iupui.edu (8.12.11.20060308/8.12.11/Submit) id m04Fb6Ci007092 for source@collab.sakaiproject.org; Fri, 4\n",
            "set sender to wagnermr@iupui.edu using -f To: source@collab.sakaiproject.org From: wagnermr@iupui.edu Subject:\n",
            "view=rev&rev=39758 Author: wagnermr@iupui.edu Date: 2008-01-04 10:37:04 -0500 (Fri, 04 Jan 2008) New Revision:\n",
            "Workspace > Preferences. From zqian@umich.edu Fri Jan 4 10:17:43 2008 Return-Path: Received: from murder\n",
            "<200801041515.m04FFv42007050@nakamura.uits.iupui.edu> Mime-Version: 1.0 Content-Transfer-Encoding: 7bit\n",
            "ESMTP id m04FFv85007052 for ; Fri, 4 Jan 2008 10:15:57 -0500 Received: (from apache@localhost) by\n",
            "nakamura.uits.iupui.edu (8.12.11.20060308/8.12.11/Submit) id m04FFv42007050 for source@collab.sakaiproject.org; Fri, 4\n",
            "set sender to zqian@umich.edu using -f To: source@collab.sakaiproject.org From: zqian@umich.edu Subject: [sakai] svn\n",
            "http://source.sakaiproject.org/viewsvn/?view=rev&rev=39757 Author: zqian@umich.edu Date: 2008-01-04 10:15:54 -0500\n",
            "Workspace > Preferences. From antranig@caret.cam.ac.uk Fri Jan 4 10:04:14 2008 Return-Path: Received: from murder\n",
            "<200801041502.m04F21Jo007031@nakamura.uits.iupui.edu> Mime-Version: 1.0 Content-Transfer-Encoding: 7bit\n",
            "ESMTP id m04F21hn007033 for ; Fri, 4 Jan 2008 10:02:01 -0500 Received: (from apache@localhost) by\n",
            "nakamura.uits.iupui.edu (8.12.11.20060308/8.12.11/Submit) id m04F21Jo007031 for source@collab.sakaiproject.org; Fri, 4\n",
            "set sender to antranig@caret.cam.ac.uk using -f To: source@collab.sakaiproject.org From: antranig@caret.cam.ac.uk\n",
            "view=rev&rev=39756 Author: antranig@caret.cam.ac.uk Date: 2008-01-04 10:01:40 -0500 (Fri, 04 Jan 2008) New\n",
            "> Preferences. From gopal.ramasammycook@gmail.com Fri Jan 4 09:05:31 2008 Return-Path: Received: from murder\n",
            "<200801041403.m04E3psW006926@nakamura.uits.iupui.edu> Mime-Version: 1.0 Content-Transfer-Encoding: 7bit\n",
            "ESMTP id m04E3pQS006928 for ; Fri, 4 Jan 2008 09:03:52 -0500 Received: (from apache@localhost) by\n",
            "nakamura.uits.iupui.edu (8.12.11.20060308/8.12.11/Submit) id m04E3psW006926 for source@collab.sakaiproject.org; Fri,\n",
            "apache set sender to gopal.ramasammycook@gmail.com using -f To: source@collab.sakaiproject.org From:\n",
            "gopal.ramasammycook@gmail.com Subject: [sakai] svn commit: r39755 - in sam/branches/SAK-12065: samigoapi/src/java/org/sakaiproject/tool/assessment/shared/api/grading samigoapp/src/java/org/sakaiproject/tool/assessment/ui/bean/evaluation samigoapp/src/java/org/sakaiproject/tool/assessment/ui/listener/evaluation samigoservices/src/java/org/sakaiproject/tool/assessment/facade samigoservices/src/java/org/sakaiproject/tool/assessment/integration/helper/ifc samigoservices/src/java/org/sakaiproject/tool/assessment/integration/helper/integrated samigoservices/src/java/org/sakaiproject/tool/assessment/integration/helper/standalone samigoservices/src/java/org/sakaiproject/tool/assessment/shared/impl/grading X-Content-Type-Outer-Envelope: text/plain;\n",
            "gopal.ramasammycook@gmail.com Date: 2008-01-04 09:02:54 -0500 (Fri, 04 Jan 2008) New Revision: 39755 Modified:\n",
            "can modify how you receive notifications at My Workspace > Preferences. From david.horwitz@uct.ac.za Fri Jan 4\n",
            "<200801041200.m04C0gfK006793@nakamura.uits.iupui.edu> Mime-Version: 1.0 Content-Transfer-Encoding: 7bit\n",
            "ESMTP id m04C0gnm006795 for ; Fri, 4 Jan 2008 07:00:42 -0500 Received: (from apache@localhost) by\n",
            "nakamura.uits.iupui.edu (8.12.11.20060308/8.12.11/Submit) id m04C0gfK006793 for source@collab.sakaiproject.org; Fri, 4\n",
            "set sender to david.horwitz@uct.ac.za using -f To: source@collab.sakaiproject.org From: david.horwitz@uct.ac.za Subject:\n",
            "charset=UTF-8 X-Content-Type-Message-Body: text/plain; charset=UTF-8 Content-Type: text/plain; charset=UTF-8 XDSPAM-Result: Innocent X-DSPAM-Processed: Fri Jan 4 07:02:32 2008 X-DSPAM-Confidence: 0.6526 X-DSPAMProbability: 0.0000 Details: http://source.sakaiproject.org/viewsvn/?view=rev&rev=39754 Author: david.horwitz@uct.ac.za\n",
            "r39753 | david.horwitz@uct.ac.za | 2008-01-04 13:05:51 +0200 (Fri, 04 Jan 2008) | 1 line SAK-12228 implmented\n",
            "-- dhorwitz@david-horwitz-6:~/branchManagemnt/sakai_2-5-x> svn merge -c39753\n",
            "A polls/tool/src/java/org/sakaiproject/poll/tool/evolvers/SakaiFCKTextEvolver.java C polls/tool/src/webapp/WEBINF/requestContext.xml U polls/tool/pom.xml dhorwitz@david-horwitz-6:~/branchManagemnt/sakai_2-5-x> svn resolved\n",
            "> Preferences. From david.horwitz@uct.ac.za Fri Jan 4 06:08:27 2008 Return-Path: Received: from murder\n",
            "<200801041106.m04B6lK3006677@nakamura.uits.iupui.edu> Mime-Version: 1.0 Content-Transfer-Encoding: 7bit\n",
            "ESMTP id m04B6lWM006679 for ; Fri, 4 Jan 2008 06:06:47 -0500 Received: (from apache@localhost) by\n",
            "nakamura.uits.iupui.edu (8.12.11.20060308/8.12.11/Submit) id m04B6lK3006677 for source@collab.sakaiproject.org; Fri, 4\n",
            "set sender to david.horwitz@uct.ac.za using -f To: source@collab.sakaiproject.org From: david.horwitz@uct.ac.za Subject:\n",
            "charset=UTF-8 X-Content-Type-Message-Body: text/plain; charset=UTF-8 Content-Type: text/plain; charset=UTF-8 XDSPAM-Result: Innocent X-DSPAM-Processed: Fri Jan 4 06:08:27 2008 X-DSPAM-Confidence: 0.6948 X-DSPAMProbability: 0.0000 Details: http://source.sakaiproject.org/viewsvn/?view=rev&rev=39753 Author: david.horwitz@uct.ac.za\n",
            "Workspace > Preferences. From david.horwitz@uct.ac.za Fri Jan 4 04:49:08 2008 Return-Path: Received: from murder\n",
            "<200801040947.m049lUxo006517@nakamura.uits.iupui.edu> Mime-Version: 1.0 Content-Transfer-Encoding: 7bit\n",
            "ESMTP id m049lU3P006519 for ; Fri, 4 Jan 2008 04:47:30 -0500 Received: (from apache@localhost) by\n",
            "nakamura.uits.iupui.edu (8.12.11.20060308/8.12.11/Submit) id m049lUxo006517 for source@collab.sakaiproject.org; Fri, 4\n",
            "set sender to david.horwitz@uct.ac.za using -f To: source@collab.sakaiproject.org From: david.horwitz@uct.ac.za Subject:\n",
            "Author: david.horwitz@uct.ac.za Date: 2008-01-04 04:47:16 -0500 (Fri, 04 Jan 2008) New Revision: 39752 Modified:\n",
            "------------------------------------------------------- r39641 | josrodri@iupui.edu | 2007-12-28 23:44:24 +0200 (Fri, 28 Dec 2007) | 1\n",
            "----------- dhorwitz@david-horwitz-6:~/branchManagemnt/sakai_2-5-x> svn merge -c39641\n",
            "receive notifications at My Workspace > Preferences. From david.horwitz@uct.ac.za Fri Jan 4 04:33:44 2008 Return-Path:\n",
            "<200801040932.m049W2i5006493@nakamura.uits.iupui.edu> Mime-Version: 1.0 Content-Transfer-Encoding: 7bit\n",
            "ESMTP id m049W3fl006495 for ; Fri, 4 Jan 2008 04:32:03 -0500 Received: (from apache@localhost) by\n",
            "nakamura.uits.iupui.edu (8.12.11.20060308/8.12.11/Submit) id m049W2i5006493 for source@collab.sakaiproject.org; Fri, 4\n",
            "set sender to david.horwitz@uct.ac.za using -f To: source@collab.sakaiproject.org From: david.horwitz@uct.ac.za Subject:\n",
            "Author: david.horwitz@uct.ac.za Date: 2008-01-04 04:31:35 -0500 (Fri, 04 Jan 2008) New Revision: 39751 Removed:\n",
            "----------------------------------------------------------- r39146 | josrodri@iupui.edu | 2007-12-12 21:40:33 +0200 (Wed, 12 Dec 2007)\n",
            "cleanup. ------------------------------------------------------------------------ dhorwitz@david-horwitz-6:~/branchManagemnt/sakai_2-5-\n",
            "stephen.marquard@uct.ac.za Fri Jan 4 04:07:34 2008 Return-Path: Received: from murder (mail.umich.edu\n",
            "<200801040905.m0495rWB006420@nakamura.uits.iupui.edu> Mime-Version: 1.0 Content-Transfer-Encoding: 7bit\n",
            "ESMTP id m0495sZs006422 for ; Fri, 4 Jan 2008 04:05:54 -0500 Received: (from apache@localhost) by\n",
            "nakamura.uits.iupui.edu (8.12.11.20060308/8.12.11/Submit) id m0495rWB006420 for source@collab.sakaiproject.org; Fri, 4\n",
            "set sender to stephen.marquard@uct.ac.za using -f To: source@collab.sakaiproject.org From:\n",
            "stephen.marquard@uct.ac.za Subject: [sakai] svn commit: r39750 - event/branches/SAK-6216/eventutil/util/src/java/org/sakaiproject/util X-Content-Type-Outer-Envelope: text/plain; charset=UTF-8 X-Content-Type-MessageBody: text/plain; charset=UTF-8 Content-Type: text/plain; charset=UTF-8 X-DSPAM-Result: Innocent X-DSPAM-Processed:\n",
            "http://source.sakaiproject.org/viewsvn/?view=rev&rev=39750 Author: stephen.marquard@uct.ac.za Date: 2008-01-04\n",
            "notifications at My Workspace > Preferences. From louis@media.berkeley.edu Thu Jan 3 19:51:21 2008 Return-Path:\n",
            "Message-ID: <200801040023.m040NpCc005473@nakamura.uits.iupui.edu> Mime-Version: 1.0 Content-TransferEncoding: 7bit Received: from prod.collab.uhi.ac.uk ([194.35.219.182]) by paploo.uhi.ac.uk (JAMES SMTP Server 2.1.3)\n",
            "apache@localhost) by nakamura.uits.iupui.edu (8.12.11.20060308/8.12.11/Submit) id m040NpCc005473 for\n",
            "source@collab.sakaiproject.org; Thu, 3 Jan 2008 19:23:51 -0500 Date: Thu, 3 Jan 2008 19:23:51 -0500 X-AuthenticationWarning: nakamura.uits.iupui.edu: apache set sender to louis@media.berkeley.edu using -f To:\n",
            "source@collab.sakaiproject.org From: louis@media.berkeley.edu Subject: [sakai] svn commit: r39749 - in bspace/sitemanage/sakai_2-4-x/site-manage-tool/tool/src: bundle webapp/vm/sitesetup X-Content-Type-Outer-Envelope: text/plain;\n",
            "charset=UTF-8 X-Content-Type-Message-Body: text/plain; charset=UTF-8 Content-Type: text/plain; charset=UTF-8 XDSPAM-Result: Innocent X-DSPAM-Processed: Thu Jan 3 19:51:20 2008 X-DSPAM-Confidence: 0.6956 X-DSPAMProbability: 0.0000 Details: http://source.sakaiproject.org/viewsvn/?view=rev&rev=39749 Author: louis@media.berkeley.edu\n",
            "> Preferences. From louis@media.berkeley.edu Thu Jan 3 17:18:23 2008 Return-Path: Received: from murder\n",
            "<200801032216.m03MGhDa005292@nakamura.uits.iupui.edu> Mime-Version: 1.0 Content-Transfer-Encoding: 7bit\n",
            "ESMTP id m03MGhrs005294 for ; Thu, 3 Jan 2008 17:16:43 -0500 Received: (from apache@localhost) by\n",
            "nakamura.uits.iupui.edu (8.12.11.20060308/8.12.11/Submit) id m03MGhDa005292 for source@collab.sakaiproject.org;\n",
            "apache set sender to louis@media.berkeley.edu using -f To: source@collab.sakaiproject.org From:\n",
            "louis@media.berkeley.edu Subject: [sakai] svn commit: r39746 - in bspace/site-manage/sakai_2-4-x/site-managetool/tool/src: bundle webapp/vm/sitesetup X-Content-Type-Outer-Envelope: text/plain; charset=UTF-8 X-Content-TypeMessage-Body: text/plain; charset=UTF-8 Content-Type: text/plain; charset=UTF-8 X-DSPAM-Result: Innocent X-DSPAMProcessed: Thu Jan 3 17:18:23 2008 X-DSPAM-Confidence: 0.6959 X-DSPAM-Probability: 0.0000 Details:\n",
            "http://source.sakaiproject.org/viewsvn/?view=rev&rev=39746 Author: louis@media.berkeley.edu Date: 2008-01-03 17:16:39\n",
            "> Preferences. From ray@media.berkeley.edu Thu Jan 3 17:07:00 2008 Return-Path: Received: from murder\n",
            "<200801032205.m03M5Ea7005273@nakamura.uits.iupui.edu> Mime-Version: 1.0 Content-Transfer-Encoding: 7bit\n",
            "ESMTP id m03M5EQa005275 for ; Thu, 3 Jan 2008 17:05:14 -0500 Received: (from apache@localhost) by\n",
            "nakamura.uits.iupui.edu (8.12.11.20060308/8.12.11/Submit) id m03M5Ea7005273 for source@collab.sakaiproject.org; Thu,\n",
            "apache set sender to ray@media.berkeley.edu using -f To: source@collab.sakaiproject.org From: ray@media.berkeley.edu\n",
            "charset=UTF-8 X-Content-Type-Message-Body: text/plain; charset=UTF-8 Content-Type: text/plain; charset=UTF-8 XDSPAM-Result: Innocent X-DSPAM-Processed: Thu Jan 3 17:07:00 2008 X-DSPAM-Confidence: 0.7556 X-DSPAMProbability: 0.0000 Details: http://source.sakaiproject.org/viewsvn/?view=rev&rev=39745 Author: ray@media.berkeley.edu\n",
            "My Workspace > Preferences. From cwen@iupui.edu Thu Jan 3 16:34:40 2008 Return-Path: Received: from murder\n",
            "<200801032133.m03LX3gG005191@nakamura.uits.iupui.edu> Mime-Version: 1.0 Content-Transfer-Encoding: 7bit\n",
            "ESMTP id m03LX3Vb005193 for ; Thu, 3 Jan 2008 16:33:03 -0500 Received: (from apache@localhost) by\n",
            "nakamura.uits.iupui.edu (8.12.11.20060308/8.12.11/Submit) id m03LX3gG005191 for source@collab.sakaiproject.org; Thu,\n",
            "apache set sender to cwen@iupui.edu using -f To: source@collab.sakaiproject.org From: cwen@iupui.edu Subject: [sakai]\n",
            "charset=UTF-8 X-Content-Type-Message-Body: text/plain; charset=UTF-8 Content-Type: text/plain; charset=UTF-8 XDSPAM-Result: Innocent X-DSPAM-Processed: Thu Jan 3 16:34:40 2008 X-DSPAM-Confidence: 0.9846 X-DSPAMProbability: 0.0000 Details: http://source.sakaiproject.org/viewsvn/?view=rev&rev=39744 Author: cwen@iupui.edu Date:\n",
            "> Preferences. From cwen@iupui.edu Thu Jan 3 16:29:07 2008 Return-Path: Received: from murder (mail.umich.edu\n",
            "<200801032127.m03LRUqH005177@nakamura.uits.iupui.edu> Mime-Version: 1.0 Content-Transfer-Encoding: 7bit\n",
            "ESMTP id m03LRUk4005179 for ; Thu, 3 Jan 2008 16:27:30 -0500 Received: (from apache@localhost) by\n",
            "nakamura.uits.iupui.edu (8.12.11.20060308/8.12.11/Submit) id m03LRUqH005177 for source@collab.sakaiproject.org; Thu,\n",
            "apache set sender to cwen@iupui.edu using -f To: source@collab.sakaiproject.org From: cwen@iupui.edu Subject: [sakai]\n",
            "Author: cwen@iupui.edu Date: 2008-01-03 16:27:29 -0500 (Thu, 03 Jan 2008) New Revision: 39743 Modified:\n",
            "wagnermr@iupui.edu | 2007-12-17 17:11:08 -0500 (Mon, 17 Dec 2007) | 3 lines SAK-12504\n",
            "My Workspace > Preferences. From cwen@iupui.edu Thu Jan 3 16:23:48 2008 Return-Path: Received: from murder\n",
            "<200801032122.m03LMFo4005148@nakamura.uits.iupui.edu> Mime-Version: 1.0 Content-Transfer-Encoding: 7bit\n",
            "ESMTP id m03LMFtT005150 for ; Thu, 3 Jan 2008 16:22:15 -0500 Received: (from apache@localhost) by\n",
            "nakamura.uits.iupui.edu (8.12.11.20060308/8.12.11/Submit) id m03LMFo4005148 for source@collab.sakaiproject.org; Thu,\n",
            "apache set sender to cwen@iupui.edu using -f To: source@collab.sakaiproject.org From: cwen@iupui.edu Subject: [sakai]\n",
            "Author: cwen@iupui.edu Date: 2008-01-03 16:22:14 -0500 (Thu, 03 Jan 2008) New Revision: 39742 Modified:\n",
            "wagnermr@iupui.edu | 2007-09-12 16:17:59 -0400 (Wed, 12 Sep 2007) | 3 lines SAK-11458\n"
          ]
        }
      ]
    },
    {
      "cell_type": "markdown",
      "source": [
        "# Q7. Write a python code to Search for lines that start with ‘X’ followed by any non-whitespace characters and ‘:’ followed by a space and any number. The number can include a decimal point."
      ],
      "metadata": {
        "id": "eiyz7V9kpSq0"
      }
    },
    {
      "cell_type": "code",
      "source": [
        "import re\n",
        "\n",
        "def search_lines_with_pattern(file_path, pattern):\n",
        "    try:\n",
        "        with open(file_path, 'r') as file:\n",
        "            lines = file.readlines()\n",
        "            matching_lines = [line.strip() for line in lines if re.match(pattern, line)]\n",
        "            return matching_lines\n",
        "    except FileNotFoundError:\n",
        "        return []\n",
        "\n",
        "file_path = 'mob.txt'\n",
        "pattern = r'^X\\w+:\\s\\d+(\\.\\d+)?$'\n",
        "\n",
        "matching_lines = search_lines_with_pattern(file_path, pattern)\n",
        "\n",
        "if matching_lines:\n",
        "    print(\"Lines matching the specified pattern found: \")\n",
        "    for line in matching_lines:\n",
        "        print(line)\n",
        "else:\n",
        "    print(\"No lines matching !!!\")\n"
      ],
      "metadata": {
        "colab": {
          "base_uri": "https://localhost:8080/",
          "height": 0
        },
        "id": "1kon1mMopHm9",
        "outputId": "99d9829a-eed5-4c93-84c8-3bc07444db02"
      },
      "execution_count": 23,
      "outputs": [
        {
          "output_type": "stream",
          "name": "stdout",
          "text": [
            "No lines matching !!!\n"
          ]
        }
      ]
    },
    {
      "cell_type": "markdown",
      "source": [
        "#Q8. Write a python code to Search for specific email of @uct.ac.za"
      ],
      "metadata": {
        "id": "4kSw5Iump4qY"
      }
    },
    {
      "cell_type": "code",
      "source": [
        "def search_email_addresses(file_path, domain):\n",
        "    try:\n",
        "        with open(file_path, 'r') as file:\n",
        "            lines = file.readlines()\n",
        "            matching_emails = [line.strip() for line in lines if domain in line]\n",
        "            return matching_emails\n",
        "    except FileNotFoundError:\n",
        "        return []\n",
        "\n",
        "file_path = 'mob.txt'\n",
        "domain = '@uct.ac.za'\n",
        "\n",
        "matching_emails = search_email_addresses(file_path, domain)\n",
        "\n",
        "if matching_emails:\n",
        "    print(f\"Email addresses with domain '{format(domain)}' found:\")\n",
        "    for email in matching_emails:\n",
        "        print(email)\n",
        "else:\n",
        "    print(f\"No email addresses with domain '{format(domain)}' were found.\")\n"
      ],
      "metadata": {
        "colab": {
          "base_uri": "https://localhost:8080/",
          "height": 0
        },
        "id": "T3uykQ2kpnVz",
        "outputId": "7b0a202f-ac38-4a9e-9a05-ff94e2b064cd"
      },
      "execution_count": 25,
      "outputs": [
        {
          "output_type": "stream",
          "name": "stdout",
          "text": [
            "Email addresses with domain '@uct.ac.za' found:\n",
            "From stephen.marquard@uct.ac.za Sat Jan 5 09:14:16 2008 Return-Path: Received: from murder (mail.umich.edu\n",
            "-0500 X-Authentication-Warning: nakamura.uits.iupui.edu: apache set sender to stephen.marquard@uct.ac.za using -f To:\n",
            "source@collab.sakaiproject.org From: stephen.marquard@uct.ac.za Subject: [sakai] svn commit: r39772 -\n",
            "stephen.marquard@uct.ac.za Date: 2008-01-05 09:12:07 -0500 (Sat, 05 Jan 2008) New Revision: 39772 Modified:\n",
            "can modify how you receive notifications at My Workspace > Preferences. From david.horwitz@uct.ac.za Fri Jan 4\n",
            "set sender to david.horwitz@uct.ac.za using -f To: source@collab.sakaiproject.org From: david.horwitz@uct.ac.za Subject:\n",
            "charset=UTF-8 X-Content-Type-Message-Body: text/plain; charset=UTF-8 Content-Type: text/plain; charset=UTF-8 XDSPAM-Result: Innocent X-DSPAM-Processed: Fri Jan 4 07:02:32 2008 X-DSPAM-Confidence: 0.6526 X-DSPAMProbability: 0.0000 Details: http://source.sakaiproject.org/viewsvn/?view=rev&rev=39754 Author: david.horwitz@uct.ac.za\n",
            "r39753 | david.horwitz@uct.ac.za | 2008-01-04 13:05:51 +0200 (Fri, 04 Jan 2008) | 1 line SAK-12228 implmented\n",
            "> Preferences. From david.horwitz@uct.ac.za Fri Jan 4 06:08:27 2008 Return-Path: Received: from murder\n",
            "set sender to david.horwitz@uct.ac.za using -f To: source@collab.sakaiproject.org From: david.horwitz@uct.ac.za Subject:\n",
            "charset=UTF-8 X-Content-Type-Message-Body: text/plain; charset=UTF-8 Content-Type: text/plain; charset=UTF-8 XDSPAM-Result: Innocent X-DSPAM-Processed: Fri Jan 4 06:08:27 2008 X-DSPAM-Confidence: 0.6948 X-DSPAMProbability: 0.0000 Details: http://source.sakaiproject.org/viewsvn/?view=rev&rev=39753 Author: david.horwitz@uct.ac.za\n",
            "Workspace > Preferences. From david.horwitz@uct.ac.za Fri Jan 4 04:49:08 2008 Return-Path: Received: from murder\n",
            "set sender to david.horwitz@uct.ac.za using -f To: source@collab.sakaiproject.org From: david.horwitz@uct.ac.za Subject:\n",
            "Author: david.horwitz@uct.ac.za Date: 2008-01-04 04:47:16 -0500 (Fri, 04 Jan 2008) New Revision: 39752 Modified:\n",
            "receive notifications at My Workspace > Preferences. From david.horwitz@uct.ac.za Fri Jan 4 04:33:44 2008 Return-Path:\n",
            "set sender to david.horwitz@uct.ac.za using -f To: source@collab.sakaiproject.org From: david.horwitz@uct.ac.za Subject:\n",
            "Author: david.horwitz@uct.ac.za Date: 2008-01-04 04:31:35 -0500 (Fri, 04 Jan 2008) New Revision: 39751 Removed:\n",
            "stephen.marquard@uct.ac.za Fri Jan 4 04:07:34 2008 Return-Path: Received: from murder (mail.umich.edu\n",
            "set sender to stephen.marquard@uct.ac.za using -f To: source@collab.sakaiproject.org From:\n",
            "stephen.marquard@uct.ac.za Subject: [sakai] svn commit: r39750 - event/branches/SAK-6216/eventutil/util/src/java/org/sakaiproject/util X-Content-Type-Outer-Envelope: text/plain; charset=UTF-8 X-Content-Type-MessageBody: text/plain; charset=UTF-8 Content-Type: text/plain; charset=UTF-8 X-DSPAM-Result: Innocent X-DSPAM-Processed:\n",
            "http://source.sakaiproject.org/viewsvn/?view=rev&rev=39750 Author: stephen.marquard@uct.ac.za Date: 2008-01-04\n"
          ]
        }
      ]
    },
    {
      "cell_type": "markdown",
      "source": [
        "#Q9. Write a python code to print ip address"
      ],
      "metadata": {
        "id": "QpgGkaxhqJSd"
      }
    },
    {
      "cell_type": "code",
      "source": [
        "import re\n",
        "\n",
        "def extract_ip_addresses(file_path, ip_pattern):\n",
        "    try:\n",
        "        with open(file_path, 'r') as file:\n",
        "            lines = file.readlines()\n",
        "            ip_addresses = [ip for line in lines for ip in re.findall(ip_pattern, line)]\n",
        "            return ip_addresses\n",
        "    except FileNotFoundError:\n",
        "        return []\n",
        "\n",
        "file_path = 'mob.txt'\n",
        "ip_pattern = r'\\b(?:\\d{1,3}\\.){3}\\d{1,3}\\b'\n",
        "\n",
        "ip_addresses = extract_ip_addresses(file_path, ip_pattern)\n",
        "\n",
        "if ip_addresses:\n",
        "    print(f\"Total IP addresses found: {len(ip_addresses)}\")\n",
        "    print(\"IP addresses found:\")\n",
        "    for ip in ip_addresses:\n",
        "        print(ip)\n",
        "else:\n",
        "    print(\"No IP addresses were found.\")\n",
        "\n"
      ],
      "metadata": {
        "colab": {
          "base_uri": "https://localhost:8080/",
          "height": 0
        },
        "id": "_4QpDuQLp94N",
        "outputId": "9564df7c-cf8d-4b2b-d406-1972ecd4abd9"
      },
      "execution_count": 37,
      "outputs": [
        {
          "output_type": "stream",
          "name": "stdout",
          "text": [
            "Total IP addresses found: 189\n",
            "IP addresses found:\n",
            "141.211.14.90\n",
            "141.211.14.79\n",
            "194.35.219.184\n",
            "127.0.0.1\n",
            "194.35.219.182\n",
            "134.68.220.122\n",
            "127.0.0.1\n",
            "141.211.14.97\n",
            "141.211.93.149\n",
            "194.35.219.184\n",
            "127.0.0.1\n",
            "194.35.219.182\n",
            "134.68.220.122\n",
            "127.0.0.1\n",
            "141.211.14.25\n",
            "141.211.93.144\n",
            "194.35.219.184\n",
            "127.0.0.1\n",
            "194.35.219.182\n",
            "134.68.220.122\n",
            "127.0.0.1\n",
            "141.211.14.25\n",
            "141.211.14.43\n",
            "194.35.219.184\n",
            "127.0.0.1\n",
            "194.35.219.182\n",
            "134.68.220.122\n",
            "127.0.0.1\n",
            "141.211.14.46\n",
            "141.211.14.83\n",
            "194.35.219.184\n",
            "127.0.0.1\n",
            "194.35.219.182\n",
            "134.68.220.122\n",
            "127.0.0.1\n",
            "141.211.14.93\n",
            "141.211.93.142\n",
            "194.35.219.184\n",
            "127.0.0.1\n",
            "194.35.219.182\n",
            "134.68.220.122\n",
            "127.0.0.1\n",
            "141.211.14.46\n",
            "141.211.14.72\n",
            "194.35.219.184\n",
            "127.0.0.1\n",
            "194.35.219.182\n",
            "134.68.220.122\n",
            "127.0.0.1\n",
            "141.211.14.46\n",
            "141.211.93.151\n",
            "194.35.219.184\n",
            "127.0.0.1\n",
            "194.35.219.182\n",
            "134.68.220.122\n",
            "127.0.0.1\n",
            "141.211.14.25\n",
            "141.211.14.79\n",
            "194.35.219.184\n",
            "127.0.0.1\n",
            "194.35.219.182\n",
            "134.68.220.122\n",
            "127.0.0.1\n",
            "141.211.14.36\n",
            "141.211.14.84\n",
            "194.35.219.184\n",
            "127.0.0.1\n",
            "194.35.219.182\n",
            "134.68.220.122\n",
            "127.0.0.1\n",
            "141.211.14.97\n",
            "141.211.93.152\n",
            "194.35.219.184\n",
            "127.0.0.1\n",
            "194.35.219.182\n",
            "134.68.220.122\n",
            "127.0.0.1\n",
            "141.211.14.39\n",
            "141.211.14.79\n",
            "194.35.219.184\n",
            "127.0.0.1\n",
            "194.35.219.182\n",
            "134.68.220.122\n",
            "127.0.0.1\n",
            "141.211.14.90\n",
            "141.211.93.153\n",
            "194.35.219.184\n",
            "127.0.0.1\n",
            "194.35.219.182\n",
            "134.68.220.122\n",
            "127.0.0.1\n",
            "141.211.14.97\n",
            "141.211.14.84\n",
            "194.35.219.184\n",
            "127.0.0.1\n",
            "194.35.219.182\n",
            "134.68.220.122\n",
            "127.0.0.1\n",
            "141.211.14.25\n",
            "141.211.14.79\n",
            "194.35.219.184\n",
            "127.0.0.1\n",
            "194.35.219.182\n",
            "134.68.220.122\n",
            "127.0.0.1\n",
            "141.211.14.90\n",
            "141.211.14.76\n",
            "194.35.219.184\n",
            "127.0.0.1\n",
            "194.35.219.182\n",
            "134.68.220.122\n",
            "127.0.0.1\n",
            "141.211.14.39\n",
            "141.211.14.76\n",
            "194.35.219.184\n",
            "127.0.0.1\n",
            "194.35.219.182\n",
            "134.68.220.122\n",
            "127.0.0.1\n",
            "141.211.14.98\n",
            "141.211.14.83\n",
            "194.35.219.184\n",
            "127.0.0.1\n",
            "194.35.219.182\n",
            "134.68.220.122\n",
            "127.0.0.1\n",
            "141.211.14.92\n",
            "141.211.93.145\n",
            "194.35.219.184\n",
            "127.0.0.1\n",
            "194.35.219.182\n",
            "134.68.220.122\n",
            "127.0.0.1\n",
            "141.211.14.46\n",
            "141.211.93.143\n",
            "194.35.219.184\n",
            "127.0.0.1\n",
            "194.35.219.182\n",
            "134.68.220.122\n",
            "127.0.0.1\n",
            "141.211.14.25\n",
            "141.211.14.58\n",
            "194.35.219.184\n",
            "127.0.0.1\n",
            "194.35.219.182\n",
            "134.68.220.122\n",
            "127.0.0.1\n",
            "141.211.14.91\n",
            "141.211.93.142\n",
            "194.35.219.184\n",
            "127.0.0.1\n",
            "194.35.219.182\n",
            "134.68.220.122\n",
            "127.0.0.1\n",
            "141.211.14.91\n",
            "141.211.14.58\n",
            "194.35.219.184\n",
            "127.0.0.1\n",
            "194.35.219.182\n",
            "134.68.220.122\n",
            "127.0.0.1\n",
            "141.211.14.39\n",
            "141.211.93.141\n",
            "194.35.219.184\n",
            "127.0.0.1\n",
            "194.35.219.182\n",
            "134.68.220.122\n",
            "127.0.0.1\n",
            "141.211.14.34\n",
            "141.211.93.149\n",
            "194.35.219.184\n",
            "127.0.0.1\n",
            "194.35.219.182\n",
            "134.68.220.122\n",
            "127.0.0.1\n",
            "141.211.14.46\n",
            "141.211.93.145\n",
            "194.35.219.184\n",
            "127.0.0.1\n",
            "194.35.219.182\n",
            "134.68.220.122\n",
            "127.0.0.1\n",
            "141.211.14.91\n",
            "141.211.14.58\n",
            "194.35.219.184\n",
            "127.0.0.1\n",
            "194.35.219.182\n",
            "134.68.220.122\n",
            "127.0.0.1\n"
          ]
        }
      ]
    },
    {
      "cell_type": "markdown",
      "source": [
        "# PostLab: Demonstrate glob filename pattern matching using a suitable example.python code for it"
      ],
      "metadata": {
        "id": "jAdIMazLq--c"
      }
    },
    {
      "cell_type": "code",
      "source": [
        "import glob\n",
        "\n",
        "fileName = 'mob.txt'\n",
        "\n",
        "matching_files = glob.glob(fileName)\n",
        "\n",
        "if matching_files:\n",
        "    print(\"Matching files found:\")\n",
        "    for file_path in matching_files:\n",
        "        print(file_path)\n",
        "else:\n",
        "    print(\"No matching files were found.\")\n"
      ],
      "metadata": {
        "colab": {
          "base_uri": "https://localhost:8080/",
          "height": 0
        },
        "id": "jpQVQBDCqcip",
        "outputId": "d9dfe1ec-3fe1-42d8-f8c1-a09905ef8945"
      },
      "execution_count": 28,
      "outputs": [
        {
          "output_type": "stream",
          "name": "stdout",
          "text": [
            "Matching files found:\n",
            "mob.txt\n"
          ]
        }
      ]
    }
  ]
}